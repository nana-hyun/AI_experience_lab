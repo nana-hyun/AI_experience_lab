{
  "nbformat": 4,
  "nbformat_minor": 0,
  "metadata": {
    "colab": {
      "name": "Ch 5.ipynb",
      "provenance": [],
      "toc_visible": true,
      "mount_file_id": "1tFDtgMs-NEo7tzvYNqlF4gHdhFyqtlk3",
      "authorship_tag": "ABX9TyNuyS1u2+YlC4KLowQfqPMg",
      "include_colab_link": true
    },
    "kernelspec": {
      "name": "python3",
      "display_name": "Python 3"
    },
    "language_info": {
      "name": "python"
    }
  },
  "cells": [
    {
      "cell_type": "markdown",
      "metadata": {
        "id": "view-in-github",
        "colab_type": "text"
      },
      "source": [
        "<a href=\"https://colab.research.google.com/github/nana-hyun/AI_experience_lab/blob/main/Ch_5.ipynb\" target=\"_parent\"><img src=\"https://colab.research.google.com/assets/colab-badge.svg\" alt=\"Open In Colab\"/></a>"
      ]
    },
    {
      "cell_type": "code",
      "source": [
        "# Python ≥3.5 is required\n",
        "import sys\n",
        "assert sys.version_info >= (3, 5)\n",
        "\n",
        "# Scikit-Learn ≥0.20 is required\n",
        "import sklearn\n",
        "assert sklearn.__version__ >= \"0.20\""
      ],
      "metadata": {
        "id": "ztz1Av1CW5rr"
      },
      "execution_count": 1,
      "outputs": []
    },
    {
      "cell_type": "code",
      "source": [
        "# Code example\n",
        "import matplotlib.pyplot as plt\n",
        "import numpy as np\n",
        "import pandas as pd\n",
        "import sklearn.linear_model"
      ],
      "metadata": {
        "id": "jq7iJHFrW_k1"
      },
      "execution_count": 2,
      "outputs": []
    },
    {
      "cell_type": "code",
      "source": [
        "# Load the data\n",
        "data = pd.read_csv(\"/content/drive/MyDrive/team-a/0-data/adni-fs.csv\")\n",
        "\n",
        "TA = data.filter(regex=\"TA$\")\n",
        "\n",
        "data_extracted= pd.merge(left=data[['diagnosis']], right=TA, left_index=True, right_index=True)\n",
        "data_extracted = data_extracted.drop(data_extracted[data_extracted['diagnosis']== 'MCI'].index)\n",
        "data_extracted = data_extracted.dropna()\n",
        "data_extracted = data_extracted.reset_index(drop=True)  #index reset\n",
        "data_extracted"
      ],
      "metadata": {
        "colab": {
          "base_uri": "https://localhost:8080/",
          "height": 488
        },
        "id": "DbsgHyEWXDE_",
        "outputId": "d55f1144-4f5f-4c56-ffe6-5ae6b5945398"
      },
      "execution_count": 3,
      "outputs": [
        {
          "output_type": "execute_result",
          "data": {
            "text/plain": [
              "    diagnosis  ST13TA  ST14TA  ST15TA  ST23TA  ST24TA  ST25TA  ST26TA  ST31TA  \\\n",
              "0          AD   2.283   2.306   2.442   1.584   1.692   2.526   2.196   2.072   \n",
              "1          CN   2.225   2.466   2.418   1.560   2.846   2.780   2.445   2.333   \n",
              "2          AD   1.725   2.847   2.207   1.764   2.015   3.013   2.211   2.222   \n",
              "3          CN   2.164   2.963   2.368   1.743   3.489   2.463   2.807   2.207   \n",
              "4          AD   2.169   2.882   2.371   1.631   3.941   2.266   2.678   2.156   \n",
              "..        ...     ...     ...     ...     ...     ...     ...     ...     ...   \n",
              "736        CN   2.372   3.080   2.332   1.753   3.160   2.254   2.642   2.231   \n",
              "737        CN   2.399   3.049   2.371   2.072   3.087   2.490   2.711   2.254   \n",
              "738        CN   2.323   2.910   2.494   1.930   3.850   2.770   2.674   2.378   \n",
              "739        CN   2.330   3.316   2.486   2.078   3.576   2.793   2.965   2.392   \n",
              "740        CN   2.440   3.045   2.630   1.960   3.831   3.324   3.005   2.479   \n",
              "\n",
              "     ST32TA  ...  ST113TA  ST114TA  ST115TA  ST116TA  ST117TA  ST118TA  \\\n",
              "0     2.487  ...    2.673    2.010    2.420    1.891    2.320    2.278   \n",
              "1     2.687  ...    2.899    2.159    2.564    2.033    2.250    2.397   \n",
              "2     2.196  ...    3.570    2.260    2.525    1.930    2.315    2.211   \n",
              "3     2.940  ...    2.556    2.208    2.487    2.047    2.155    2.314   \n",
              "4     2.784  ...    2.610    2.082    2.567    1.949    2.298    2.334   \n",
              "..      ...  ...      ...      ...      ...      ...      ...      ...   \n",
              "736   2.613  ...    2.950    1.866    2.283    1.978    2.421    1.994   \n",
              "737   2.697  ...    2.992    2.037    2.523    2.178    2.749    2.438   \n",
              "738   2.776  ...    2.414    2.045    2.512    2.173    2.761    2.394   \n",
              "739   2.894  ...    2.526    2.255    2.591    2.123    2.859    2.471   \n",
              "740   2.843  ...    3.363    2.290    2.629    2.210    2.750    2.579   \n",
              "\n",
              "     ST119TA  ST121TA  ST129TA  ST130TA  \n",
              "0      2.701    2.327    2.451    2.547  \n",
              "1      3.708    2.162    2.668    3.022  \n",
              "2      2.904    2.104    2.485    2.461  \n",
              "3      3.056    2.213    2.789    2.955  \n",
              "4      4.070    2.319    2.734    2.941  \n",
              "..       ...      ...      ...      ...  \n",
              "736    3.131    1.606    2.695    2.546  \n",
              "737    4.373    2.266    2.972    2.951  \n",
              "738    3.919    2.373    2.980    2.920  \n",
              "739    3.677    2.596    2.937    3.016  \n",
              "740    3.797    2.454    2.940    2.830  \n",
              "\n",
              "[741 rows x 69 columns]"
            ],
            "text/html": [
              "\n",
              "  <div id=\"df-af5b3eeb-fb82-48b5-8a53-745653b36344\">\n",
              "    <div class=\"colab-df-container\">\n",
              "      <div>\n",
              "<style scoped>\n",
              "    .dataframe tbody tr th:only-of-type {\n",
              "        vertical-align: middle;\n",
              "    }\n",
              "\n",
              "    .dataframe tbody tr th {\n",
              "        vertical-align: top;\n",
              "    }\n",
              "\n",
              "    .dataframe thead th {\n",
              "        text-align: right;\n",
              "    }\n",
              "</style>\n",
              "<table border=\"1\" class=\"dataframe\">\n",
              "  <thead>\n",
              "    <tr style=\"text-align: right;\">\n",
              "      <th></th>\n",
              "      <th>diagnosis</th>\n",
              "      <th>ST13TA</th>\n",
              "      <th>ST14TA</th>\n",
              "      <th>ST15TA</th>\n",
              "      <th>ST23TA</th>\n",
              "      <th>ST24TA</th>\n",
              "      <th>ST25TA</th>\n",
              "      <th>ST26TA</th>\n",
              "      <th>ST31TA</th>\n",
              "      <th>ST32TA</th>\n",
              "      <th>...</th>\n",
              "      <th>ST113TA</th>\n",
              "      <th>ST114TA</th>\n",
              "      <th>ST115TA</th>\n",
              "      <th>ST116TA</th>\n",
              "      <th>ST117TA</th>\n",
              "      <th>ST118TA</th>\n",
              "      <th>ST119TA</th>\n",
              "      <th>ST121TA</th>\n",
              "      <th>ST129TA</th>\n",
              "      <th>ST130TA</th>\n",
              "    </tr>\n",
              "  </thead>\n",
              "  <tbody>\n",
              "    <tr>\n",
              "      <th>0</th>\n",
              "      <td>AD</td>\n",
              "      <td>2.283</td>\n",
              "      <td>2.306</td>\n",
              "      <td>2.442</td>\n",
              "      <td>1.584</td>\n",
              "      <td>1.692</td>\n",
              "      <td>2.526</td>\n",
              "      <td>2.196</td>\n",
              "      <td>2.072</td>\n",
              "      <td>2.487</td>\n",
              "      <td>...</td>\n",
              "      <td>2.673</td>\n",
              "      <td>2.010</td>\n",
              "      <td>2.420</td>\n",
              "      <td>1.891</td>\n",
              "      <td>2.320</td>\n",
              "      <td>2.278</td>\n",
              "      <td>2.701</td>\n",
              "      <td>2.327</td>\n",
              "      <td>2.451</td>\n",
              "      <td>2.547</td>\n",
              "    </tr>\n",
              "    <tr>\n",
              "      <th>1</th>\n",
              "      <td>CN</td>\n",
              "      <td>2.225</td>\n",
              "      <td>2.466</td>\n",
              "      <td>2.418</td>\n",
              "      <td>1.560</td>\n",
              "      <td>2.846</td>\n",
              "      <td>2.780</td>\n",
              "      <td>2.445</td>\n",
              "      <td>2.333</td>\n",
              "      <td>2.687</td>\n",
              "      <td>...</td>\n",
              "      <td>2.899</td>\n",
              "      <td>2.159</td>\n",
              "      <td>2.564</td>\n",
              "      <td>2.033</td>\n",
              "      <td>2.250</td>\n",
              "      <td>2.397</td>\n",
              "      <td>3.708</td>\n",
              "      <td>2.162</td>\n",
              "      <td>2.668</td>\n",
              "      <td>3.022</td>\n",
              "    </tr>\n",
              "    <tr>\n",
              "      <th>2</th>\n",
              "      <td>AD</td>\n",
              "      <td>1.725</td>\n",
              "      <td>2.847</td>\n",
              "      <td>2.207</td>\n",
              "      <td>1.764</td>\n",
              "      <td>2.015</td>\n",
              "      <td>3.013</td>\n",
              "      <td>2.211</td>\n",
              "      <td>2.222</td>\n",
              "      <td>2.196</td>\n",
              "      <td>...</td>\n",
              "      <td>3.570</td>\n",
              "      <td>2.260</td>\n",
              "      <td>2.525</td>\n",
              "      <td>1.930</td>\n",
              "      <td>2.315</td>\n",
              "      <td>2.211</td>\n",
              "      <td>2.904</td>\n",
              "      <td>2.104</td>\n",
              "      <td>2.485</td>\n",
              "      <td>2.461</td>\n",
              "    </tr>\n",
              "    <tr>\n",
              "      <th>3</th>\n",
              "      <td>CN</td>\n",
              "      <td>2.164</td>\n",
              "      <td>2.963</td>\n",
              "      <td>2.368</td>\n",
              "      <td>1.743</td>\n",
              "      <td>3.489</td>\n",
              "      <td>2.463</td>\n",
              "      <td>2.807</td>\n",
              "      <td>2.207</td>\n",
              "      <td>2.940</td>\n",
              "      <td>...</td>\n",
              "      <td>2.556</td>\n",
              "      <td>2.208</td>\n",
              "      <td>2.487</td>\n",
              "      <td>2.047</td>\n",
              "      <td>2.155</td>\n",
              "      <td>2.314</td>\n",
              "      <td>3.056</td>\n",
              "      <td>2.213</td>\n",
              "      <td>2.789</td>\n",
              "      <td>2.955</td>\n",
              "    </tr>\n",
              "    <tr>\n",
              "      <th>4</th>\n",
              "      <td>AD</td>\n",
              "      <td>2.169</td>\n",
              "      <td>2.882</td>\n",
              "      <td>2.371</td>\n",
              "      <td>1.631</td>\n",
              "      <td>3.941</td>\n",
              "      <td>2.266</td>\n",
              "      <td>2.678</td>\n",
              "      <td>2.156</td>\n",
              "      <td>2.784</td>\n",
              "      <td>...</td>\n",
              "      <td>2.610</td>\n",
              "      <td>2.082</td>\n",
              "      <td>2.567</td>\n",
              "      <td>1.949</td>\n",
              "      <td>2.298</td>\n",
              "      <td>2.334</td>\n",
              "      <td>4.070</td>\n",
              "      <td>2.319</td>\n",
              "      <td>2.734</td>\n",
              "      <td>2.941</td>\n",
              "    </tr>\n",
              "    <tr>\n",
              "      <th>...</th>\n",
              "      <td>...</td>\n",
              "      <td>...</td>\n",
              "      <td>...</td>\n",
              "      <td>...</td>\n",
              "      <td>...</td>\n",
              "      <td>...</td>\n",
              "      <td>...</td>\n",
              "      <td>...</td>\n",
              "      <td>...</td>\n",
              "      <td>...</td>\n",
              "      <td>...</td>\n",
              "      <td>...</td>\n",
              "      <td>...</td>\n",
              "      <td>...</td>\n",
              "      <td>...</td>\n",
              "      <td>...</td>\n",
              "      <td>...</td>\n",
              "      <td>...</td>\n",
              "      <td>...</td>\n",
              "      <td>...</td>\n",
              "      <td>...</td>\n",
              "    </tr>\n",
              "    <tr>\n",
              "      <th>736</th>\n",
              "      <td>CN</td>\n",
              "      <td>2.372</td>\n",
              "      <td>3.080</td>\n",
              "      <td>2.332</td>\n",
              "      <td>1.753</td>\n",
              "      <td>3.160</td>\n",
              "      <td>2.254</td>\n",
              "      <td>2.642</td>\n",
              "      <td>2.231</td>\n",
              "      <td>2.613</td>\n",
              "      <td>...</td>\n",
              "      <td>2.950</td>\n",
              "      <td>1.866</td>\n",
              "      <td>2.283</td>\n",
              "      <td>1.978</td>\n",
              "      <td>2.421</td>\n",
              "      <td>1.994</td>\n",
              "      <td>3.131</td>\n",
              "      <td>1.606</td>\n",
              "      <td>2.695</td>\n",
              "      <td>2.546</td>\n",
              "    </tr>\n",
              "    <tr>\n",
              "      <th>737</th>\n",
              "      <td>CN</td>\n",
              "      <td>2.399</td>\n",
              "      <td>3.049</td>\n",
              "      <td>2.371</td>\n",
              "      <td>2.072</td>\n",
              "      <td>3.087</td>\n",
              "      <td>2.490</td>\n",
              "      <td>2.711</td>\n",
              "      <td>2.254</td>\n",
              "      <td>2.697</td>\n",
              "      <td>...</td>\n",
              "      <td>2.992</td>\n",
              "      <td>2.037</td>\n",
              "      <td>2.523</td>\n",
              "      <td>2.178</td>\n",
              "      <td>2.749</td>\n",
              "      <td>2.438</td>\n",
              "      <td>4.373</td>\n",
              "      <td>2.266</td>\n",
              "      <td>2.972</td>\n",
              "      <td>2.951</td>\n",
              "    </tr>\n",
              "    <tr>\n",
              "      <th>738</th>\n",
              "      <td>CN</td>\n",
              "      <td>2.323</td>\n",
              "      <td>2.910</td>\n",
              "      <td>2.494</td>\n",
              "      <td>1.930</td>\n",
              "      <td>3.850</td>\n",
              "      <td>2.770</td>\n",
              "      <td>2.674</td>\n",
              "      <td>2.378</td>\n",
              "      <td>2.776</td>\n",
              "      <td>...</td>\n",
              "      <td>2.414</td>\n",
              "      <td>2.045</td>\n",
              "      <td>2.512</td>\n",
              "      <td>2.173</td>\n",
              "      <td>2.761</td>\n",
              "      <td>2.394</td>\n",
              "      <td>3.919</td>\n",
              "      <td>2.373</td>\n",
              "      <td>2.980</td>\n",
              "      <td>2.920</td>\n",
              "    </tr>\n",
              "    <tr>\n",
              "      <th>739</th>\n",
              "      <td>CN</td>\n",
              "      <td>2.330</td>\n",
              "      <td>3.316</td>\n",
              "      <td>2.486</td>\n",
              "      <td>2.078</td>\n",
              "      <td>3.576</td>\n",
              "      <td>2.793</td>\n",
              "      <td>2.965</td>\n",
              "      <td>2.392</td>\n",
              "      <td>2.894</td>\n",
              "      <td>...</td>\n",
              "      <td>2.526</td>\n",
              "      <td>2.255</td>\n",
              "      <td>2.591</td>\n",
              "      <td>2.123</td>\n",
              "      <td>2.859</td>\n",
              "      <td>2.471</td>\n",
              "      <td>3.677</td>\n",
              "      <td>2.596</td>\n",
              "      <td>2.937</td>\n",
              "      <td>3.016</td>\n",
              "    </tr>\n",
              "    <tr>\n",
              "      <th>740</th>\n",
              "      <td>CN</td>\n",
              "      <td>2.440</td>\n",
              "      <td>3.045</td>\n",
              "      <td>2.630</td>\n",
              "      <td>1.960</td>\n",
              "      <td>3.831</td>\n",
              "      <td>3.324</td>\n",
              "      <td>3.005</td>\n",
              "      <td>2.479</td>\n",
              "      <td>2.843</td>\n",
              "      <td>...</td>\n",
              "      <td>3.363</td>\n",
              "      <td>2.290</td>\n",
              "      <td>2.629</td>\n",
              "      <td>2.210</td>\n",
              "      <td>2.750</td>\n",
              "      <td>2.579</td>\n",
              "      <td>3.797</td>\n",
              "      <td>2.454</td>\n",
              "      <td>2.940</td>\n",
              "      <td>2.830</td>\n",
              "    </tr>\n",
              "  </tbody>\n",
              "</table>\n",
              "<p>741 rows × 69 columns</p>\n",
              "</div>\n",
              "      <button class=\"colab-df-convert\" onclick=\"convertToInteractive('df-af5b3eeb-fb82-48b5-8a53-745653b36344')\"\n",
              "              title=\"Convert this dataframe to an interactive table.\"\n",
              "              style=\"display:none;\">\n",
              "        \n",
              "  <svg xmlns=\"http://www.w3.org/2000/svg\" height=\"24px\"viewBox=\"0 0 24 24\"\n",
              "       width=\"24px\">\n",
              "    <path d=\"M0 0h24v24H0V0z\" fill=\"none\"/>\n",
              "    <path d=\"M18.56 5.44l.94 2.06.94-2.06 2.06-.94-2.06-.94-.94-2.06-.94 2.06-2.06.94zm-11 1L8.5 8.5l.94-2.06 2.06-.94-2.06-.94L8.5 2.5l-.94 2.06-2.06.94zm10 10l.94 2.06.94-2.06 2.06-.94-2.06-.94-.94-2.06-.94 2.06-2.06.94z\"/><path d=\"M17.41 7.96l-1.37-1.37c-.4-.4-.92-.59-1.43-.59-.52 0-1.04.2-1.43.59L10.3 9.45l-7.72 7.72c-.78.78-.78 2.05 0 2.83L4 21.41c.39.39.9.59 1.41.59.51 0 1.02-.2 1.41-.59l7.78-7.78 2.81-2.81c.8-.78.8-2.07 0-2.86zM5.41 20L4 18.59l7.72-7.72 1.47 1.35L5.41 20z\"/>\n",
              "  </svg>\n",
              "      </button>\n",
              "      \n",
              "  <style>\n",
              "    .colab-df-container {\n",
              "      display:flex;\n",
              "      flex-wrap:wrap;\n",
              "      gap: 12px;\n",
              "    }\n",
              "\n",
              "    .colab-df-convert {\n",
              "      background-color: #E8F0FE;\n",
              "      border: none;\n",
              "      border-radius: 50%;\n",
              "      cursor: pointer;\n",
              "      display: none;\n",
              "      fill: #1967D2;\n",
              "      height: 32px;\n",
              "      padding: 0 0 0 0;\n",
              "      width: 32px;\n",
              "    }\n",
              "\n",
              "    .colab-df-convert:hover {\n",
              "      background-color: #E2EBFA;\n",
              "      box-shadow: 0px 1px 2px rgba(60, 64, 67, 0.3), 0px 1px 3px 1px rgba(60, 64, 67, 0.15);\n",
              "      fill: #174EA6;\n",
              "    }\n",
              "\n",
              "    [theme=dark] .colab-df-convert {\n",
              "      background-color: #3B4455;\n",
              "      fill: #D2E3FC;\n",
              "    }\n",
              "\n",
              "    [theme=dark] .colab-df-convert:hover {\n",
              "      background-color: #434B5C;\n",
              "      box-shadow: 0px 1px 3px 1px rgba(0, 0, 0, 0.15);\n",
              "      filter: drop-shadow(0px 1px 2px rgba(0, 0, 0, 0.3));\n",
              "      fill: #FFFFFF;\n",
              "    }\n",
              "  </style>\n",
              "\n",
              "      <script>\n",
              "        const buttonEl =\n",
              "          document.querySelector('#df-af5b3eeb-fb82-48b5-8a53-745653b36344 button.colab-df-convert');\n",
              "        buttonEl.style.display =\n",
              "          google.colab.kernel.accessAllowed ? 'block' : 'none';\n",
              "\n",
              "        async function convertToInteractive(key) {\n",
              "          const element = document.querySelector('#df-af5b3eeb-fb82-48b5-8a53-745653b36344');\n",
              "          const dataTable =\n",
              "            await google.colab.kernel.invokeFunction('convertToInteractive',\n",
              "                                                     [key], {});\n",
              "          if (!dataTable) return;\n",
              "\n",
              "          const docLinkHtml = 'Like what you see? Visit the ' +\n",
              "            '<a target=\"_blank\" href=https://colab.research.google.com/notebooks/data_table.ipynb>data table notebook</a>'\n",
              "            + ' to learn more about interactive tables.';\n",
              "          element.innerHTML = '';\n",
              "          dataTable['output_type'] = 'display_data';\n",
              "          await google.colab.output.renderOutput(dataTable, element);\n",
              "          const docLink = document.createElement('div');\n",
              "          docLink.innerHTML = docLinkHtml;\n",
              "          element.appendChild(docLink);\n",
              "        }\n",
              "      </script>\n",
              "    </div>\n",
              "  </div>\n",
              "  "
            ]
          },
          "metadata": {},
          "execution_count": 3
        }
      ]
    },
    {
      "cell_type": "code",
      "source": [
        "#data shuffle\n",
        "\n",
        "df_shuffled = data_extracted.iloc[np.random.permutation(len(data_extracted))].reset_index(drop=True)"
      ],
      "metadata": {
        "id": "AfI5DNxdXmiV"
      },
      "execution_count": 4,
      "outputs": []
    },
    {
      "cell_type": "code",
      "source": [
        "# Prepare the data\n",
        "\n",
        "X= df_shuffled.filter(regex=\"TA$\").values\n",
        "y = df_shuffled['diagnosis'].values\n",
        "\n",
        "y[y == 'CN']= 0\n",
        "y[y == 'AD'] = 1"
      ],
      "metadata": {
        "id": "jTNLZ5_zX3MH"
      },
      "execution_count": 5,
      "outputs": []
    },
    {
      "cell_type": "code",
      "source": [
        "# draw plot\n",
        "\n",
        "y_arr = np.array(68 * [y])\n",
        "\n",
        "arrange =  np.array(range(68))\n",
        "arrange = np.array(741 * [arrange])\n",
        "\n",
        "plt.scatter(X.T,y_arr,c = arrange.T,alpha = 0.5, s= 30, cmap='Set3')\n",
        "plt.xlabel(\"_TA\", fontsize=18)\n",
        "plt.ylabel(\"CN/AD (0/1)\", rotation=90, fontsize=18)"
      ],
      "metadata": {
        "colab": {
          "base_uri": "https://localhost:8080/",
          "height": 305
        },
        "id": "2g3VPB4veYtw",
        "outputId": "a6cb42ee-8295-41d3-a4d5-5f115700508c"
      },
      "execution_count": 6,
      "outputs": [
        {
          "output_type": "execute_result",
          "data": {
            "text/plain": [
              "Text(0, 0.5, 'CN/AD (0/1)')"
            ]
          },
          "metadata": {},
          "execution_count": 6
        },
        {
          "output_type": "display_data",
          "data": {
            "text/plain": [
              "<Figure size 432x288 with 1 Axes>"
            ],
            "image/png": "[encoded data removed]"
          },
          "metadata": {
            "needs_background": "light"
          }
        }
      ]
    },
    {
      "cell_type": "code",
      "source": [
        "y=y.astype('int')"
      ],
      "metadata": {
        "id": "Fx_R8lxleMOn"
      },
      "execution_count": 7,
      "outputs": []
    },
    {
      "cell_type": "code",
      "source": [
        "from sklearn.model_selection import train_test_split\n",
        "\n",
        "X_train, X_test, y_train, y_test = train_test_split(X, y, test_size=0.2, shuffle=True, random_state=42)"
      ],
      "metadata": {
        "id": "UvqqbrLHm5bQ"
      },
      "execution_count": 8,
      "outputs": []
    },
    {
      "cell_type": "markdown",
      "source": [
        "# 4강+"
      ],
      "metadata": {
        "id": "iyd0kavH6jIj"
      }
    },
    {
      "cell_type": "markdown",
      "source": [
        "## Linear regression"
      ],
      "metadata": {
        "id": "Mbl9oy4-ppeG"
      }
    },
    {
      "cell_type": "code",
      "source": [
        "X_b = np.c_[np.ones((592,1)),X_train] #np.c_ : 배열붙이기, np.ones : 배열 생성 (1로 채움)\n",
        "print(X_b)\n",
        "\n",
        "theta_best = np.linalg.inv(X_b.T.dot(X_b)).dot(X_b.T).dot(y_train) #dot() : 행렬 곱셈\n",
        "\n",
        "theta_best"
      ],
      "metadata": {
        "colab": {
          "base_uri": "https://localhost:8080/"
        },
        "id": "mJOzpv0IpQtt",
        "outputId": "c81ac5b3-2902-4cb5-fb68-90f27f6e69cb"
      },
      "execution_count": 9,
      "outputs": [
        {
          "output_type": "stream",
          "name": "stdout",
          "text": [
            "[[1.    2.546 2.066 ... 1.791 2.917 3.022]\n",
            " [1.    2.163 3.025 ... 1.977 2.64  2.625]\n",
            " [1.    2.143 3.045 ... 2.749 2.769 2.845]\n",
            " ...\n",
            " [1.    2.021 2.47  ... 2.245 2.939 2.889]\n",
            " [1.    2.667 3.099 ... 1.813 3.163 3.019]\n",
            " [1.    1.808 2.703 ... 1.543 2.673 2.508]]\n"
          ]
        },
        {
          "output_type": "execute_result",
          "data": {
            "text/plain": [
              "array([ 2.40340503e+00, -1.22621872e-01,  3.88362753e-02, -1.29665661e-02,\n",
              "        4.72854986e-02, -3.07679797e-01, -1.70994830e-02,  2.40735812e-01,\n",
              "       -1.27445508e-01, -2.81785148e-01, -1.94427295e-01, -4.25510623e-02,\n",
              "        1.82485681e-01, -2.13810809e-01, -7.79961580e-02, -1.25610219e-01,\n",
              "        1.94283099e-01, -1.56624206e-01,  1.80000932e-01,  4.63924078e-02,\n",
              "        2.12333094e-01, -1.25006680e-01, -1.54120343e-01, -2.69585292e-02,\n",
              "       -9.47071446e-03,  4.30818355e-02, -7.40389686e-02, -1.26709417e-01,\n",
              "        1.27785505e-01,  5.17306757e-02, -1.86547681e-01, -1.88187960e-01,\n",
              "        1.73511200e-01,  1.07586038e-01, -1.62278476e-02, -2.82264643e-02,\n",
              "       -1.70116983e-01,  1.55936540e-01, -1.89488962e-01,  5.80504090e-02,\n",
              "        6.27235266e-03, -3.15327999e-01,  7.86696082e-02, -5.77289458e-02,\n",
              "        2.77525222e-02,  1.54186017e-01,  3.78942415e-01,  7.77720882e-04,\n",
              "       -2.36063511e-02, -6.50172198e-02,  1.91040021e-02, -2.55157262e-01,\n",
              "       -5.10993054e-02,  1.57505347e-01, -2.10991537e-01,  6.41554833e-02,\n",
              "        1.22533241e-01,  2.43638881e-01, -2.43687764e-01,  5.77065884e-02,\n",
              "       -1.66656191e-01, -1.17332486e-01,  2.30880120e-01, -8.27663056e-02,\n",
              "        4.08850685e-01, -8.79265299e-02,  2.49821022e-02,  1.24809430e-01,\n",
              "       -4.24711908e-02])"
            ]
          },
          "metadata": {},
          "execution_count": 9
        }
      ]
    },
    {
      "cell_type": "code",
      "source": [
        "X_new_b = np.c_[np.ones((149,1)), X_test] # 모든 샘플에 x0 = 1을 추가\n",
        "y_predict = X_new_b.dot(theta_best)\n",
        "\n",
        "plt.axis([-0.5, 5, -0.5, 2])\n",
        "\n",
        "plt.plot(X_new_b, y_predict,\"r-\")\n",
        "plt.plot(X, y, \"b.\")\n",
        "\n",
        "plt.show"
      ],
      "metadata": {
        "colab": {
          "base_uri": "https://localhost:8080/",
          "height": 287
        },
        "id": "6f80j1BXpwV1",
        "outputId": "bd6a13a6-3303-4b73-9ca3-cfbffe089e51"
      },
      "execution_count": 10,
      "outputs": [
        {
          "output_type": "execute_result",
          "data": {
            "text/plain": [
              "<function matplotlib.pyplot.show>"
            ]
          },
          "metadata": {},
          "execution_count": 10
        },
        {
          "output_type": "display_data",
          "data": {
            "text/plain": [
              "<Figure size 432x288 with 1 Axes>"
            ],
            "image/png": "[encoded data removed]"
          },
          "metadata": {
            "needs_background": "light"
          }
        }
      ]
    },
    {
      "cell_type": "code",
      "source": [
        "y_predict"
      ],
      "metadata": {
        "colab": {
          "base_uri": "https://localhost:8080/"
        },
        "id": "CDxoIciAr4XZ",
        "outputId": "c268fd9b-7d18-4f17-934c-f3a66eca8a5a"
      },
      "execution_count": 11,
      "outputs": [
        {
          "output_type": "execute_result",
          "data": {
            "text/plain": [
              "array([ 0.39929044, -0.08949123,  0.42909808,  0.46528891,  0.3430338 ,\n",
              "        1.0553434 ,  1.1885844 ,  0.16261405,  0.89912582, -0.04922554,\n",
              "        0.25952531,  0.82805093,  0.22551061,  0.16599535,  0.02088717,\n",
              "        0.74540482,  0.61532335,  0.80615889,  1.03109136,  0.02402954,\n",
              "        0.80461186,  0.87965398,  0.87167404,  0.33757073, -0.32765611,\n",
              "        0.21569342,  0.78750321,  0.50758389,  0.43227741,  0.07621308,\n",
              "        0.90320899, -0.05310182,  1.24551862,  0.43609382,  0.81593389,\n",
              "        0.05125916,  0.09945787, -0.15902356, -0.01170537,  0.25135913,\n",
              "       -0.06750461,  0.12818361, -0.20010542, -0.10700165, -0.14074798,\n",
              "       -0.23036671,  0.21020199,  0.91572442,  1.28493378,  0.07273489,\n",
              "        0.27958926,  0.39610245,  0.94166639,  0.98473814, -0.17286766,\n",
              "        0.21934682,  0.4297845 ,  0.34529857,  1.05553562,  0.56143567,\n",
              "        0.10790026,  0.18124778,  0.71243239,  0.15119792,  0.0355074 ,\n",
              "        0.05937409,  0.12855464,  0.00377281,  0.15293948, -0.03170606,\n",
              "        0.21833856,  0.21627243, -0.0809224 ,  0.5853933 ,  0.23090874,\n",
              "        0.82165556,  0.08585337,  0.17027733,  0.48556754,  0.69342742,\n",
              "        1.10478734,  0.06744199,  0.1872803 ,  0.21404195,  0.13646689,\n",
              "        0.25680732,  0.12354295, -0.15705805,  0.05714315,  0.13761132,\n",
              "       -0.01611519,  0.42673374,  0.41855773,  0.55736354,  0.31541356,\n",
              "        0.34237084,  0.51604444,  0.90443105,  0.17232121,  0.00861163,\n",
              "        0.88255193,  0.02958624,  0.05632944,  0.26245327,  0.29655299,\n",
              "        0.68953072,  0.28795531,  0.25617597,  0.52543096, -0.00299597,\n",
              "        0.21059979,  0.26650359,  0.72470611,  0.78475953,  0.22744111,\n",
              "        0.27174871,  0.87576822,  0.16622911,  0.42613786,  0.73778003,\n",
              "        0.12749753,  0.52404507, -0.05727502,  0.36317775,  0.3417368 ,\n",
              "        0.25661841, -0.250693  ,  0.14264847,  0.77808186,  0.05012293,\n",
              "        0.34427458,  0.34425213,  1.18630585, -0.0329659 ,  1.18515809,\n",
              "        0.28860932,  0.0347695 ,  0.59912203,  0.87141219,  0.29077827,\n",
              "        0.0287482 , -0.05600031,  0.00456162,  0.17048462,  0.18637647,\n",
              "        0.8567357 ,  0.42316267,  1.07355081,  0.11276502])"
            ]
          },
          "metadata": {},
          "execution_count": 11
        }
      ]
    },
    {
      "cell_type": "code",
      "source": [
        "plt.plot(y_test, y_predict,\"r.\")\n",
        "plt.show"
      ],
      "metadata": {
        "colab": {
          "base_uri": "https://localhost:8080/",
          "height": 283
        },
        "id": "7pc5AG2WsJQK",
        "outputId": "5033a18c-89be-4582-9ea4-5dc1f5e253cb"
      },
      "execution_count": 165,
      "outputs": [
        {
          "output_type": "execute_result",
          "data": {
            "text/plain": [
              "<function matplotlib.pyplot.show>"
            ]
          },
          "metadata": {},
          "execution_count": 165
        },
        {
          "output_type": "display_data",
          "data": {
            "text/plain": [
              "<Figure size 432x288 with 1 Axes>"
            ],
            "image/png": "[encoded data removed]"
          },
          "metadata": {
            "needs_background": "light"
          }
        }
      ]
    },
    {
      "cell_type": "code",
      "source": [
        "X_train, X_test = train_test_split(X, test_size=0.2, shuffle=True, random_state=42)\n",
        "\n",
        "# Select a linear model\n",
        "lin_model = sklearn.linear_model.LinearRegression()\n",
        "\n",
        "# Train the model\n",
        "lin_model.fit(X_train,y_train)"
      ],
      "metadata": {
        "colab": {
          "base_uri": "https://localhost:8080/"
        },
        "id": "kapXMOj0yBXO",
        "outputId": "83a1c488-03ac-41f4-f753-0ab033e7228a"
      },
      "execution_count": 12,
      "outputs": [
        {
          "output_type": "execute_result",
          "data": {
            "text/plain": [
              "LinearRegression()"
            ]
          },
          "metadata": {},
          "execution_count": 12
        }
      ]
    },
    {
      "cell_type": "code",
      "source": [
        "lin_model.intercept_, lin_model.coef_ # 기울기 ,절편"
      ],
      "metadata": {
        "colab": {
          "base_uri": "https://localhost:8080/"
        },
        "id": "aRhmUgrXy7iu",
        "outputId": "20846b0b-9e90-42fa-eafb-7e744f519d4d"
      },
      "execution_count": 194,
      "outputs": [
        {
          "output_type": "execute_result",
          "data": {
            "text/plain": [
              "(2.4013199039781075,\n",
              " array([-0.0999469 ,  0.00811076, -0.01311667,  0.05799191, -0.31970264,\n",
              "         0.01845517,  0.22188296, -0.28406637, -0.27436248, -0.15950263,\n",
              "         0.07057023,  0.047413  , -0.15656941, -0.23589944, -0.03797269,\n",
              "         0.20009668, -0.1495263 ,  0.16783243,  0.14527648,  0.23551691,\n",
              "        -0.21777409, -0.04994988, -0.04357524, -0.10347979,  0.08745998,\n",
              "        -0.03121915, -0.32132605,  0.05665392,  0.15203784, -0.09144127,\n",
              "        -0.15101325,  0.14699684,  0.12070398, -0.07961176, -0.00714148,\n",
              "        -0.18716127,  0.11781073, -0.19017194,  0.08903186, -0.07219065,\n",
              "        -0.36212502,  0.13757827,  0.02055102,  0.06623885,  0.26352558,\n",
              "         0.19111728, -0.00233633, -0.03993945,  0.03140739,  0.08168528,\n",
              "        -0.08263162, -0.17162542,  0.24605815, -0.02925831,  0.04113111,\n",
              "        -0.04514728,  0.19543124, -0.27545264,  0.02777599, -0.17060136,\n",
              "         0.0210159 ,  0.25831456, -0.19539644,  0.28692534, -0.08931785,\n",
              "        -0.00089483,  0.19863055,  0.01269082]))"
            ]
          },
          "metadata": {},
          "execution_count": 194
        }
      ]
    },
    {
      "cell_type": "code",
      "source": [
        "plt.plot(X_test, lin_model.intercept_*X_test + lin_model.coef_, \"r-\")\n",
        "plt.plot(X, y, \"b.\")\n",
        "\n",
        "plt.show"
      ],
      "metadata": {
        "colab": {
          "base_uri": "https://localhost:8080/",
          "height": 283
        },
        "id": "RDSLG-otzYkj",
        "outputId": "7ba2ddb2-df38-43c8-f62e-a9c4eb526cd8"
      },
      "execution_count": 195,
      "outputs": [
        {
          "output_type": "execute_result",
          "data": {
            "text/plain": [
              "<function matplotlib.pyplot.show>"
            ]
          },
          "metadata": {},
          "execution_count": 195
        },
        {
          "output_type": "display_data",
          "data": {
            "text/plain": [
              "<Figure size 432x288 with 1 Axes>"
            ],
            "image/png": "[encoded data removed]"
          },
          "metadata": {
            "needs_background": "light"
          }
        }
      ]
    },
    {
      "cell_type": "code",
      "source": [
        "y_new = lin_model.predict(X_test)\n",
        "plt.plot(y_test,y_new,'b.')"
      ],
      "metadata": {
        "colab": {
          "base_uri": "https://localhost:8080/",
          "height": 283
        },
        "id": "egUO772k6Spo",
        "outputId": "efb0b135-e173-4036-ee03-0b639d502350"
      },
      "execution_count": 228,
      "outputs": [
        {
          "output_type": "execute_result",
          "data": {
            "text/plain": [
              "[<matplotlib.lines.Line2D at 0x7fd67dac1d90>]"
            ]
          },
          "metadata": {},
          "execution_count": 228
        },
        {
          "output_type": "display_data",
          "data": {
            "text/plain": [
              "<Figure size 432x288 with 1 Axes>"
            ],
            "image/png": "[encoded data removed]"
          },
          "metadata": {
            "needs_background": "light"
          }
        }
      ]
    },
    {
      "cell_type": "markdown",
      "source": [
        "## SGD"
      ],
      "metadata": {
        "id": "zntpft7Y2BCi"
      }
    },
    {
      "cell_type": "code",
      "source": [
        "from sklearn.linear_model import SGDRegressor\n",
        "\n",
        "sgd_reg = SGDRegressor(max_iter = 1000, tol = 1e-3,random_state=42, penalty = None, eta0 = 0.1)\n",
        "sgd_reg.fit(X_train, y_train)\n",
        "\n",
        "sgd_reg.intercept_, sgd_reg.coef_"
      ],
      "metadata": {
        "colab": {
          "base_uri": "https://localhost:8080/"
        },
        "id": "cAZrXeEZ1nEu",
        "outputId": "9e233304-b4c3-4144-a19a-25a2a715f94e"
      },
      "execution_count": 226,
      "outputs": [
        {
          "output_type": "execute_result",
          "data": {
            "text/plain": [
              "(array([1.59447165e+10]),\n",
              " array([-7.93653870e+10, -1.72544435e+11,  2.09068314e+11,  7.21448124e+09,\n",
              "         1.69530112e+10,  6.28170124e+10,  1.40456073e+10, -4.57953253e+10,\n",
              "        -1.78423061e+11,  6.42562319e+09, -4.35021061e+10, -1.60193064e+11,\n",
              "         1.46297064e+11, -4.34177124e+09, -8.58077481e+10, -6.62771056e+10,\n",
              "         1.03893881e+11,  1.07545544e+11,  1.33976331e+11, -7.52951348e+10,\n",
              "         8.88226685e+10,  1.40022322e+11,  1.56599352e+10,  1.39568597e+11,\n",
              "        -2.82521915e+10,  5.30877104e+09,  2.69714842e+10,  2.14930326e+10,\n",
              "         1.87016766e+11, -4.87085303e+10,  9.86633142e+10,  3.54730240e+10,\n",
              "        -7.52652716e+10,  1.44099075e+11, -2.12016636e+11, -2.56654192e+11,\n",
              "         3.58866273e+10,  8.54931683e+10,  2.08942023e+10,  3.09783749e+10,\n",
              "         9.24969347e+10,  5.97136083e+09,  5.22067334e+10,  1.81123547e+11,\n",
              "         1.03351314e+10, -2.67028617e+11,  1.67095079e+11,  2.53909683e+10,\n",
              "         9.87782056e+10, -1.45417361e+11,  1.08857410e+11, -3.63150264e+10,\n",
              "        -1.21997007e+11, -6.39906340e+10, -6.61951589e+10,  1.70385002e+11,\n",
              "        -3.31465226e+10, -9.88027088e+10,  6.65481993e+09, -2.44159652e+10,\n",
              "        -5.76703960e+10,  1.57812673e+10,  9.82365505e+10, -4.89372926e+10,\n",
              "         1.48359145e+10,  2.55357960e+10,  3.75649244e+10, -1.89358939e+10]))"
            ]
          },
          "metadata": {},
          "execution_count": 226
        }
      ]
    },
    {
      "cell_type": "code",
      "source": [
        "y_new = sgd_reg.predict(X_test)\n",
        "plt.plot(y_test,y_new,'b.')"
      ],
      "metadata": {
        "colab": {
          "base_uri": "https://localhost:8080/",
          "height": 294
        },
        "id": "voEbiLHt58p3",
        "outputId": "cc22dde3-5da4-4e2f-d61f-2c2622d550b2"
      },
      "execution_count": 227,
      "outputs": [
        {
          "output_type": "execute_result",
          "data": {
            "text/plain": [
              "[<matplotlib.lines.Line2D at 0x7fd680ca4110>]"
            ]
          },
          "metadata": {},
          "execution_count": 227
        },
        {
          "output_type": "display_data",
          "data": {
            "text/plain": [
              "<Figure size 432x288 with 1 Axes>"
            ],
            "image/png": "[encoded data removed]"
          },
          "metadata": {
            "needs_background": "light"
          }
        }
      ]
    },
    {
      "cell_type": "markdown",
      "source": [
        "## polynomial"
      ],
      "metadata": {
        "id": "KCF8R1sC2Il1"
      }
    },
    {
      "cell_type": "code",
      "source": [
        "from sklearn.preprocessing import PolynomialFeatures\n",
        "\n",
        "poly_features = PolynomialFeatures(degree=2, include_bias=False)\n",
        "X_poly = poly_features.fit_transform(X_train)"
      ],
      "metadata": {
        "id": "XBCBbvHA1una"
      },
      "execution_count": 197,
      "outputs": []
    },
    {
      "cell_type": "code",
      "source": [
        "from sklearn.linear_model import LinearRegression\n",
        "lin_reg = LinearRegression()\n",
        "lin_reg.fit(X_poly, y_train)\n",
        "lin_reg.intercept_, lin_reg.coef_"
      ],
      "metadata": {
        "colab": {
          "base_uri": "https://localhost:8080/"
        },
        "id": "kot00Aqp2RmZ",
        "outputId": "b65ec011-d8bd-4484-89ae-f4128ea22f17"
      },
      "execution_count": 198,
      "outputs": [
        {
          "output_type": "execute_result",
          "data": {
            "text/plain": [
              "(5.261543914785361,\n",
              " array([-0.09491607, -0.00758706, -0.13863018, ..., -0.18111937,\n",
              "         0.03692118, -0.12420997]))"
            ]
          },
          "metadata": {},
          "execution_count": 198
        }
      ]
    },
    {
      "cell_type": "code",
      "source": [
        "#X_new=np.linspace(0, 5, 68).reshape(1, 68)\n",
        "\n",
        "X_new_poly = poly_features.transform(X_test)\n",
        "y_new = lin_reg.predict(X_new_poly)\n",
        "\n",
        "plt.plot(X_new_poly, y_new, \"r-\", linewidth=2, label=\"Predictions\")\n",
        "plt.plot(X, y, \"b.\")\n",
        "plt.xlabel(\"$x$\", fontsize=18)\n",
        "plt.ylabel(\"$y$\", rotation=0, fontsize=18)\n",
        "plt.axis([0, 5, -1, 3])\n",
        "plt.savefig(\"quadratic_predictions_plot\")\n",
        "plt.show()"
      ],
      "metadata": {
        "colab": {
          "base_uri": "https://localhost:8080/",
          "height": 291
        },
        "id": "u7EfVJ162iVa",
        "outputId": "212ba4e9-0a14-4fb3-f473-fb1ede9a9c14"
      },
      "execution_count": 207,
      "outputs": [
        {
          "output_type": "display_data",
          "data": {
            "text/plain": [
              "<Figure size 432x288 with 1 Axes>"
            ],
            "image/png": "[encoded data removed]"
          },
          "metadata": {
            "needs_background": "light"
          }
        }
      ]
    },
    {
      "cell_type": "code",
      "source": [
        "plt.plot(y_test,y_new,'b.')"
      ],
      "metadata": {
        "colab": {
          "base_uri": "https://localhost:8080/",
          "height": 283
        },
        "id": "XAHCkeGf5hNL",
        "outputId": "761afd70-a7fa-44c5-93fe-172a2c5cc08c"
      },
      "execution_count": 224,
      "outputs": [
        {
          "output_type": "execute_result",
          "data": {
            "text/plain": [
              "[<matplotlib.lines.Line2D at 0x7fd680cdb610>]"
            ]
          },
          "metadata": {},
          "execution_count": 224
        },
        {
          "output_type": "display_data",
          "data": {
            "text/plain": [
              "<Figure size 432x288 with 1 Axes>"
            ],
            "image/png": "[encoded data removed]"
          },
          "metadata": {
            "needs_background": "light"
          }
        }
      ]
    },
    {
      "cell_type": "markdown",
      "source": [
        "## Logistic regression"
      ],
      "metadata": {
        "id": "IRD_O3GA4LLf"
      }
    },
    {
      "cell_type": "code",
      "source": [
        "from sklearn.linear_model import LogisticRegression\n",
        "\n",
        "y_train = y_train.astype(np.int)\n",
        "log_reg = LogisticRegression(solver=\"lbfgs\", random_state=42)\n",
        "log_reg.fit(X_train, y_train)"
      ],
      "metadata": {
        "colab": {
          "base_uri": "https://localhost:8080/"
        },
        "id": "UvXg1loz4ByH",
        "outputId": "51917c13-801c-4b52-f1a0-546588474f07"
      },
      "execution_count": 219,
      "outputs": [
        {
          "output_type": "stream",
          "name": "stderr",
          "text": [
            "/usr/local/lib/python3.7/dist-packages/ipykernel_launcher.py:3: DeprecationWarning: `np.int` is a deprecated alias for the builtin `int`. To silence this warning, use `int` by itself. Doing this will not modify any behavior and is safe. When replacing `np.int`, you may wish to use e.g. `np.int64` or `np.int32` to specify the precision. If you wish to review your current use, check the release note link for additional information.\n",
            "Deprecated in NumPy 1.20; for more details and guidance: https://numpy.org/devdocs/release/1.20.0-notes.html#deprecations\n",
            "  This is separate from the ipykernel package so we can avoid doing imports until\n",
            "/usr/local/lib/python3.7/dist-packages/sklearn/linear_model/_logistic.py:818: ConvergenceWarning: lbfgs failed to converge (status=1):\n",
            "STOP: TOTAL NO. of ITERATIONS REACHED LIMIT.\n",
            "\n",
            "Increase the number of iterations (max_iter) or scale the data as shown in:\n",
            "    https://scikit-learn.org/stable/modules/preprocessing.html\n",
            "Please also refer to the documentation for alternative solver options:\n",
            "    https://scikit-learn.org/stable/modules/linear_model.html#logistic-regression\n",
            "  extra_warning_msg=_LOGISTIC_SOLVER_CONVERGENCE_MSG,\n"
          ]
        },
        {
          "output_type": "execute_result",
          "data": {
            "text/plain": [
              "LogisticRegression(random_state=42)"
            ]
          },
          "metadata": {},
          "execution_count": 219
        }
      ]
    },
    {
      "cell_type": "code",
      "source": [
        "y_proba = log_reg.predict_proba(X_test)"
      ],
      "metadata": {
        "id": "jkMG7__I4dRi"
      },
      "execution_count": 220,
      "outputs": []
    },
    {
      "cell_type": "code",
      "source": [
        "plt.plot(y_test,y_proba,'b.')"
      ],
      "metadata": {
        "colab": {
          "base_uri": "https://localhost:8080/",
          "height": 302
        },
        "id": "m-U0DKq54jZS",
        "outputId": "a60e8bde-159c-474d-e95d-a6c641b8fb9f"
      },
      "execution_count": 221,
      "outputs": [
        {
          "output_type": "execute_result",
          "data": {
            "text/plain": [
              "[<matplotlib.lines.Line2D at 0x7fd689f90690>,\n",
              " <matplotlib.lines.Line2D at 0x7fd689f908d0>]"
            ]
          },
          "metadata": {},
          "execution_count": 221
        },
        {
          "output_type": "display_data",
          "data": {
            "text/plain": [
              "<Figure size 432x288 with 1 Axes>"
            ],
            "image/png": "[encoded data removed]"
          },
          "metadata": {
            "needs_background": "light"
          }
        }
      ]
    },
    {
      "cell_type": "markdown",
      "source": [
        "# 5강 Support Vector Machine"
      ],
      "metadata": {
        "id": "dNH22JvZ6vjX"
      }
    },
    {
      "cell_type": "markdown",
      "source": [
        "## IRIS"
      ],
      "metadata": {
        "id": "z0YY0DfUZdwG"
      }
    },
    {
      "cell_type": "code",
      "source": [
        "# Python ≥3.5 is required\n",
        "import sys\n",
        "assert sys.version_info >= (3, 5)\n",
        "\n",
        "# Scikit-Learn ≥0.20 is required\n",
        "import sklearn\n",
        "assert sklearn.__version__ >= \"0.20\"\n",
        "\n",
        "# Common imports\n",
        "import numpy as np\n",
        "import os\n",
        "\n",
        "# to make this notebook's output stable across runs\n",
        "np.random.seed(42)\n",
        "\n",
        "# To plot pretty figures\n",
        "%matplotlib inline\n",
        "import matplotlib as mpl\n",
        "import matplotlib.pyplot as plt\n",
        "mpl.rc('axes', labelsize=14)\n",
        "mpl.rc('xtick', labelsize=12)\n",
        "mpl.rc('ytick', labelsize=12)\n",
        "\n",
        "# Where to save the figures\n",
        "PROJECT_ROOT_DIR = \".\"\n",
        "CHAPTER_ID = \"svm\"\n",
        "IMAGES_PATH = os.path.join(PROJECT_ROOT_DIR, \"images\", CHAPTER_ID)\n",
        "os.makedirs(IMAGES_PATH, exist_ok=True)\n",
        "\n",
        "def save_fig(fig_id, tight_layout=True, fig_extension=\"png\", resolution=300):\n",
        "    path = os.path.join(IMAGES_PATH, fig_id + \".\" + fig_extension)\n",
        "    print(\"Saving figure\", fig_id)\n",
        "    if tight_layout:\n",
        "        plt.tight_layout()\n",
        "    plt.savefig(path, format=fig_extension, dpi=resolution)"
      ],
      "metadata": {
        "id": "I2TEUR4CZdi3"
      },
      "execution_count": 13,
      "outputs": []
    },
    {
      "cell_type": "code",
      "source": [
        "from sklearn.svm import SVC\n",
        "from sklearn import datasets\n",
        "\n",
        "iris = datasets.load_iris()\n",
        "X1 = iris[\"data\"][:, (2, 3)]  # petal length, petal width\n",
        "y1 = iris[\"target\"]\n",
        "\n",
        "setosa_or_versicolor = (y1 == 0) | (y1 == 1)\n",
        "X1 = X1[setosa_or_versicolor]\n",
        "y1 = y1[setosa_or_versicolor]\n",
        "\n",
        "# SVM Classifier model\n",
        "svm_clf = SVC(kernel=\"linear\", C=float(\"inf\"))  #hard margin\n",
        "svm_clf.fit(X1, y1)"
      ],
      "metadata": {
        "colab": {
          "base_uri": "https://localhost:8080/"
        },
        "id": "qq02cCTuZchL",
        "outputId": "3e67aa86-3b87-4ede-e095-246af9688c63"
      },
      "execution_count": 14,
      "outputs": [
        {
          "output_type": "execute_result",
          "data": {
            "text/plain": [
              "SVC(C=inf, kernel='linear')"
            ]
          },
          "metadata": {},
          "execution_count": 14
        }
      ]
    },
    {
      "cell_type": "code",
      "source": [
        "svm_clf.coef_"
      ],
      "metadata": {
        "colab": {
          "base_uri": "https://localhost:8080/"
        },
        "id": "MsdGEYBFLB4m",
        "outputId": "7fe1a691-e769-47ab-cfb6-95d0344e8af7"
      },
      "execution_count": 23,
      "outputs": [
        {
          "output_type": "execute_result",
          "data": {
            "text/plain": [
              "array([[1.29411744, 0.82352928]])"
            ]
          },
          "metadata": {},
          "execution_count": 23
        }
      ]
    },
    {
      "cell_type": "code",
      "source": [
        "# Bad models\n",
        "x0 = np.linspace(0, 5.5, 200)\n",
        "pred_1 = 5*x0 - 20\n",
        "pred_2 = x0 - 1.8\n",
        "pred_3 = 0.1 * x0 + 0.5\n",
        "\n",
        "def plot_svc_decision_boundary(svm_clf, xmin, xmax):\n",
        "    w = svm_clf.coef_[0]\n",
        "    b = svm_clf.intercept_[0]\n",
        "\n",
        "    # At the decision boundary, w0*x0 + w1*x1 + b = 0\n",
        "    # => x1 = -w0/w1 * x0 - b/w1\n",
        "    x0 = np.linspace(xmin, xmax, 200)\n",
        "    decision_boundary = -w[0]/w[1] * x0 - b/w[1]\n",
        "    \n",
        "\n",
        "    margin = 1/w[1]\n",
        "    gutter_up = decision_boundary + margin\n",
        "    gutter_down = decision_boundary - margin\n",
        "\n",
        "    svs = svm_clf.support_vectors_\n",
        "    plt.scatter(svs[:, 0], svs[:, 1], s=180, facecolors='#FFAAAA')\n",
        "    plt.plot(x0, decision_boundary, \"k.\", linewidth=2)\n",
        "    plt.plot(x0, gutter_up, \"k--\", linewidth=2)\n",
        "    plt.plot(x0, gutter_down, \"k--\", linewidth=2)\n",
        "\n",
        "fig, axes = plt.subplots(ncols=2, figsize=(10,2.7), sharey=True)\n",
        "\n",
        "plt.sca(axes[0])\n",
        "plt.plot(x0, pred_1, \"g--\", linewidth=2)\n",
        "plt.plot(x0, pred_2, \"m-\", linewidth=2)\n",
        "plt.plot(x0, pred_3, \"r-\", linewidth=2)\n",
        "plt.plot(X1[:, 0][y1==1], X1[:, 1][y1==1], \"bs\", label=\"Iris versicolor\")\n",
        "plt.plot(X1[:, 0][y1==0], X1[:, 1][y1==0], \"yo\", label=\"Iris setosa\")\n",
        "plt.xlabel(\"Petal length\", fontsize=14)\n",
        "plt.ylabel(\"Petal width\", fontsize=14)\n",
        "plt.legend(loc=\"upper left\", fontsize=14)\n",
        "plt.axis([0, 5.5, 0, 2])\n",
        "\n",
        "plt.sca(axes[1])\n",
        "plot_svc_decision_boundary(svm_clf, 0, 5.5)\n",
        "plt.plot(X1[:, 0][y1==1], X1[:, 1][y1==1], \"bs\")\n",
        "plt.plot(X1[:, 0][y1==0], X1[:, 1][y1==0], \"yo\")\n",
        "plt.xlabel(\"Petal length\", fontsize=14)\n",
        "plt.axis([0, 5.5, 0, 2])\n",
        "\n",
        "save_fig(\"large_margin_classification_plot\")\n",
        "plt.show()"
      ],
      "metadata": {
        "colab": {
          "base_uri": "https://localhost:8080/",
          "height": 200
        },
        "id": "U0zt7WrdZ2-m",
        "outputId": "a9c06baa-b92b-46dd-843b-aa8aa424b8af"
      },
      "execution_count": 22,
      "outputs": [
        {
          "output_type": "stream",
          "name": "stdout",
          "text": [
            "Saving figure large_margin_classification_plot\n"
          ]
        },
        {
          "output_type": "display_data",
          "data": {
            "text/plain": [
              "<Figure size 720x194.4 with 2 Axes>"
            ],
            "image/png": "[encoded data removed]"
          },
          "metadata": {
            "needs_background": "light"
          }
        }
      ]
    },
    {
      "cell_type": "code",
      "source": [
        "Xs = np.array([[1, 50], [5, 20], [3, 80], [5, 60]]).astype(np.float64)\n",
        "ys = np.array([0, 0, 1, 1])\n",
        "svm_clf = SVC(kernel=\"linear\", C=100)\n",
        "svm_clf.fit(Xs, ys)\n",
        "\n",
        "plt.figure(figsize=(9,2.7))\n",
        "plt.subplot(121)\n",
        "plt.plot(Xs[:, 0][ys==1], Xs[:, 1][ys==1], \"bo\")\n",
        "plt.plot(Xs[:, 0][ys==0], Xs[:, 1][ys==0], \"ms\")\n",
        "plot_svc_decision_boundary(svm_clf, 0, 6)\n",
        "plt.xlabel(\"$x_0$\", fontsize=20)\n",
        "plt.ylabel(\"$x_1$    \", fontsize=20, rotation=0)\n",
        "plt.title(\"Unscaled\", fontsize=16)\n",
        "plt.axis([0, 6, 0, 90])\n",
        "\n",
        "from sklearn.preprocessing import StandardScaler\n",
        "scaler = StandardScaler()\n",
        "X_scaled = scaler.fit_transform(Xs)\n",
        "svm_clf.fit(X_scaled, ys)\n",
        "\n",
        "plt.subplot(122)\n",
        "plt.plot(X_scaled[:, 0][ys==1], X_scaled[:, 1][ys==1], \"bo\")\n",
        "plt.plot(X_scaled[:, 0][ys==0], X_scaled[:, 1][ys==0], \"ms\")\n",
        "plot_svc_decision_boundary(svm_clf, -2, 2)\n",
        "plt.xlabel(\"$x'_0$\", fontsize=20)\n",
        "plt.ylabel(\"$x'_1$  \", fontsize=20, rotation=0)\n",
        "plt.title(\"Scaled\", fontsize=16)\n",
        "plt.axis([-2, 2, -2, 2])\n",
        "\n",
        "save_fig(\"sensitivity_to_feature_scales_plot\")\n"
      ],
      "metadata": {
        "colab": {
          "base_uri": "https://localhost:8080/",
          "height": 242
        },
        "id": "WSr4Lc9siHX5",
        "outputId": "35232c13-2085-4a12-8724-fa492b7f3f25"
      },
      "execution_count": 14,
      "outputs": [
        {
          "output_type": "stream",
          "name": "stdout",
          "text": [
            "Saving figure sensitivity_to_feature_scales_plot\n"
          ]
        },
        {
          "output_type": "display_data",
          "data": {
            "text/plain": [
              "<Figure size 648x194.4 with 2 Axes>"
            ],
            "image/png": "[encoded data removed]"
          },
          "metadata": {
            "needs_background": "light"
          }
        }
      ]
    },
    {
      "cell_type": "markdown",
      "source": [
        "### Soft Margin"
      ],
      "metadata": {
        "id": "seN5fp7ZiY6l"
      }
    },
    {
      "cell_type": "code",
      "source": [
        "X_outliers = np.array([[3.4, 1.3], [3.2, 0.8]])\n",
        "y_outliers = np.array([0, 0])\n",
        "Xo1 = np.concatenate([X1, X_outliers[:1]], axis=0)\n",
        "yo1 = np.concatenate([y1, y_outliers[:1]], axis=0)\n",
        "Xo2 = np.concatenate([X1, X_outliers[1:]], axis=0)\n",
        "yo2 = np.concatenate([y1, y_outliers[1:]], axis=0)\n",
        "\n",
        "svm_clf2 = SVC(kernel=\"linear\", C=10**9)\n",
        "svm_clf2.fit(Xo2, yo2)\n",
        "\n",
        "fig, axes = plt.subplots(ncols=2, figsize=(10,2.7), sharey=True)\n",
        "\n",
        "plt.sca(axes[0])\n",
        "plt.plot(Xo1[:, 0][yo1==1], Xo1[:, 1][yo1==1], \"bs\")\n",
        "plt.plot(Xo1[:, 0][yo1==0], Xo1[:, 1][yo1==0], \"yo\")\n",
        "plt.text(0.3, 1.0, \"Impossible!\", fontsize=24, color=\"red\")\n",
        "plt.xlabel(\"Petal length\", fontsize=14)\n",
        "plt.ylabel(\"Petal width\", fontsize=14)\n",
        "plt.annotate(\"Outlier\",\n",
        "             xy=(X_outliers[0][0], X_outliers[0][1]),\n",
        "             xytext=(2.5, 1.7),\n",
        "             ha=\"center\",\n",
        "             arrowprops=dict(facecolor='black', shrink=0.1),\n",
        "             fontsize=16,\n",
        "            )\n",
        "plt.axis([0, 5.5, 0, 2])\n",
        "\n",
        "plt.sca(axes[1])\n",
        "plt.plot(Xo2[:, 0][yo2==1], Xo2[:, 1][yo2==1], \"bs\")\n",
        "plt.plot(Xo2[:, 0][yo2==0], Xo2[:, 1][yo2==0], \"yo\")\n",
        "plot_svc_decision_boundary(svm_clf2, 0, 5.5)\n",
        "plt.xlabel(\"Petal length\", fontsize=14)\n",
        "plt.annotate(\"Outlier\",\n",
        "             xy=(X_outliers[1][0], X_outliers[1][1]),\n",
        "             xytext=(3.2, 0.08),\n",
        "             ha=\"center\",\n",
        "             arrowprops=dict(facecolor='black', shrink=0.1),\n",
        "             fontsize=16,\n",
        "            )\n",
        "plt.axis([0, 5.5, 0, 2])\n",
        "\n",
        "save_fig(\"sensitivity_to_outliers_plot\")\n",
        "plt.show()"
      ],
      "metadata": {
        "colab": {
          "base_uri": "https://localhost:8080/",
          "height": 200
        },
        "id": "NCQFYptEibOy",
        "outputId": "cdce3497-a499-4c53-f828-279b372f261c"
      },
      "execution_count": 25,
      "outputs": [
        {
          "output_type": "stream",
          "name": "stdout",
          "text": [
            "Saving figure sensitivity_to_outliers_plot\n"
          ]
        },
        {
          "output_type": "display_data",
          "data": {
            "text/plain": [
              "<Figure size 720x194.4 with 2 Axes>"
            ],
            "image/png": "[encoded data removed]"
          },
          "metadata": {
            "needs_background": "light"
          }
        }
      ]
    },
    {
      "cell_type": "code",
      "source": [
        "import numpy as np\n",
        "from sklearn import datasets\n",
        "from sklearn.pipeline import Pipeline\n",
        "from sklearn.preprocessing import StandardScaler\n",
        "from sklearn.svm import LinearSVC\n",
        "\n",
        "iris = datasets.load_iris()\n",
        "X2 = iris[\"data\"][:, (2, 3)]  # petal length, petal width\n",
        "y2 = (iris[\"target\"] == 2).astype(np.float64)  # Iris virginica\n",
        "\n",
        "svm_clf = Pipeline([\n",
        "        (\"scaler\", StandardScaler()),\n",
        "        (\"linear_svc\", LinearSVC(C=1, loss=\"hinge\", random_state=42)),\n",
        "    ])\n",
        "\n",
        "svm_clf.fit(X2, y2)"
      ],
      "metadata": {
        "colab": {
          "base_uri": "https://localhost:8080/"
        },
        "id": "3wWKREqPitPk",
        "outputId": "1c539f83-0200-43b8-dbc0-3c1bc9a827d7"
      },
      "execution_count": 26,
      "outputs": [
        {
          "output_type": "execute_result",
          "data": {
            "text/plain": [
              "Pipeline(steps=[('scaler', StandardScaler()),\n",
              "                ('linear_svc', LinearSVC(C=1, loss='hinge', random_state=42))])"
            ]
          },
          "metadata": {},
          "execution_count": 26
        }
      ]
    },
    {
      "cell_type": "code",
      "source": [
        "svm_clf.predict([[5.5, 1.7]])"
      ],
      "metadata": {
        "colab": {
          "base_uri": "https://localhost:8080/"
        },
        "id": "c-G2ZiI4jzFE",
        "outputId": "de50f16a-b0c5-4b59-ec5a-f150631e5749"
      },
      "execution_count": 27,
      "outputs": [
        {
          "output_type": "execute_result",
          "data": {
            "text/plain": [
              "array([1.])"
            ]
          },
          "metadata": {},
          "execution_count": 27
        }
      ]
    },
    {
      "cell_type": "code",
      "source": [
        "scaler = StandardScaler()\n",
        "svm_clf1 = LinearSVC(C=1, loss=\"hinge\", random_state=42)\n",
        "svm_clf2 = LinearSVC(C=100, loss=\"hinge\", random_state=42)\n",
        "\n",
        "scaled_svm_clf1 = Pipeline([\n",
        "        (\"scaler\", scaler),\n",
        "        (\"linear_svc\", svm_clf1),\n",
        "    ])\n",
        "scaled_svm_clf2 = Pipeline([\n",
        "        (\"scaler\", scaler),\n",
        "        (\"linear_svc\", svm_clf2),\n",
        "    ])\n",
        "\n",
        "scaled_svm_clf1.fit(X2, y2)\n",
        "scaled_svm_clf2.fit(X2, y2)"
      ],
      "metadata": {
        "colab": {
          "base_uri": "https://localhost:8080/"
        },
        "id": "uCHxYbV4j0oY",
        "outputId": "88ca3f08-9363-486f-8ca9-429f39457e20"
      },
      "execution_count": 28,
      "outputs": [
        {
          "output_type": "stream",
          "name": "stderr",
          "text": [
            "/usr/local/lib/python3.7/dist-packages/sklearn/svm/_base.py:1208: ConvergenceWarning: Liblinear failed to converge, increase the number of iterations.\n",
            "  ConvergenceWarning,\n"
          ]
        },
        {
          "output_type": "execute_result",
          "data": {
            "text/plain": [
              "Pipeline(steps=[('scaler', StandardScaler()),\n",
              "                ('linear_svc',\n",
              "                 LinearSVC(C=100, loss='hinge', random_state=42))])"
            ]
          },
          "metadata": {},
          "execution_count": 28
        }
      ]
    },
    {
      "cell_type": "code",
      "source": [
        "# Convert to unscaled parameters\n",
        "b1 = svm_clf1.decision_function([-scaler.mean_ / scaler.scale_])\n",
        "b2 = svm_clf2.decision_function([-scaler.mean_ / scaler.scale_])\n",
        "w1 = svm_clf1.coef_[0] / scaler.scale_\n",
        "w2 = svm_clf2.coef_[0] / scaler.scale_\n",
        "svm_clf1.intercept_ = np.array([b1])\n",
        "svm_clf2.intercept_ = np.array([b2])\n",
        "svm_clf1.coef_ = np.array([w1])\n",
        "svm_clf2.coef_ = np.array([w2])\n",
        "\n",
        "# Find support vectors (LinearSVC does not do this automatically)\n",
        "t = y2 * 2 - 1\n",
        "support_vectors_idx1 = (t * (X2.dot(w1) + b1) < 1).ravel()\n",
        "support_vectors_idx2 = (t * (X2.dot(w2) + b2) < 1).ravel()\n",
        "svm_clf1.support_vectors_ = X2[support_vectors_idx1]\n",
        "svm_clf2.support_vectors_ = X2[support_vectors_idx2]"
      ],
      "metadata": {
        "id": "TU8_5oYVj81X"
      },
      "execution_count": 29,
      "outputs": []
    },
    {
      "cell_type": "code",
      "source": [
        "fig, axes = plt.subplots(ncols=2, figsize=(10,2.7), sharey=True)\n",
        "\n",
        "plt.sca(axes[0])\n",
        "plt.plot(X2[:, 0][y2==1], X2[:, 1][y2==1], \"g^\", label=\"Iris virginica\")\n",
        "plt.plot(X2[:, 0][y2==0], X2[:, 1][y2==0], \"bs\", label=\"Iris versicolor\")\n",
        "plot_svc_decision_boundary(svm_clf1, 4, 5.9)\n",
        "plt.xlabel(\"Petal length\", fontsize=14)\n",
        "plt.ylabel(\"Petal width\", fontsize=14)\n",
        "plt.legend(loc=\"upper left\", fontsize=14)\n",
        "plt.title(\"$C = {}$\".format(svm_clf1.C), fontsize=16)\n",
        "plt.axis([4, 5.9, 0.8, 2.8])\n",
        "\n",
        "plt.sca(axes[1])\n",
        "plt.plot(X2[:, 0][y2==1], X2[:, 1][y2==1], \"g^\")\n",
        "plt.plot(X2[:, 0][y2==0], X2[:, 1][y2==0], \"bs\")\n",
        "plot_svc_decision_boundary(svm_clf2, 4, 5.99)\n",
        "plt.xlabel(\"Petal length\", fontsize=14)\n",
        "plt.title(\"$C = {}$\".format(svm_clf2.C), fontsize=16)\n",
        "plt.axis([4, 5.9, 0.8, 2.8])\n",
        "\n",
        "save_fig(\"regularization_plot\")"
      ],
      "metadata": {
        "colab": {
          "base_uri": "https://localhost:8080/",
          "height": 200
        },
        "id": "4sMtghD_j8zY",
        "outputId": "5f7ddb88-02f7-4819-cf2c-643f4fa2efd4"
      },
      "execution_count": 30,
      "outputs": [
        {
          "output_type": "stream",
          "name": "stdout",
          "text": [
            "Saving figure regularization_plot\n"
          ]
        },
        {
          "output_type": "display_data",
          "data": {
            "text/plain": [
              "<Figure size 720x194.4 with 2 Axes>"
            ],
            "image/png": "[encoded data removed]"
          },
          "metadata": {
            "needs_background": "light"
          }
        }
      ]
    },
    {
      "cell_type": "markdown",
      "source": [
        ""
      ],
      "metadata": {
        "id": "IFINuPcZiYlg"
      }
    },
    {
      "cell_type": "markdown",
      "source": [
        "## Moon Maker"
      ],
      "metadata": {
        "id": "orUm2uRvxo_8"
      }
    },
    {
      "cell_type": "code",
      "source": [
        "X1D = np.linspace(-4, 4, 9).reshape(-1, 1)\n",
        "X2D = np.c_[X1D, X1D**2]\n",
        "y = np.array([0, 0, 1, 1, 1, 1, 1, 0, 0])\n",
        "\n",
        "plt.figure(figsize=(10, 3))\n",
        "\n",
        "plt.subplot(121)\n",
        "plt.grid(True, which='both')\n",
        "plt.axhline(y=0, color='k')\n",
        "plt.plot(X1D[:, 0][y==0], np.zeros(4), \"bs\")\n",
        "plt.plot(X1D[:, 0][y==1], np.zeros(5), \"g^\")\n",
        "plt.gca().get_yaxis().set_ticks([])\n",
        "plt.xlabel(r\"$x_1$\", fontsize=20)\n",
        "plt.axis([-4.5, 4.5, -0.2, 0.2])\n",
        "\n",
        "plt.subplot(122)\n",
        "plt.grid(True, which='both')\n",
        "plt.axhline(y=0, color='k')\n",
        "plt.axvline(x=0, color='k')\n",
        "plt.plot(X2D[:, 0][y==0], X2D[:, 1][y==0], \"bs\")\n",
        "plt.plot(X2D[:, 0][y==1], X2D[:, 1][y==1], \"g^\")\n",
        "plt.xlabel(r\"$x_1$\", fontsize=20)\n",
        "plt.ylabel(r\"$x_2$  \", fontsize=20, rotation=0)\n",
        "plt.gca().get_yaxis().set_ticks([0, 4, 8, 12, 16])\n",
        "plt.plot([-4.5, 4.5], [6.5, 6.5], \"r--\", linewidth=3)\n",
        "plt.axis([-4.5, 4.5, -1, 17])\n",
        "\n",
        "plt.subplots_adjust(right=1)\n",
        "\n",
        "save_fig(\"higher_dimensions_plot\", tight_layout=False)\n",
        "plt.show()"
      ],
      "metadata": {
        "colab": {
          "base_uri": "https://localhost:8080/",
          "height": 249
        },
        "id": "pcGSyMs-xw9C",
        "outputId": "7327863a-f7a9-4ddb-974a-1772f2e994b9"
      },
      "execution_count": 51,
      "outputs": [
        {
          "output_type": "stream",
          "name": "stdout",
          "text": [
            "Saving figure higher_dimensions_plot\n"
          ]
        },
        {
          "output_type": "display_data",
          "data": {
            "text/plain": [
              "<Figure size 720x216 with 2 Axes>"
            ],
            "image/png": "[encoded data removed]"
          },
          "metadata": {
            "needs_background": "light"
          }
        }
      ]
    },
    {
      "cell_type": "code",
      "source": [
        "from sklearn.datasets import make_moons\n",
        "X, y = make_moons(n_samples=100, noise=0.15, random_state=42)\n",
        "\n",
        "def plot_dataset(X, y, axes):\n",
        "    plt.plot(X[:, 0][y==0], X[:, 1][y==0], \"bs\")\n",
        "    plt.plot(X[:, 0][y==1], X[:, 1][y==1], \"g^\")\n",
        "    plt.axis(axes)\n",
        "    plt.grid(True, which='both')\n",
        "    plt.xlabel(r\"$x_1$\", fontsize=20)\n",
        "    plt.ylabel(r\"$x_2$\", fontsize=20, rotation=0)\n",
        "\n",
        "plot_dataset(X, y, [-1.5, 2.5, -1, 1.5])\n",
        "plt.show()"
      ],
      "metadata": {
        "colab": {
          "base_uri": "https://localhost:8080/",
          "height": 296
        },
        "id": "baHSJwk7xsLe",
        "outputId": "e4fd28c4-0748-4aaa-9802-fbaa71bee989"
      },
      "execution_count": 53,
      "outputs": [
        {
          "output_type": "display_data",
          "data": {
            "text/plain": [
              "<Figure size 432x288 with 1 Axes>"
            ],
            "image/png": "[encoded data removed]"
          },
          "metadata": {
            "needs_background": "light"
          }
        }
      ]
    },
    {
      "cell_type": "code",
      "source": [
        "from sklearn.datasets import make_moons\n",
        "from sklearn.pipeline import Pipeline\n",
        "from sklearn.preprocessing import PolynomialFeatures\n",
        "\n",
        "polynomial_svm_clf = Pipeline([\n",
        "        (\"poly_features\", PolynomialFeatures(degree=3)),\n",
        "        (\"scaler\", StandardScaler()),\n",
        "        (\"svm_clf\", LinearSVC(C=10, loss=\"hinge\", random_state=42))\n",
        "    ])\n",
        "\n",
        "polynomial_svm_clf.fit(X, y)"
      ],
      "metadata": {
        "colab": {
          "base_uri": "https://localhost:8080/"
        },
        "id": "blLS0rcByGdP",
        "outputId": "cde2c514-8b2d-42be-ff51-c739d7e643dd"
      },
      "execution_count": 54,
      "outputs": [
        {
          "output_type": "stream",
          "name": "stderr",
          "text": [
            "/usr/local/lib/python3.7/dist-packages/sklearn/svm/_base.py:1208: ConvergenceWarning: Liblinear failed to converge, increase the number of iterations.\n",
            "  ConvergenceWarning,\n"
          ]
        },
        {
          "output_type": "execute_result",
          "data": {
            "text/plain": [
              "Pipeline(steps=[('poly_features', PolynomialFeatures(degree=3)),\n",
              "                ('scaler', StandardScaler()),\n",
              "                ('svm_clf', LinearSVC(C=10, loss='hinge', random_state=42))])"
            ]
          },
          "metadata": {},
          "execution_count": 54
        }
      ]
    },
    {
      "cell_type": "code",
      "source": [
        "def plot_predictions(clf, axes):\n",
        "    x0s = np.linspace(axes[0], axes[1], 100)\n",
        "    x1s = np.linspace(axes[2], axes[3], 100)\n",
        "    x0, x1 = np.meshgrid(x0s, x1s)\n",
        "    X = np.c_[x0.ravel(), x1.ravel()]\n",
        "    y_pred = clf.predict(X).reshape(x0.shape)\n",
        "    y_decision = clf.decision_function(X).reshape(x0.shape)\n",
        "    plt.contourf(x0, x1, y_pred, cmap=plt.cm.brg, alpha=0.2)\n",
        "    plt.contourf(x0, x1, y_decision, cmap=plt.cm.brg, alpha=0.1)\n",
        "\n",
        "plot_predictions(polynomial_svm_clf, [-1.5, 2.5, -1, 1.5])\n",
        "plot_dataset(X, y, [-1.5, 2.5, -1, 1.5])\n",
        "\n",
        "save_fig(\"moons_polynomial_svc_plot\")\n",
        "plt.show()"
      ],
      "metadata": {
        "colab": {
          "base_uri": "https://localhost:8080/",
          "height": 315
        },
        "id": "hi8n9-tJyJFx",
        "outputId": "e2897e2f-e22c-42fc-a69b-da53144046ca"
      },
      "execution_count": 55,
      "outputs": [
        {
          "output_type": "stream",
          "name": "stdout",
          "text": [
            "Saving figure moons_polynomial_svc_plot\n"
          ]
        },
        {
          "output_type": "display_data",
          "data": {
            "text/plain": [
              "<Figure size 432x288 with 1 Axes>"
            ],
            "image/png": "[encoded data removed]"
          },
          "metadata": {
            "needs_background": "light"
          }
        }
      ]
    },
    {
      "cell_type": "markdown",
      "source": [
        "## ADNI"
      ],
      "metadata": {
        "id": "3qVDdysWZZRE"
      }
    },
    {
      "cell_type": "code",
      "source": [
        "import numpy as np\n",
        "from sklearn import datasets\n",
        "from sklearn.pipeline import Pipeline\n",
        "from sklearn.preprocessing import StandardScaler\n",
        "from sklearn.svm import LinearSVC"
      ],
      "metadata": {
        "id": "fnPFboMT7L9U"
      },
      "execution_count": 24,
      "outputs": []
    },
    {
      "cell_type": "code",
      "source": [
        "import os\n",
        "def plot_svc_decision_boundary(svm_clf,X_test):\n",
        "    w = svm_clf.coef_[0]\n",
        "    #b = svm_clf.intercept_[0]\n",
        "\n",
        "    # At the decision boundary, w0*x0 + w1*x1 + b = 0\n",
        "    # => x1 = -w0/w1 * x0 - b/w1\n",
        "    #x0 = np.linspace(xmin, xmax, 68)\n",
        "    decision_boundary = X_test.dot(w)\n",
        "\n",
        "    #margin = w.T\n",
        "    #gutter_up = decision_boundary + margin\n",
        "    #gutter_down = decision_boundary - margin\n",
        "\n",
        "   #svs = svm_clf.support_vectors_    \n",
        "   #plt.scatter(svs[:, 0], svs[:, 1], s=180, facecolors='#FFAAAA')\n",
        "    plt.plot(X_test, decision_boundary, \"k-\", alpha= 0.5, linewidth=2)\n",
        "    #plt.plot(x0, gutter_up, \"b--\", linewidth=2)\n",
        "    #plt.plot(x0, gutter_down, \"r--\", linewidth=2)\n"
      ],
      "metadata": {
        "id": "g_TmxEkp9Gr3"
      },
      "execution_count": 25,
      "outputs": []
    },
    {
      "cell_type": "code",
      "source": [
        "PROJECT_ROOT_DIR = \".\"\n",
        "CHAPTER_ID = \"svm\"\n",
        "IMAGES_PATH = os.path.join(PROJECT_ROOT_DIR, \"images\", CHAPTER_ID)\n",
        "os.makedirs(IMAGES_PATH, exist_ok=True)\n",
        "def save_fig(fig_id, tight_layout=True, fig_extension=\"png\", resolution=300):\n",
        "    path = os.path.join(IMAGES_PATH, fig_id + \".\" + fig_extension)\n",
        "    print(\"Saving figure\", fig_id)\n",
        "    if tight_layout:\n",
        "        plt.tight_layout()\n",
        "    plt.savefig(path, format=fig_extension, dpi=resolution)"
      ],
      "metadata": {
        "id": "ewjpJX6_9Mde"
      },
      "execution_count": 26,
      "outputs": []
    },
    {
      "cell_type": "markdown",
      "source": [
        "### Linear"
      ],
      "metadata": {
        "id": "dH6-2widZjBb"
      }
    },
    {
      "cell_type": "code",
      "source": [
        "# SVM Classifier model\n",
        "svm_clf = SVC(kernel=\"linear\", C=float(\"inf\"))  #hard margin\n",
        "svm_clf.fit(X_train, y_train)"
      ],
      "metadata": {
        "colab": {
          "base_uri": "https://localhost:8080/",
          "height": 211
        },
        "id": "K8iR7EIvb24v",
        "outputId": "ee60530a-356d-4906-ac49-01d4347696b4"
      },
      "execution_count": 12,
      "outputs": [
        {
          "output_type": "error",
          "ename": "NameError",
          "evalue": "ignored",
          "traceback": [
            "\u001b[0;31m---------------------------------------------------------------------------\u001b[0m",
            "\u001b[0;31mNameError\u001b[0m                                 Traceback (most recent call last)",
            "\u001b[0;32m<ipython-input-12-6d0564a20ffb>\u001b[0m in \u001b[0;36m<module>\u001b[0;34m()\u001b[0m\n\u001b[1;32m      1\u001b[0m \u001b[0;31m# SVM Classifier model\u001b[0m\u001b[0;34m\u001b[0m\u001b[0;34m\u001b[0m\u001b[0;34m\u001b[0m\u001b[0m\n\u001b[0;32m----> 2\u001b[0;31m \u001b[0msvm_clf\u001b[0m \u001b[0;34m=\u001b[0m \u001b[0mSVC\u001b[0m\u001b[0;34m(\u001b[0m\u001b[0mkernel\u001b[0m\u001b[0;34m=\u001b[0m\u001b[0;34m\"linear\"\u001b[0m\u001b[0;34m,\u001b[0m \u001b[0mC\u001b[0m\u001b[0;34m=\u001b[0m\u001b[0mfloat\u001b[0m\u001b[0;34m(\u001b[0m\u001b[0;34m\"inf\"\u001b[0m\u001b[0;34m)\u001b[0m\u001b[0;34m)\u001b[0m  \u001b[0;31m#hard margin\u001b[0m\u001b[0;34m\u001b[0m\u001b[0;34m\u001b[0m\u001b[0m\n\u001b[0m\u001b[1;32m      3\u001b[0m \u001b[0msvm_clf\u001b[0m\u001b[0;34m.\u001b[0m\u001b[0mfit\u001b[0m\u001b[0;34m(\u001b[0m\u001b[0mX_train\u001b[0m\u001b[0;34m,\u001b[0m \u001b[0my_train\u001b[0m\u001b[0;34m)\u001b[0m\u001b[0;34m\u001b[0m\u001b[0;34m\u001b[0m\u001b[0m\n",
            "\u001b[0;31mNameError\u001b[0m: name 'SVC' is not defined"
          ]
        }
      ]
    },
    {
      "cell_type": "code",
      "source": [
        "svm_clf = Pipeline([\n",
        "        (\"scaler\", StandardScaler()),\n",
        "        (\"linear_svc\", LinearSVC(C=1, loss=\"hinge\", random_state=42)),\n",
        "    ])\n",
        "\n",
        "svm_clf.fit(X_train, y_train)"
      ],
      "metadata": {
        "colab": {
          "base_uri": "https://localhost:8080/"
        },
        "id": "m8OrUqPz61t-",
        "outputId": "f72c8e9f-10e0-49c0-8130-56def3a0928b"
      },
      "execution_count": 27,
      "outputs": [
        {
          "output_type": "stream",
          "name": "stderr",
          "text": [
            "/usr/local/lib/python3.7/dist-packages/sklearn/svm/_base.py:1208: ConvergenceWarning: Liblinear failed to converge, increase the number of iterations.\n",
            "  ConvergenceWarning,\n"
          ]
        },
        {
          "output_type": "execute_result",
          "data": {
            "text/plain": [
              "Pipeline(steps=[('scaler', StandardScaler()),\n",
              "                ('linear_svc', LinearSVC(C=1, loss='hinge', random_state=42))])"
            ]
          },
          "metadata": {},
          "execution_count": 27
        }
      ]
    },
    {
      "cell_type": "code",
      "source": [
        "svm_clf.predict(X_test)"
      ],
      "metadata": {
        "colab": {
          "base_uri": "https://localhost:8080/"
        },
        "id": "_JJKO8dv7SJk",
        "outputId": "14dd70b1-663b-4c17-e66e-355eda8bc1d9"
      },
      "execution_count": 28,
      "outputs": [
        {
          "output_type": "execute_result",
          "data": {
            "text/plain": [
              "array([0, 0, 0, 1, 0, 1, 1, 0, 1, 0, 0, 1, 0, 0, 0, 1, 0, 1, 1, 0, 1, 1,\n",
              "       1, 0, 0, 0, 1, 1, 0, 0, 1, 0, 1, 0, 1, 0, 0, 0, 0, 0, 0, 0, 0, 0,\n",
              "       0, 0, 0, 1, 1, 0, 0, 0, 1, 1, 0, 0, 0, 0, 1, 1, 0, 0, 1, 0, 0, 0,\n",
              "       0, 0, 0, 0, 0, 0, 0, 1, 0, 1, 0, 0, 1, 1, 1, 0, 0, 0, 0, 0, 0, 0,\n",
              "       0, 0, 0, 0, 0, 0, 0, 0, 1, 1, 0, 0, 1, 0, 0, 0, 0, 1, 0, 0, 1, 0,\n",
              "       0, 0, 1, 1, 0, 0, 1, 0, 0, 1, 0, 0, 0, 0, 0, 0, 0, 0, 1, 0, 0, 0,\n",
              "       1, 0, 1, 0, 0, 1, 1, 0, 0, 0, 0, 0, 0, 1, 0, 1, 0])"
            ]
          },
          "metadata": {},
          "execution_count": 28
        }
      ]
    },
    {
      "cell_type": "code",
      "source": [
        "y_test"
      ],
      "metadata": {
        "colab": {
          "base_uri": "https://localhost:8080/"
        },
        "id": "Ho6K1K-7gAz5",
        "outputId": "3736c117-be4b-4413-86a2-e1f8674fec49"
      },
      "execution_count": 29,
      "outputs": [
        {
          "output_type": "execute_result",
          "data": {
            "text/plain": [
              "array([1, 0, 0, 1, 1, 1, 1, 0, 0, 0, 1, 1, 0, 0, 0, 1, 1, 0, 1, 1, 1, 1,\n",
              "       1, 0, 0, 0, 0, 1, 1, 0, 1, 0, 1, 1, 1, 0, 0, 0, 0, 0, 0, 0, 0, 0,\n",
              "       0, 0, 0, 1, 1, 0, 0, 0, 1, 1, 0, 0, 0, 1, 1, 0, 0, 0, 0, 0, 0, 0,\n",
              "       0, 0, 0, 0, 0, 0, 0, 1, 0, 1, 0, 0, 1, 1, 1, 0, 0, 0, 0, 0, 0, 0,\n",
              "       0, 0, 0, 1, 0, 1, 0, 1, 0, 1, 0, 0, 1, 0, 0, 0, 0, 1, 0, 0, 1, 0,\n",
              "       1, 0, 1, 1, 0, 0, 1, 0, 1, 1, 0, 1, 0, 1, 0, 0, 1, 0, 1, 0, 1, 0,\n",
              "       1, 0, 1, 0, 0, 1, 1, 0, 0, 0, 0, 0, 0, 1, 0, 1, 0])"
            ]
          },
          "metadata": {},
          "execution_count": 29
        }
      ]
    },
    {
      "cell_type": "code",
      "source": [
        "scaler = StandardScaler()\n",
        "svm_clf1 = LinearSVC(C=1, loss=\"hinge\", random_state=42)\n",
        "svm_clf2 = LinearSVC(C=100, loss=\"hinge\", random_state=42)\n",
        "\n",
        "scaled_svm_clf1 = Pipeline([\n",
        "        (\"scaler\", scaler),\n",
        "        (\"linear_svc\", svm_clf1),\n",
        "    ])\n",
        "scaled_svm_clf2 = Pipeline([\n",
        "        (\"scaler\", scaler),\n",
        "        (\"linear_svc\", svm_clf2),\n",
        "    ])\n",
        "\n",
        "scaled_svm_clf1.fit(X_train, y_train)\n",
        "scaled_svm_clf2.fit(X_train, y_train)"
      ],
      "metadata": {
        "colab": {
          "base_uri": "https://localhost:8080/"
        },
        "id": "2zg0bs5a77ZQ",
        "outputId": "1d2f0f67-7fd4-45f7-9566-fc8794c90651"
      },
      "execution_count": 30,
      "outputs": [
        {
          "output_type": "stream",
          "name": "stderr",
          "text": [
            "/usr/local/lib/python3.7/dist-packages/sklearn/svm/_base.py:1208: ConvergenceWarning: Liblinear failed to converge, increase the number of iterations.\n",
            "  ConvergenceWarning,\n",
            "/usr/local/lib/python3.7/dist-packages/sklearn/svm/_base.py:1208: ConvergenceWarning: Liblinear failed to converge, increase the number of iterations.\n",
            "  ConvergenceWarning,\n"
          ]
        },
        {
          "output_type": "execute_result",
          "data": {
            "text/plain": [
              "Pipeline(steps=[('scaler', StandardScaler()),\n",
              "                ('linear_svc',\n",
              "                 LinearSVC(C=100, loss='hinge', random_state=42))])"
            ]
          },
          "metadata": {},
          "execution_count": 30
        }
      ]
    },
    {
      "cell_type": "code",
      "source": [
        "# Convert to unscaled parameters\n",
        "b1 = svm_clf1.decision_function([-scaler.mean_ / scaler.scale_])\n",
        "b2 = svm_clf2.decision_function([-scaler.mean_ / scaler.scale_])\n",
        "w1 = svm_clf1.coef_[0] / scaler.scale_\n",
        "w2 = svm_clf2.coef_[0] / scaler.scale_\n",
        "svm_clf1.intercept_ = np.array([b1])\n",
        "svm_clf2.intercept_ = np.array([b2])\n",
        "svm_clf1.coef_ = np.array([w1])\n",
        "svm_clf2.coef_ = np.array([w2])\n",
        "\n",
        "# Find support vectors (LinearSVC does not do this automatically)\n",
        "t = y_test * 2 - 1\n",
        "support_vectors_idx1 = (t * (X_test.dot(w1) + b1) < 1).ravel()\n",
        "support_vectors_idx2 = (t * (X_test.dot(w2) + b2) < 1).ravel()\n",
        "svm_clf1.support_vectors_ = X_test[support_vectors_idx1]\n",
        "svm_clf2.support_vectors_ = X_test[support_vectors_idx2]"
      ],
      "metadata": {
        "id": "eIhNQKVo8HNS"
      },
      "execution_count": 31,
      "outputs": []
    },
    {
      "cell_type": "code",
      "source": [
        "fig, axes = plt.subplots(nrows=2, figsize=(10,10), sharey=True)\n",
        "\n",
        "plt.sca(axes[0])\n",
        "plt.plot(X_test[y_test==0],y_test[y_test==0], \"bs\")\n",
        "plt.plot(X_test[y_test==1],y_test[y_test==1], \"g^\")\n",
        "\n",
        "plot_svc_decision_boundary(svm_clf1, X_test)\n",
        "plt.xlabel(\"X\", fontsize=14)\n",
        "plt.ylabel(\"y\", fontsize=14)\n",
        "plt.title(\"$C = {}$\".format(svm_clf1.C), fontsize=16)\n",
        "plt.axis([0, 5, -0.5, 1.5])\n",
        "\n",
        "plt.sca(axes[1])\n",
        "plt.plot(X_test[y_test==0],y_test[y_test==0], \"bs\")\n",
        "plt.plot(X_test[y_test==1],y_test[y_test==1], \"g^\")\n",
        "plot_svc_decision_boundary(svm_clf2, X_test)\n",
        "plt.xlabel(\"X\", fontsize=14)\n",
        "plt.title(\"$C = {}$\".format(svm_clf2.C), fontsize=16)\n",
        "plt.axis([0, 5, -0.5, 1.5])\n",
        "\n",
        "save_fig(\"regularization_plot\")"
      ],
      "metadata": {
        "colab": {
          "base_uri": "https://localhost:8080/",
          "height": 663
        },
        "id": "5QgWpEn_82wS",
        "outputId": "fbf6540a-a768-4109-e23d-25f55ba3fc25"
      },
      "execution_count": 32,
      "outputs": [
        {
          "output_type": "stream",
          "name": "stdout",
          "text": [
            "Saving figure regularization_plot\n"
          ]
        },
        {
          "output_type": "display_data",
          "data": {
            "text/plain": [
              "<Figure size 720x720 with 2 Axes>"
            ],
            "image/png": "[encoded data removed]"
          },
          "metadata": {
            "needs_background": "light"
          }
        }
      ]
    },
    {
      "cell_type": "code",
      "source": [
        "svm_clf1.coef_[0]"
      ],
      "metadata": {
        "colab": {
          "base_uri": "https://localhost:8080/"
        },
        "id": "xxFEuxWSAEWB",
        "outputId": "c47509bc-634a-4aad-cdfa-306aae0cdefb"
      },
      "execution_count": 33,
      "outputs": [
        {
          "output_type": "execute_result",
          "data": {
            "text/plain": [
              "array([-1.06396362,  0.52162615,  0.50952133, -0.13576374, -1.48353621,\n",
              "       -0.10594622,  2.02429447,  0.03236662, -2.47399457, -1.88748262,\n",
              "        0.2523335 ,  1.48449468, -1.70303438, -0.81663046, -1.72975972,\n",
              "        2.09269851, -1.27930233,  1.63413551,  0.36852372,  1.53103371,\n",
              "       -2.51672386, -1.08381808, -0.71926385, -0.7946358 ,  1.17198591,\n",
              "       -0.5289615 ,  0.27096606,  1.75326182, -0.12918294, -0.81335274,\n",
              "       -1.95911053,  1.50925344,  0.44331125, -0.54205895,  0.1473855 ,\n",
              "       -1.58333767,  0.87695397, -1.29594722,  0.11044587, -0.04452218,\n",
              "       -1.61884597,  0.88214013, -0.96890229,  0.21161533,  0.00695023,\n",
              "        3.32899068, -0.09610904, -0.08746946, -0.94880546,  0.26147886,\n",
              "       -2.46753448, -0.70353285,  2.31224115,  0.52539351,  0.01597727,\n",
              "        1.49237658,  1.95229806, -2.53088311,  0.81339042, -0.80997673,\n",
              "       -1.75951092,  1.66355771, -0.45066247,  2.71408566, -0.88987661,\n",
              "        0.36667365,  0.44252956,  0.2182128 ])"
            ]
          },
          "metadata": {},
          "execution_count": 33
        }
      ]
    },
    {
      "cell_type": "markdown",
      "source": [
        "### confusion matrix"
      ],
      "metadata": {
        "id": "NgaNQyVJV-II"
      }
    },
    {
      "cell_type": "code",
      "source": [
        "# confusion matrix\n",
        "\n",
        "from sklearn.model_selection import  cross_val_predict\n",
        "\n",
        "y_test_pred = cross_val_predict(svm_clf2, X_test, y_test, cv = 3)\n",
        "y_test_pred1 = cross_val_predict(svm_clf1, X_test, y_test, cv = 3)\n",
        "y_test_pred"
      ],
      "metadata": {
        "colab": {
          "base_uri": "https://localhost:8080/"
        },
        "id": "kZDF50ILV9h8",
        "outputId": "96d5555a-9187-475b-a861-90ec39d5385e"
      },
      "execution_count": 82,
      "outputs": [
        {
          "output_type": "stream",
          "name": "stderr",
          "text": [
            "/usr/local/lib/python3.7/dist-packages/sklearn/svm/_base.py:1208: ConvergenceWarning: Liblinear failed to converge, increase the number of iterations.\n",
            "  ConvergenceWarning,\n",
            "/usr/local/lib/python3.7/dist-packages/sklearn/svm/_base.py:1208: ConvergenceWarning: Liblinear failed to converge, increase the number of iterations.\n",
            "  ConvergenceWarning,\n",
            "/usr/local/lib/python3.7/dist-packages/sklearn/svm/_base.py:1208: ConvergenceWarning: Liblinear failed to converge, increase the number of iterations.\n",
            "  ConvergenceWarning,\n",
            "/usr/local/lib/python3.7/dist-packages/sklearn/svm/_base.py:1208: ConvergenceWarning: Liblinear failed to converge, increase the number of iterations.\n",
            "  ConvergenceWarning,\n",
            "/usr/local/lib/python3.7/dist-packages/sklearn/svm/_base.py:1208: ConvergenceWarning: Liblinear failed to converge, increase the number of iterations.\n",
            "  ConvergenceWarning,\n",
            "/usr/local/lib/python3.7/dist-packages/sklearn/svm/_base.py:1208: ConvergenceWarning: Liblinear failed to converge, increase the number of iterations.\n",
            "  ConvergenceWarning,\n"
          ]
        },
        {
          "output_type": "execute_result",
          "data": {
            "text/plain": [
              "array([1, 0, 0, 1, 1, 1, 1, 0, 1, 0, 1, 1, 0, 0, 0, 0, 1, 1, 1, 0, 1, 1,\n",
              "       1, 0, 0, 0, 1, 0, 1, 0, 1, 0, 1, 1, 1, 0, 0, 1, 0, 1, 0, 0, 0, 0,\n",
              "       0, 0, 0, 0, 1, 1, 1, 1, 0, 1, 0, 0, 1, 0, 1, 0, 0, 0, 0, 0, 1, 1,\n",
              "       0, 0, 0, 1, 0, 0, 0, 0, 0, 0, 0, 0, 0, 1, 1, 0, 0, 0, 0, 0, 0, 0,\n",
              "       0, 0, 0, 0, 0, 1, 0, 0, 1, 1, 0, 0, 1, 0, 0, 0, 0, 1, 0, 0, 1, 0,\n",
              "       0, 0, 1, 1, 1, 0, 1, 0, 0, 1, 0, 0, 0, 0, 0, 0, 0, 0, 1, 0, 1, 1,\n",
              "       1, 0, 1, 0, 0, 1, 1, 0, 0, 0, 0, 0, 0, 0, 1, 1, 1])"
            ]
          },
          "metadata": {},
          "execution_count": 82
        }
      ]
    },
    {
      "cell_type": "code",
      "source": [
        "from sklearn.metrics import confusion_matrix\n",
        "\n",
        "confusion_matrix(y_test, y_test_pred)"
      ],
      "metadata": {
        "colab": {
          "base_uri": "https://localhost:8080/"
        },
        "id": "4aDoQ5gqYP5F",
        "outputId": "d2ac9c45-ded3-42ba-df01-88f0d68061d7"
      },
      "execution_count": 37,
      "outputs": [
        {
          "output_type": "execute_result",
          "data": {
            "text/plain": [
              "array([[77, 17],\n",
              "       [17, 38]])"
            ]
          },
          "metadata": {},
          "execution_count": 37
        }
      ]
    },
    {
      "cell_type": "code",
      "source": [
        "\n",
        "confusion_matrix(y_test, y_test_pred1)"
      ],
      "metadata": {
        "colab": {
          "base_uri": "https://localhost:8080/"
        },
        "id": "D3pO-VgfgyJ2",
        "outputId": "25a9324a-7d9b-43f0-9cdd-c24cb11fdc0c"
      },
      "execution_count": 83,
      "outputs": [
        {
          "output_type": "execute_result",
          "data": {
            "text/plain": [
              "array([[82, 12],\n",
              "       [17, 38]])"
            ]
          },
          "metadata": {},
          "execution_count": 83
        }
      ]
    },
    {
      "cell_type": "markdown",
      "source": [
        "### Precision & Recall"
      ],
      "metadata": {
        "id": "7zlufyFSZaPb"
      }
    },
    {
      "cell_type": "code",
      "source": [
        "from sklearn.metrics import precision_score, recall_score\n",
        "\n",
        "precision_score(y_test, y_test_pred)"
      ],
      "metadata": {
        "colab": {
          "base_uri": "https://localhost:8080/"
        },
        "id": "C-zPki02YqlC",
        "outputId": "8efd8241-086b-4493-bf8e-2aee79b1dd62"
      },
      "execution_count": 38,
      "outputs": [
        {
          "output_type": "execute_result",
          "data": {
            "text/plain": [
              "0.6909090909090909"
            ]
          },
          "metadata": {},
          "execution_count": 38
        }
      ]
    },
    {
      "cell_type": "code",
      "source": [
        "precision_score(y_test, y_test_pred1)"
      ],
      "metadata": {
        "colab": {
          "base_uri": "https://localhost:8080/"
        },
        "id": "DHVsyEE9g6lY",
        "outputId": "c94c3e32-e8b2-497c-c186-6529f3386cde"
      },
      "execution_count": 84,
      "outputs": [
        {
          "output_type": "execute_result",
          "data": {
            "text/plain": [
              "0.76"
            ]
          },
          "metadata": {},
          "execution_count": 84
        }
      ]
    },
    {
      "cell_type": "code",
      "source": [
        "recall_score(y_test, y_test_pred)"
      ],
      "metadata": {
        "colab": {
          "base_uri": "https://localhost:8080/"
        },
        "id": "9StvR8mRYuVR",
        "outputId": "7ab311ed-68d1-4230-f0ea-756ae1d53998"
      },
      "execution_count": 39,
      "outputs": [
        {
          "output_type": "execute_result",
          "data": {
            "text/plain": [
              "0.6909090909090909"
            ]
          },
          "metadata": {},
          "execution_count": 39
        }
      ]
    },
    {
      "cell_type": "code",
      "source": [
        "recall_score(y_test, y_test_pred1)"
      ],
      "metadata": {
        "colab": {
          "base_uri": "https://localhost:8080/"
        },
        "id": "VTq6m8m8g9W5",
        "outputId": "58a5343c-00f1-4088-f779-117f5f5139e8"
      },
      "execution_count": 85,
      "outputs": [
        {
          "output_type": "execute_result",
          "data": {
            "text/plain": [
              "0.6909090909090909"
            ]
          },
          "metadata": {},
          "execution_count": 85
        }
      ]
    },
    {
      "cell_type": "code",
      "source": [
        "y_scores = cross_val_predict(svm_clf2, X_test, y_test, cv = 3, method = \"decision_function\")"
      ],
      "metadata": {
        "colab": {
          "base_uri": "https://localhost:8080/"
        },
        "id": "QJLI7ilXbC2D",
        "outputId": "2187a2c6-007b-4a57-9e16-ac30e63bf941"
      },
      "execution_count": 41,
      "outputs": [
        {
          "output_type": "stream",
          "name": "stderr",
          "text": [
            "/usr/local/lib/python3.7/dist-packages/sklearn/svm/_base.py:1208: ConvergenceWarning: Liblinear failed to converge, increase the number of iterations.\n",
            "  ConvergenceWarning,\n",
            "/usr/local/lib/python3.7/dist-packages/sklearn/svm/_base.py:1208: ConvergenceWarning: Liblinear failed to converge, increase the number of iterations.\n",
            "  ConvergenceWarning,\n",
            "/usr/local/lib/python3.7/dist-packages/sklearn/svm/_base.py:1208: ConvergenceWarning: Liblinear failed to converge, increase the number of iterations.\n",
            "  ConvergenceWarning,\n"
          ]
        }
      ]
    },
    {
      "cell_type": "code",
      "source": [
        "y_scores1 = cross_val_predict(svm_clf1, X_test, y_test, cv = 3, method = \"decision_function\")"
      ],
      "metadata": {
        "colab": {
          "base_uri": "https://localhost:8080/"
        },
        "id": "Y_1EcADMhBjh",
        "outputId": "d47e9cd5-29d8-4e8b-afcf-de0f1823f045"
      },
      "execution_count": 86,
      "outputs": [
        {
          "output_type": "stream",
          "name": "stderr",
          "text": [
            "/usr/local/lib/python3.7/dist-packages/sklearn/svm/_base.py:1208: ConvergenceWarning: Liblinear failed to converge, increase the number of iterations.\n",
            "  ConvergenceWarning,\n",
            "/usr/local/lib/python3.7/dist-packages/sklearn/svm/_base.py:1208: ConvergenceWarning: Liblinear failed to converge, increase the number of iterations.\n",
            "  ConvergenceWarning,\n",
            "/usr/local/lib/python3.7/dist-packages/sklearn/svm/_base.py:1208: ConvergenceWarning: Liblinear failed to converge, increase the number of iterations.\n",
            "  ConvergenceWarning,\n"
          ]
        }
      ]
    },
    {
      "cell_type": "code",
      "source": [
        "from sklearn.metrics import precision_recall_curve\n",
        "\n",
        "precisions, recalls, thresholds = precision_recall_curve(y_test, y_scores)\n",
        "precisions1, recalls1, thresholds1 = precision_recall_curve(y_test, y_scores1)\n",
        "def plot_precision_recall_vs_threshold(precisions, recalls, thresholds):\n",
        "    plt.plot(thresholds, precisions[:-1], \"b--\", label=\"Precision(C=100)\", linewidth=2)\n",
        "    plt.plot(thresholds, recalls[:-1], \"g-\", label=\"Recall(C=100)\", linewidth=2)\n",
        "    plt.legend(loc=\"center right\", fontsize=10) # Not shown in the book\n",
        "    plt.xlabel(\"Threshold\", fontsize=10)        # Not shown\n",
        "    plt.grid(True)                              # Not shown\n",
        "    plt.axis([-2, 3, 0, 1])             # Not shown\n",
        "\n",
        "def plot_precision_recall_vs_threshold1(precisions, recalls, thresholds):\n",
        "    plt.plot(thresholds, precisions[:-1], \"r--\", label=\"Precision(C=1)\", linewidth=2)\n",
        "    plt.plot(thresholds, recalls[:-1], \"y-\", label=\"Recall1(C=1)\", linewidth=2)\n",
        "    plt.legend(loc=\"center right\", fontsize=10) # Not shown in the book\n",
        "    plt.xlabel(\"Threshold\", fontsize=10)        # Not shown\n",
        "    plt.grid(True)                              # Not shown\n",
        "    plt.axis([-2, 3, 0, 1])             # Not shown\n",
        "\n",
        "plt.figure(figsize=(8, 4))                                                                  # Not shown\n",
        "plot_precision_recall_vs_threshold(precisions, recalls, thresholds)\n",
        "plot_precision_recall_vs_threshold1(precisions1, recalls1, thresholds1)"
      ],
      "metadata": {
        "colab": {
          "base_uri": "https://localhost:8080/",
          "height": 287
        },
        "id": "A2tPljLoZP4K",
        "outputId": "3175504a-ef54-480d-cf74-3d64aaff97a4"
      },
      "execution_count": 126,
      "outputs": [
        {
          "output_type": "display_data",
          "data": {
            "text/plain": [
              "<Figure size 576x288 with 1 Axes>"
            ],
            "image/png": "[encoded data removed]"
          },
          "metadata": {
            "needs_background": "light"
          }
        }
      ]
    },
    {
      "cell_type": "code",
      "source": [
        "def plot_recall_vs_precisons(precisions, recalls):\n",
        "    plt.plot(recalls[:-1], precisions[:-1], \"b--\", linewidth=2, label = \"C=100\")\n",
        "    plt.xlabel(\"Recall\", fontsize=10)\n",
        "    plt.ylabel(\"Precision\", fontsize=10)\n",
        "   \n",
        "    plt.grid(True)\n",
        "    plt.axis([0, 1, 0, 1])\n",
        "    \n",
        "recall_90_precision = recalls[np.argmax(precisions >= 0.90)]\n",
        "recall_90_precision1 = recalls1[np.argmax(precisions1 >= 0.90)]\n",
        "\n",
        "plt.figure(figsize=(8, 6)) \n",
        "plot_recall_vs_precisons(precisions, recalls)\n",
        "plt.plot(recalls1[:-1], precisions1[:-1], \"--\", linewidth=2, label = \"C=1\")\n",
        "plt.legend(loc=\"lower right\", fontsize=10)\n",
        "plt.plot([recall_90_precision, recall_90_precision], [0., 0.9], \"r:\") \n",
        "plt.plot([recall_90_precision1, recall_90_precision1], [0., 0.9], \"k:\") \n",
        "plt.plot([recall_90_precision], [0.9], \"ro\") \n",
        "plt.plot([recall_90_precision1], [0.9], \"ko\") \n",
        "plt.show()"
      ],
      "metadata": {
        "colab": {
          "base_uri": "https://localhost:8080/",
          "height": 396
        },
        "id": "np8ukmNEb1U3",
        "outputId": "0fe7f2b9-6e17-458d-b6cb-c7574db911b1"
      },
      "execution_count": 132,
      "outputs": [
        {
          "output_type": "display_data",
          "data": {
            "text/plain": [
              "<Figure size 576x432 with 1 Axes>"
            ],
            "image/png": "[encoded data removed]"
          },
          "metadata": {
            "needs_background": "light"
          }
        }
      ]
    },
    {
      "cell_type": "code",
      "source": [
        "threshold_90_precision = thresholds[np.argmax(precisions >= 0.90)]\n",
        "threshold_90_precision1 = thresholds1[np.argmax(precisions >= 0.90)]"
      ],
      "metadata": {
        "id": "T_AWPdbzcWaJ"
      },
      "execution_count": 96,
      "outputs": []
    },
    {
      "cell_type": "code",
      "source": [
        "y_test_pred_90 = (y_scores>= threshold_90_precision)\n",
        "y_test_pred1_90 = (y_scores1>= threshold_90_precision1)"
      ],
      "metadata": {
        "id": "Ax7tFmRXcfLs"
      },
      "execution_count": 97,
      "outputs": []
    },
    {
      "cell_type": "code",
      "source": [
        "precision_score(y_test, y_test_pred_90)"
      ],
      "metadata": {
        "colab": {
          "base_uri": "https://localhost:8080/"
        },
        "id": "OyhOi8adcmSB",
        "outputId": "cfa0b0f0-1636-416b-ac0c-32023bd7bb81"
      },
      "execution_count": 55,
      "outputs": [
        {
          "output_type": "execute_result",
          "data": {
            "text/plain": [
              "0.9"
            ]
          },
          "metadata": {},
          "execution_count": 55
        }
      ]
    },
    {
      "cell_type": "code",
      "source": [
        "precision_score(y_test, y_test_pred1_90)"
      ],
      "metadata": {
        "colab": {
          "base_uri": "https://localhost:8080/"
        },
        "id": "8NLiURGNjzR1",
        "outputId": "69802a73-baca-464a-ab2b-ff0d6ddaacab"
      },
      "execution_count": 98,
      "outputs": [
        {
          "output_type": "execute_result",
          "data": {
            "text/plain": [
              "0.8235294117647058"
            ]
          },
          "metadata": {},
          "execution_count": 98
        }
      ]
    },
    {
      "cell_type": "code",
      "source": [
        "recall_score(y_test, y_test_pred_90)"
      ],
      "metadata": {
        "colab": {
          "base_uri": "https://localhost:8080/"
        },
        "id": "uhDytVAvctxQ",
        "outputId": "0b8fd27f-17ee-4f0f-80fd-e5d38ac85be0"
      },
      "execution_count": 56,
      "outputs": [
        {
          "output_type": "execute_result",
          "data": {
            "text/plain": [
              "0.32727272727272727"
            ]
          },
          "metadata": {},
          "execution_count": 56
        }
      ]
    },
    {
      "cell_type": "code",
      "source": [
        "recall_score(y_test, y_test_pred1_90)"
      ],
      "metadata": {
        "colab": {
          "base_uri": "https://localhost:8080/"
        },
        "id": "sGyaOAnyj2hF",
        "outputId": "e7265325-96c5-4ab1-b0d6-acd2894e376f"
      },
      "execution_count": 99,
      "outputs": [
        {
          "output_type": "execute_result",
          "data": {
            "text/plain": [
              "0.509090909090909"
            ]
          },
          "metadata": {},
          "execution_count": 99
        }
      ]
    },
    {
      "cell_type": "markdown",
      "source": [
        "### ROC Curve"
      ],
      "metadata": {
        "id": "y1d9uKYFczUU"
      }
    },
    {
      "cell_type": "code",
      "source": [
        "from sklearn.metrics import roc_curve\n",
        "\n",
        "fpr, tpr, thresholds= roc_curve(y_test, y_scores)\n",
        "\n",
        "fpr1, tpr1, thresholds1= roc_curve(y_test, y_scores1)"
      ],
      "metadata": {
        "id": "04WIGMFPc2RZ"
      },
      "execution_count": 100,
      "outputs": []
    },
    {
      "cell_type": "code",
      "source": [
        "def plot_roc_curve(fpr, tpr, label=None):\n",
        "    plt.plot(fpr, tpr, linewidth=2, label=\"C=100\")\n",
        "    plt.plot([0, 1], [0, 1], 'k--') # dashed diagonal\n",
        "    plt.axis([0, 1, 0, 1])                                    # Not shown in the book\n",
        "    plt.xlabel('False Positive Rate (Fall-Out)', fontsize=16) # Not shown\n",
        "    plt.ylabel('True Positive Rate (Recall)', fontsize=16)    # Not shown\n",
        "    plt.grid(True)                                            # Not shown\n",
        "\n",
        "plt.figure(figsize=(8, 6))                         # Not shown\n",
        "plot_roc_curve(fpr, tpr)\n",
        "plt.plot(fpr1, tpr1, linewidth=2,label=\"C=1\")\n",
        "fpr_90 = fpr[np.argmax(tpr >= recall_90_precision)]\n",
        "fpr1_90 = fpr1[np.argmax(tpr1 >= recall_90_precision1)]\n",
        "\n",
        "plt.plot([fpr_90, fpr_90], [ 0. , recall_90_precision], \"r:\")\n",
        "plt.plot([0.0, fpr_90], [recall_90_precision, recall_90_precision], \"r:\")\n",
        "plt.plot([fpr_90], [recall_90_precision], \"ro\")\n",
        "plt.legend(loc=\"center right\", fontsize=10)\n",
        "plt.plot([fpr1_90, fpr1_90], [ 0. , recall_90_precision1], \"b:\")\n",
        "plt.plot([0.0, fpr1_90], [recall_90_precision1, recall_90_precision1], \"b:\")\n",
        "plt.plot([fpr1_90], [recall_90_precision1], \"bo\")\n",
        "plt.show()"
      ],
      "metadata": {
        "colab": {
          "base_uri": "https://localhost:8080/",
          "height": 401
        },
        "id": "Hzm8zSbwdDWR",
        "outputId": "9a35b68e-98d5-4c48-8ba8-424ebdcffb8e"
      },
      "execution_count": 133,
      "outputs": [
        {
          "output_type": "display_data",
          "data": {
            "text/plain": [
              "<Figure size 576x432 with 1 Axes>"
            ],
            "image/png": "[encoded data removed]"
          },
          "metadata": {
            "needs_background": "light"
          }
        }
      ]
    },
    {
      "cell_type": "code",
      "source": [
        "# Area Under Curve (AUC) : compare classifiers\n",
        "\n",
        "from sklearn.metrics import roc_auc_score\n",
        "roc_auc_score(y_test, y_scores)"
      ],
      "metadata": {
        "colab": {
          "base_uri": "https://localhost:8080/"
        },
        "id": "mjSlgT84daOp",
        "outputId": "a7b27ab6-0df9-479e-e4ee-f06cde00a57b"
      },
      "execution_count": 59,
      "outputs": [
        {
          "output_type": "execute_result",
          "data": {
            "text/plain": [
              "0.8669245647969052"
            ]
          },
          "metadata": {},
          "execution_count": 59
        }
      ]
    },
    {
      "cell_type": "code",
      "source": [
        "roc_auc_score(y_test, y_scores1)"
      ],
      "metadata": {
        "colab": {
          "base_uri": "https://localhost:8080/"
        },
        "id": "uTQYMtnulF2O",
        "outputId": "0a94713a-88b7-497c-c8a6-c2456a37eb53"
      },
      "execution_count": 105,
      "outputs": [
        {
          "output_type": "execute_result",
          "data": {
            "text/plain": [
              "0.8570599613152804"
            ]
          },
          "metadata": {},
          "execution_count": 105
        }
      ]
    },
    {
      "cell_type": "markdown",
      "source": [
        "### Standard Scaler"
      ],
      "metadata": {
        "id": "Dg7mWPFFduZH"
      }
    },
    {
      "cell_type": "code",
      "source": [
        "from sklearn.model_selection import cross_val_score\n",
        "cross_val_score(svm_clf2, X_test, y_test, cv=3, scoring=\"accuracy\")"
      ],
      "metadata": {
        "colab": {
          "base_uri": "https://localhost:8080/"
        },
        "id": "2aQRl-YXeICW",
        "outputId": "3936bbaf-7656-4ef3-a1aa-36d3c6825427"
      },
      "execution_count": 64,
      "outputs": [
        {
          "output_type": "stream",
          "name": "stderr",
          "text": [
            "/usr/local/lib/python3.7/dist-packages/sklearn/svm/_base.py:1208: ConvergenceWarning: Liblinear failed to converge, increase the number of iterations.\n",
            "  ConvergenceWarning,\n",
            "/usr/local/lib/python3.7/dist-packages/sklearn/svm/_base.py:1208: ConvergenceWarning: Liblinear failed to converge, increase the number of iterations.\n",
            "  ConvergenceWarning,\n",
            "/usr/local/lib/python3.7/dist-packages/sklearn/svm/_base.py:1208: ConvergenceWarning: Liblinear failed to converge, increase the number of iterations.\n",
            "  ConvergenceWarning,\n"
          ]
        },
        {
          "output_type": "execute_result",
          "data": {
            "text/plain": [
              "array([0.78      , 0.74      , 0.79591837])"
            ]
          },
          "metadata": {},
          "execution_count": 64
        }
      ]
    },
    {
      "cell_type": "code",
      "source": [
        "cross_val_score(svm_clf1, X_test, y_test, cv=3, scoring=\"accuracy\")"
      ],
      "metadata": {
        "colab": {
          "base_uri": "https://localhost:8080/"
        },
        "id": "azPXRLSglKt9",
        "outputId": "41d64195-aebd-4d7c-ffd2-db9aa432b84f"
      },
      "execution_count": 110,
      "outputs": [
        {
          "output_type": "stream",
          "name": "stderr",
          "text": [
            "/usr/local/lib/python3.7/dist-packages/sklearn/svm/_base.py:1208: ConvergenceWarning: Liblinear failed to converge, increase the number of iterations.\n",
            "  ConvergenceWarning,\n",
            "/usr/local/lib/python3.7/dist-packages/sklearn/svm/_base.py:1208: ConvergenceWarning: Liblinear failed to converge, increase the number of iterations.\n",
            "  ConvergenceWarning,\n",
            "/usr/local/lib/python3.7/dist-packages/sklearn/svm/_base.py:1208: ConvergenceWarning: Liblinear failed to converge, increase the number of iterations.\n",
            "  ConvergenceWarning,\n"
          ]
        },
        {
          "output_type": "execute_result",
          "data": {
            "text/plain": [
              "array([0.8       , 0.86      , 0.75510204])"
            ]
          },
          "metadata": {},
          "execution_count": 110
        }
      ]
    },
    {
      "cell_type": "code",
      "source": [
        "from sklearn.preprocessing import StandardScaler\n",
        "\n",
        "scaler = StandardScaler()\n",
        "X_test_scaled = scaler.fit_transform(X_test.astype(np.float64))\n",
        "X_train_scaled = scaler.fit_transform(X_train.astype(np.float64))\n",
        "cross_val_score(svm_clf2, X_test_scaled, y_test, cv=3, scoring=\"accuracy\")\n"
      ],
      "metadata": {
        "colab": {
          "base_uri": "https://localhost:8080/"
        },
        "id": "m-fDgHZtdwul",
        "outputId": "1e0f61b8-092a-4c6f-98da-7f202967f144"
      },
      "execution_count": 65,
      "outputs": [
        {
          "output_type": "execute_result",
          "data": {
            "text/plain": [
              "array([0.76      , 0.78      , 0.81632653])"
            ]
          },
          "metadata": {},
          "execution_count": 65
        }
      ]
    },
    {
      "cell_type": "code",
      "source": [
        "cross_val_score(svm_clf1, X_test_scaled, y_test, cv=3, scoring=\"accuracy\")"
      ],
      "metadata": {
        "colab": {
          "base_uri": "https://localhost:8080/"
        },
        "id": "tPZNEM-kleP3",
        "outputId": "eed8f810-78aa-41f3-c4ea-a505af4f302b"
      },
      "execution_count": 115,
      "outputs": [
        {
          "output_type": "execute_result",
          "data": {
            "text/plain": [
              "array([0.76      , 0.78      , 0.81632653])"
            ]
          },
          "metadata": {},
          "execution_count": 115
        }
      ]
    },
    {
      "cell_type": "code",
      "source": [
        "y_test_pred = cross_val_predict(svm_clf2, X_test_scaled, y_test, cv=3)\n",
        "conf_mx = confusion_matrix(y_test, y_test_pred)\n",
        "conf_mx"
      ],
      "metadata": {
        "colab": {
          "base_uri": "https://localhost:8080/"
        },
        "id": "7_rTm3vJemYP",
        "outputId": "344b8804-7631-44d2-b003-955306504296"
      },
      "execution_count": 116,
      "outputs": [
        {
          "output_type": "execute_result",
          "data": {
            "text/plain": [
              "array([[76, 18],\n",
              "       [14, 41]])"
            ]
          },
          "metadata": {},
          "execution_count": 116
        }
      ]
    },
    {
      "cell_type": "code",
      "source": [
        "y_test_pred1 = cross_val_predict(svm_clf1, X_test_scaled, y_test, cv=3)\n",
        "conf1_mx = confusion_matrix(y_test, y_test_pred1)\n",
        "conf1_mx"
      ],
      "metadata": {
        "colab": {
          "base_uri": "https://localhost:8080/"
        },
        "id": "z-hw809Cl05B",
        "outputId": "72fe2358-c0bb-46aa-901d-7ef59a3e206b"
      },
      "execution_count": 117,
      "outputs": [
        {
          "output_type": "execute_result",
          "data": {
            "text/plain": [
              "array([[76, 18],\n",
              "       [14, 41]])"
            ]
          },
          "metadata": {},
          "execution_count": 117
        }
      ]
    },
    {
      "cell_type": "code",
      "source": [
        "plt.matshow(conf_mx, cmap = plt.cm.gray)\n",
        "plt.matshow(conf1_mx, cmap = plt.cm.gray)\n",
        "\n",
        "plt.show()\n",
        "\n",
        "# upper : c = 100\n",
        "# lower : c = 1"
      ],
      "metadata": {
        "colab": {
          "base_uri": "https://localhost:8080/",
          "height": 539
        },
        "id": "Cw3WUmfKe1q_",
        "outputId": "5ac411b0-a6ff-42a4-b2ed-f51bf3b78a16"
      },
      "execution_count": 118,
      "outputs": [
        {
          "output_type": "display_data",
          "data": {
            "text/plain": [
              "<Figure size 288x288 with 1 Axes>"
            ],
            "image/png": "[encoded data removed]"
          },
          "metadata": {
            "needs_background": "light"
          }
        },
        {
          "output_type": "display_data",
          "data": {
            "text/plain": [
              "<Figure size 288x288 with 1 Axes>"
            ],
            "image/png": "[encoded data removed]"
          },
          "metadata": {
            "needs_background": "light"
          }
        }
      ]
    },
    {
      "cell_type": "code",
      "source": [
        "y_test_pred_1 = cross_val_predict(svm_clf2, X_test, y_test, cv=3)\n",
        "conf_mx_1 = confusion_matrix(y_test, y_test_pred_1)\n",
        "conf_mx_1"
      ],
      "metadata": {
        "colab": {
          "base_uri": "https://localhost:8080/"
        },
        "id": "XzkFiVkGfE-P",
        "outputId": "cce938d5-f584-443b-d245-897fa6ef54e1"
      },
      "execution_count": 119,
      "outputs": [
        {
          "output_type": "stream",
          "name": "stderr",
          "text": [
            "/usr/local/lib/python3.7/dist-packages/sklearn/svm/_base.py:1208: ConvergenceWarning: Liblinear failed to converge, increase the number of iterations.\n",
            "  ConvergenceWarning,\n",
            "/usr/local/lib/python3.7/dist-packages/sklearn/svm/_base.py:1208: ConvergenceWarning: Liblinear failed to converge, increase the number of iterations.\n",
            "  ConvergenceWarning,\n",
            "/usr/local/lib/python3.7/dist-packages/sklearn/svm/_base.py:1208: ConvergenceWarning: Liblinear failed to converge, increase the number of iterations.\n",
            "  ConvergenceWarning,\n"
          ]
        },
        {
          "output_type": "execute_result",
          "data": {
            "text/plain": [
              "array([[77, 17],\n",
              "       [17, 38]])"
            ]
          },
          "metadata": {},
          "execution_count": 119
        }
      ]
    },
    {
      "cell_type": "code",
      "source": [
        "y_test_pred1_1 = cross_val_predict(svm_clf1, X_test, y_test, cv=3)\n",
        "conf1_mx_1 = confusion_matrix(y_test, y_test_pred1_1)\n",
        "conf1_mx_1"
      ],
      "metadata": {
        "colab": {
          "base_uri": "https://localhost:8080/"
        },
        "id": "qbdHxAMOmOmN",
        "outputId": "a01a7e49-6e5f-4217-98bf-c14b0ee2591f"
      },
      "execution_count": 120,
      "outputs": [
        {
          "output_type": "stream",
          "name": "stderr",
          "text": [
            "/usr/local/lib/python3.7/dist-packages/sklearn/svm/_base.py:1208: ConvergenceWarning: Liblinear failed to converge, increase the number of iterations.\n",
            "  ConvergenceWarning,\n",
            "/usr/local/lib/python3.7/dist-packages/sklearn/svm/_base.py:1208: ConvergenceWarning: Liblinear failed to converge, increase the number of iterations.\n",
            "  ConvergenceWarning,\n",
            "/usr/local/lib/python3.7/dist-packages/sklearn/svm/_base.py:1208: ConvergenceWarning: Liblinear failed to converge, increase the number of iterations.\n",
            "  ConvergenceWarning,\n"
          ]
        },
        {
          "output_type": "execute_result",
          "data": {
            "text/plain": [
              "array([[82, 12],\n",
              "       [17, 38]])"
            ]
          },
          "metadata": {},
          "execution_count": 120
        }
      ]
    },
    {
      "cell_type": "code",
      "source": [
        "plt.matshow(conf_mx_1, cmap = plt.cm.gray)\n",
        "plt.matshow(conf1_mx_1, cmap = plt.cm.gray)\n",
        "plt.show()"
      ],
      "metadata": {
        "colab": {
          "base_uri": "https://localhost:8080/",
          "height": 539
        },
        "id": "esEgnN7SfSOD",
        "outputId": "389e132e-ffaf-447e-c6b6-7b151da30ff9"
      },
      "execution_count": 121,
      "outputs": [
        {
          "output_type": "display_data",
          "data": {
            "text/plain": [
              "<Figure size 288x288 with 1 Axes>"
            ],
            "image/png": "[encoded data removed]"
          },
          "metadata": {
            "needs_background": "light"
          }
        },
        {
          "output_type": "display_data",
          "data": {
            "text/plain": [
              "<Figure size 288x288 with 1 Axes>"
            ],
            "image/png": "[encoded data removed]"
          },
          "metadata": {
            "needs_background": "light"
          }
        }
      ]
    },
    {
      "cell_type": "code",
      "source": [
        "y_train_pred = cross_val_predict(svm_clf2, X_train_scaled, y_train, cv=3)\n",
        "conf_mx1 = confusion_matrix(y_train, y_train_pred)\n",
        "conf_mx1"
      ],
      "metadata": {
        "colab": {
          "base_uri": "https://localhost:8080/"
        },
        "id": "NzQjh410fa0j",
        "outputId": "87691347-4717-4fa3-d457-c591fafae9fd"
      },
      "execution_count": 78,
      "outputs": [
        {
          "output_type": "stream",
          "name": "stderr",
          "text": [
            "/usr/local/lib/python3.7/dist-packages/sklearn/svm/_base.py:1208: ConvergenceWarning: Liblinear failed to converge, increase the number of iterations.\n",
            "  ConvergenceWarning,\n",
            "/usr/local/lib/python3.7/dist-packages/sklearn/svm/_base.py:1208: ConvergenceWarning: Liblinear failed to converge, increase the number of iterations.\n",
            "  ConvergenceWarning,\n",
            "/usr/local/lib/python3.7/dist-packages/sklearn/svm/_base.py:1208: ConvergenceWarning: Liblinear failed to converge, increase the number of iterations.\n",
            "  ConvergenceWarning,\n"
          ]
        },
        {
          "output_type": "execute_result",
          "data": {
            "text/plain": [
              "array([[323,  41],\n",
              "       [ 52, 176]])"
            ]
          },
          "metadata": {},
          "execution_count": 78
        }
      ]
    },
    {
      "cell_type": "code",
      "source": [
        "y_train_pred1 = cross_val_predict(svm_clf1, X_train_scaled, y_train, cv=3)\n",
        "conf1_mx1 = confusion_matrix(y_train, y_train_pred1)\n",
        "conf1_mx1"
      ],
      "metadata": {
        "colab": {
          "base_uri": "https://localhost:8080/"
        },
        "id": "C_a9ALb3nBOK",
        "outputId": "784f99d5-97ac-4506-9da6-56623a622c50"
      },
      "execution_count": 122,
      "outputs": [
        {
          "output_type": "stream",
          "name": "stderr",
          "text": [
            "/usr/local/lib/python3.7/dist-packages/sklearn/svm/_base.py:1208: ConvergenceWarning: Liblinear failed to converge, increase the number of iterations.\n",
            "  ConvergenceWarning,\n",
            "/usr/local/lib/python3.7/dist-packages/sklearn/svm/_base.py:1208: ConvergenceWarning: Liblinear failed to converge, increase the number of iterations.\n",
            "  ConvergenceWarning,\n",
            "/usr/local/lib/python3.7/dist-packages/sklearn/svm/_base.py:1208: ConvergenceWarning: Liblinear failed to converge, increase the number of iterations.\n",
            "  ConvergenceWarning,\n"
          ]
        },
        {
          "output_type": "execute_result",
          "data": {
            "text/plain": [
              "array([[324,  40],\n",
              "       [ 52, 176]])"
            ]
          },
          "metadata": {},
          "execution_count": 122
        }
      ]
    },
    {
      "cell_type": "code",
      "source": [
        "plt.matshow(conf_mx1, cmap = plt.cm.gray)\n",
        "plt.matshow(conf1_mx1, cmap = plt.cm.gray)\n",
        "plt.show()"
      ],
      "metadata": {
        "colab": {
          "base_uri": "https://localhost:8080/",
          "height": 539
        },
        "id": "ebYo5XcYfxCs",
        "outputId": "fbe23865-0eb9-43c0-e68f-0aaeb924367a"
      },
      "execution_count": 123,
      "outputs": [
        {
          "output_type": "display_data",
          "data": {
            "text/plain": [
              "<Figure size 288x288 with 1 Axes>"
            ],
            "image/png": "[encoded data removed]"
          },
          "metadata": {
            "needs_background": "light"
          }
        },
        {
          "output_type": "display_data",
          "data": {
            "text/plain": [
              "<Figure size 288x288 with 1 Axes>"
            ],
            "image/png": "[encoded data removed]"
          },
          "metadata": {
            "needs_background": "light"
          }
        }
      ]
    },
    {
      "cell_type": "code",
      "source": [
        "y_train_pred_1 = cross_val_predict(svm_clf2, X_train, y_train, cv=3)\n",
        "conf_mx1_1 = confusion_matrix(y_train, y_train_pred_1)\n",
        "conf_mx1_1"
      ],
      "metadata": {
        "colab": {
          "base_uri": "https://localhost:8080/"
        },
        "id": "YKMexUdjfnv2",
        "outputId": "c1d8aae4-01d6-421c-bd55-d446dd8c2836"
      },
      "execution_count": 80,
      "outputs": [
        {
          "output_type": "stream",
          "name": "stderr",
          "text": [
            "/usr/local/lib/python3.7/dist-packages/sklearn/svm/_base.py:1208: ConvergenceWarning: Liblinear failed to converge, increase the number of iterations.\n",
            "  ConvergenceWarning,\n",
            "/usr/local/lib/python3.7/dist-packages/sklearn/svm/_base.py:1208: ConvergenceWarning: Liblinear failed to converge, increase the number of iterations.\n",
            "  ConvergenceWarning,\n",
            "/usr/local/lib/python3.7/dist-packages/sklearn/svm/_base.py:1208: ConvergenceWarning: Liblinear failed to converge, increase the number of iterations.\n",
            "  ConvergenceWarning,\n"
          ]
        },
        {
          "output_type": "execute_result",
          "data": {
            "text/plain": [
              "array([[305,  59],\n",
              "       [ 58, 170]])"
            ]
          },
          "metadata": {},
          "execution_count": 80
        }
      ]
    },
    {
      "cell_type": "code",
      "source": [
        "y_train_pred1_1 = cross_val_predict(svm_clf1, X_train, y_train, cv=3)\n",
        "conf1_mx1_1 = confusion_matrix(y_train, y_train_pred1_1)\n",
        "conf1_mx1_1"
      ],
      "metadata": {
        "colab": {
          "base_uri": "https://localhost:8080/"
        },
        "id": "MRfmPoosnUFH",
        "outputId": "2f3bcf6b-3224-4758-98ef-7adabfeeff2e"
      },
      "execution_count": 124,
      "outputs": [
        {
          "output_type": "stream",
          "name": "stderr",
          "text": [
            "/usr/local/lib/python3.7/dist-packages/sklearn/svm/_base.py:1208: ConvergenceWarning: Liblinear failed to converge, increase the number of iterations.\n",
            "  ConvergenceWarning,\n",
            "/usr/local/lib/python3.7/dist-packages/sklearn/svm/_base.py:1208: ConvergenceWarning: Liblinear failed to converge, increase the number of iterations.\n",
            "  ConvergenceWarning,\n",
            "/usr/local/lib/python3.7/dist-packages/sklearn/svm/_base.py:1208: ConvergenceWarning: Liblinear failed to converge, increase the number of iterations.\n",
            "  ConvergenceWarning,\n"
          ]
        },
        {
          "output_type": "execute_result",
          "data": {
            "text/plain": [
              "array([[328,  36],\n",
              "       [ 53, 175]])"
            ]
          },
          "metadata": {},
          "execution_count": 124
        }
      ]
    },
    {
      "cell_type": "code",
      "source": [
        "plt.matshow(conf_mx1_1, cmap = plt.cm.gray)\n",
        "plt.matshow(conf1_mx1_1, cmap = plt.cm.gray)\n",
        "plt.show()"
      ],
      "metadata": {
        "colab": {
          "base_uri": "https://localhost:8080/",
          "height": 539
        },
        "id": "g-Z9QpVafz6d",
        "outputId": "d9dbd44f-bf84-4d02-a23f-adfed5475820"
      },
      "execution_count": 125,
      "outputs": [
        {
          "output_type": "display_data",
          "data": {
            "text/plain": [
              "<Figure size 288x288 with 1 Axes>"
            ],
            "image/png": "[encoded data removed]"
          },
          "metadata": {
            "needs_background": "light"
          }
        },
        {
          "output_type": "display_data",
          "data": {
            "text/plain": [
              "<Figure size 288x288 with 1 Axes>"
            ],
            "image/png": "[encoded data removed]"
          },
          "metadata": {
            "needs_background": "light"
          }
        }
      ]
    },
    {
      "cell_type": "markdown",
      "source": [
        "### nonlinear"
      ],
      "metadata": {
        "id": "hxyvnTzqvoPR"
      }
    },
    {
      "cell_type": "code",
      "source": [
        "from sklearn.datasets import make_moons\n",
        "from sklearn.pipeline import Pipeline\n",
        "from sklearn.preprocessing import PolynomialFeatures\n",
        "\n",
        "polynomial_svm_clf = Pipeline([\n",
        "        (\"poly_features\", PolynomialFeatures(degree=1)),\n",
        "        (\"scaler\", StandardScaler()),\n",
        "        (\"svm_clf\", LinearSVC(C=10, loss=\"hinge\", random_state=42))\n",
        "    ])\n",
        "\n",
        "polynomial_svm_clf.fit(X, y)"
      ],
      "metadata": {
        "colab": {
          "base_uri": "https://localhost:8080/"
        },
        "id": "DZhrkpRLrZRK",
        "outputId": "9af82041-fad3-4b0a-e6bb-119ea809dbd1"
      },
      "execution_count": 22,
      "outputs": [
        {
          "output_type": "stream",
          "name": "stderr",
          "text": [
            "/usr/local/lib/python3.7/dist-packages/sklearn/svm/_base.py:1208: ConvergenceWarning: Liblinear failed to converge, increase the number of iterations.\n",
            "  ConvergenceWarning,\n"
          ]
        },
        {
          "output_type": "execute_result",
          "data": {
            "text/plain": [
              "Pipeline(steps=[('poly_features', PolynomialFeatures(degree=1)),\n",
              "                ('scaler', StandardScaler()),\n",
              "                ('svm_clf', LinearSVC(C=10, loss='hinge', random_state=42))])"
            ]
          },
          "metadata": {},
          "execution_count": 22
        }
      ]
    },
    {
      "cell_type": "code",
      "source": [
        ""
      ],
      "metadata": {
        "id": "p47oNQPVGftX"
      },
      "execution_count": null,
      "outputs": []
    }
  ]
}
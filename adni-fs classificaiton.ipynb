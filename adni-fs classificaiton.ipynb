{
 "cells": [
  {
   "cell_type": "code",
   "execution_count": 1,
   "id": "cd7f7124",
   "metadata": {},
   "outputs": [],
   "source": [
    "# Python ≥3.5 is required\n",
    "import sys\n",
    "assert sys.version_info >= (3, 5)\n",
    "\n",
    "# Scikit-Learn ≥0.20 is required\n",
    "import sklearn\n",
    "assert sklearn.__version__ >= \"0.20\""
   ]
  },
  {
   "cell_type": "code",
   "execution_count": 2,
   "id": "da8c5f67",
   "metadata": {},
   "outputs": [],
   "source": [
    "# To plot pretty figures directly within Jupyter\n",
    "%matplotlib inline\n",
    "import matplotlib as mpl\n",
    "mpl.rc('axes', labelsize=14)\n",
    "mpl.rc('xtick', labelsize=12)\n",
    "mpl.rc('ytick', labelsize=12)"
   ]
  },
  {
   "cell_type": "code",
   "execution_count": 3,
   "id": "493fe6f2",
   "metadata": {},
   "outputs": [],
   "source": [
    "# Code example\n",
    "import matplotlib.pyplot as plt\n",
    "import numpy as np\n",
    "import pandas as pd\n",
    "import sklearn.linear_model"
   ]
  },
  {
   "cell_type": "code",
   "execution_count": 4,
   "id": "592a65e4",
   "metadata": {},
   "outputs": [],
   "source": [
    "#문자열로 이루어진 배열을 숫자 배열로 바꿈 AD = 1, MCI = 2, CN = 3\n",
    "\n",
    "def change_str_to_int(arr):\n",
    "    import numpy as np\n",
    "    arr_idx = np.zeros(shape=len(arr))\n",
    "    idx = 0\n",
    "    for i in arr:\n",
    "        if i == \"AD\":\n",
    "            arr_idx[idx]=1\n",
    "        elif i == \"MCI\":\n",
    "            arr_idx[idx]=2\n",
    "        elif i == \"CN\":\n",
    "            arr_idx[idx]=3\n",
    "        idx+=1\n",
    "    return arr_idx"
   ]
  },
  {
   "cell_type": "code",
   "execution_count": 5,
   "id": "36bdfea3",
   "metadata": {
    "scrolled": false
   },
   "outputs": [],
   "source": [
    "# Load the data\n",
    "data = pd.read_csv(\"D:\\가톨릭대학교\\\\AIMed\\\\인공지능 경험랩\\\\data\\\\adni-fs.csv\")\n",
    "\n",
    "TA = data.filter(regex=\"TA$\")\n",
    "\n",
    "data_extracted= pd.merge(left=data[['diagnosis']], right=TA, left_index=True, right_index=True)\n",
    "\n",
    "data_extracted = data_extracted.dropna()\n"
   ]
  },
  {
   "cell_type": "code",
   "execution_count": 7,
   "id": "6f5723a0",
   "metadata": {},
   "outputs": [],
   "source": [
    "data_shuffled =sklearn.utils.shuffle(data_extracted)"
   ]
  },
  {
   "cell_type": "code",
   "execution_count": 8,
   "id": "1a8e6879",
   "metadata": {},
   "outputs": [],
   "source": [
    "df_shuffled = data_extracted.iloc[np.random.permutation(len(data_extracted))].reset_index(drop=True)"
   ]
  },
  {
   "cell_type": "code",
   "execution_count": 43,
   "id": "b23be0d3",
   "metadata": {},
   "outputs": [],
   "source": [
    "# Prepare the data\n",
    "\n",
    "X= df_shuffled.filter(regex=\"TA$\").values\n",
    "#X = data_extracted['ST13TA'].values\n",
    "y = df_shuffled['diagnosis'].values\n",
    "y_idx = change_str_to_int(y)"
   ]
  },
  {
   "cell_type": "code",
   "execution_count": 15,
   "id": "740f8a53",
   "metadata": {},
   "outputs": [],
   "source": [
    "# Prepare the data\n",
    "\n",
    "X= data_shuffled.filter(regex=\"TA$\").values\n",
    "#X = data_extracted['ST13TA'].values\n",
    "y = data_shuffled['diagnosis'].values\n",
    "y_idx = change_str_to_int(y)"
   ]
  },
  {
   "cell_type": "code",
   "execution_count": 6,
   "id": "6a73ccbf",
   "metadata": {},
   "outputs": [],
   "source": [
    "\n",
    "# Prepare the data\n",
    "\n",
    "X = data_extracted.filter(regex=\"TA$\").values\n",
    "#X = data_extracted['ST13TA'].values\n",
    "y = data_extracted['diagnosis'].values\n",
    "y_idx = change_str_to_int(y)"
   ]
  },
  {
   "cell_type": "code",
   "execution_count": 7,
   "id": "123b7d8d",
   "metadata": {},
   "outputs": [
    {
     "data": {
      "text/plain": [
       "'    \\nplt.scatter(X,y)\\n'"
      ]
     },
     "execution_count": 7,
     "metadata": {},
     "output_type": "execute_result"
    },
    {
     "data": {
      "image/png": "[encoded data removed]",
      "text/plain": [
       "<Figure size 432x288 with 1 Axes>"
      ]
     },
     "metadata": {
      "needs_background": "light"
     },
     "output_type": "display_data"
    }
   ],
   "source": [
    "# Visualize the data\n",
    "\n",
    "for i in range(68):\n",
    "    T = X[:,i]\n",
    "    plt.scatter(T,y)\n",
    "'''    \n",
    "plt.scatter(X,y)\n",
    "'''"
   ]
  },
  {
   "cell_type": "code",
   "execution_count": 8,
   "id": "3de712bf",
   "metadata": {},
   "outputs": [
    {
     "data": {
      "text/plain": [
       "LinearRegression()"
      ]
     },
     "execution_count": 8,
     "metadata": {},
     "output_type": "execute_result"
    }
   ],
   "source": [
    "# Select a linear model\n",
    "model = sklearn.linear_model.LinearRegression()\n",
    "\n",
    "# Train the model\n",
    "model.fit(X, y_idx)"
   ]
  },
  {
   "cell_type": "code",
   "execution_count": 9,
   "id": "5f41ec90",
   "metadata": {},
   "outputs": [],
   "source": [
    "X_train, X_test, y_train, y_test = X[:1400], X[1400:],y_idx[:1400],y_idx[1400:]"
   ]
  },
  {
   "cell_type": "code",
   "execution_count": 10,
   "id": "5da6e3b0",
   "metadata": {},
   "outputs": [],
   "source": [
    "y_train_AD = (y_train == 1)\n",
    "y_test_AD = (y_test == 1)\n",
    "y_train_MCI = (y_train == 2)\n",
    "y_test_MCI = (y_test == 2)\n",
    "y_train_CN = (y_train == 3)\n",
    "y_test_CN = (y_test == 3)"
   ]
  },
  {
   "cell_type": "code",
   "execution_count": 11,
   "id": "a1c2b4bc",
   "metadata": {},
   "outputs": [
    {
     "data": {
      "text/plain": [
       "SGDClassifier(max_iter=1000000, random_state=100)"
      ]
     },
     "execution_count": 11,
     "metadata": {},
     "output_type": "execute_result"
    }
   ],
   "source": [
    "from sklearn.linear_model import SGDClassifier\n",
    "sgd_clf_AD = SGDClassifier(max_iter=1000000,tol=1e-3,random_state=100)\n",
    "sgd_clf_AD.fit(X_train,y_train_AD)"
   ]
  },
  {
   "cell_type": "code",
   "execution_count": 12,
   "id": "c5398946",
   "metadata": {},
   "outputs": [],
   "source": [
    "model = sklearn.linear_model.LinearRegression()"
   ]
  },
  {
   "cell_type": "code",
   "execution_count": 13,
   "id": "004d7685",
   "metadata": {},
   "outputs": [
    {
     "data": {
      "text/plain": [
       "LinearRegression()"
      ]
     },
     "execution_count": 13,
     "metadata": {},
     "output_type": "execute_result"
    }
   ],
   "source": [
    "model.fit(X_train, y_train)"
   ]
  },
  {
   "cell_type": "code",
   "execution_count": 14,
   "id": "caf0affd",
   "metadata": {},
   "outputs": [
    {
     "data": {
      "text/plain": [
       "array([ True])"
      ]
     },
     "execution_count": 14,
     "metadata": {},
     "output_type": "execute_result"
    }
   ],
   "source": [
    "sgd_clf_AD.predict([X[0]])"
   ]
  },
  {
   "cell_type": "code",
   "execution_count": 15,
   "id": "df890363",
   "metadata": {},
   "outputs": [
    {
     "data": {
      "text/plain": [
       "'AD'"
      ]
     },
     "execution_count": 15,
     "metadata": {},
     "output_type": "execute_result"
    }
   ],
   "source": [
    "y[0]"
   ]
  },
  {
   "cell_type": "code",
   "execution_count": 17,
   "id": "e1d1a818",
   "metadata": {},
   "outputs": [
    {
     "data": {
      "text/plain": [
       "array([1.18472337])"
      ]
     },
     "execution_count": 17,
     "metadata": {},
     "output_type": "execute_result"
    }
   ],
   "source": [
    "model.predict([X[0]])"
   ]
  },
  {
   "cell_type": "code",
   "execution_count": 18,
   "id": "324b3a66",
   "metadata": {},
   "outputs": [
    {
     "name": "stdout",
     "output_type": "stream",
     "text": [
      "0.7987152034261242\n",
      "0.8372591006423983\n",
      "0.4699570815450644\n"
     ]
    }
   ],
   "source": [
    "#cross validation\n",
    "from sklearn.model_selection import StratifiedKFold\n",
    "from sklearn.base import clone\n",
    "skfolds = StratifiedKFold(n_splits=3)\n",
    "\n",
    "for train_index, test_index in skfolds.split(X_train, y_train_AD):\n",
    "  clone_clf = clone(sgd_clf_AD)\n",
    "  X_train_folds = X_train[train_index]\n",
    "  y_train_folds = y_train_AD[train_index]\n",
    "  X_test_fold = X_train[test_index]\n",
    "  y_test_fold = y_train_AD[test_index]\n",
    "\n",
    "  clone_clf.fit(X_train_folds, y_train_folds)\n",
    "  y_pred = clone_clf.predict(X_test_fold)\n",
    "  n_correct = sum(y_pred == y_test_fold)\n",
    "  print(n_correct / len(y_pred))"
   ]
  },
  {
   "cell_type": "code",
   "execution_count": 19,
   "id": "894d309e",
   "metadata": {},
   "outputs": [
    {
     "data": {
      "text/plain": [
       "array([0.7987152 , 0.8372591 , 0.46995708])"
      ]
     },
     "execution_count": 19,
     "metadata": {},
     "output_type": "execute_result"
    }
   ],
   "source": [
    "from sklearn.model_selection import cross_val_score\n",
    "cross_val_score(sgd_clf_AD, X_train, y_train_AD,cv=3,scoring=\"accuracy\")"
   ]
  },
  {
   "cell_type": "code",
   "execution_count": 20,
   "id": "e9e8234e",
   "metadata": {},
   "outputs": [
    {
     "data": {
      "text/plain": [
       "array([0.1073219 , 0.19956341, 0.19026746])"
      ]
     },
     "execution_count": 20,
     "metadata": {},
     "output_type": "execute_result"
    }
   ],
   "source": [
    "from sklearn.model_selection import cross_val_score\n",
    "cross_val_score(model, X_train, y_train_AD,cv =3)"
   ]
  },
  {
   "cell_type": "code",
   "execution_count": 21,
   "id": "c454842e",
   "metadata": {},
   "outputs": [
    {
     "name": "stdout",
     "output_type": "stream",
     "text": [
      "['AD' 'MCI' 'CN' ... 'CN' 'CN' 'CN']\n"
     ]
    }
   ],
   "source": [
    "print(y)"
   ]
  },
  {
   "cell_type": "code",
   "execution_count": 22,
   "id": "b5454b4d",
   "metadata": {},
   "outputs": [
    {
     "data": {
      "text/plain": [
       "array([ True])"
      ]
     },
     "execution_count": 22,
     "metadata": {},
     "output_type": "execute_result"
    }
   ],
   "source": [
    "sgd_clf_AD.predict([X[0]])"
   ]
  },
  {
   "cell_type": "code",
   "execution_count": 23,
   "id": "fbd7233b",
   "metadata": {},
   "outputs": [
    {
     "data": {
      "text/plain": [
       "array([ True, False, False, ..., False,  True,  True])"
      ]
     },
     "execution_count": 23,
     "metadata": {},
     "output_type": "execute_result"
    }
   ],
   "source": [
    "# confusion matrix\n",
    "\n",
    "from sklearn.model_selection import  cross_val_predict\n",
    "\n",
    "y_train_pred_AD = cross_val_predict(sgd_clf_AD, X_train, y_train_AD, cv = 3)\n",
    "\n",
    "y_train_pred_AD"
   ]
  },
  {
   "cell_type": "code",
   "execution_count": 24,
   "id": "878c261a",
   "metadata": {},
   "outputs": [
    {
     "data": {
      "text/plain": [
       "array([[862, 288],\n",
       "       [129, 121]], dtype=int64)"
      ]
     },
     "execution_count": 24,
     "metadata": {},
     "output_type": "execute_result"
    }
   ],
   "source": [
    "from sklearn.metrics import confusion_matrix\n",
    "\n",
    "confusion_matrix(y_train_AD, y_train_pred_AD)\n",
    "\n",
    "#row = 실제 class, column = 예측한 class\n",
    "\n",
    "# TN FP\n",
    "# FN TP\n",
    "\n",
    "\n",
    "# Recall : AD라고 예측한 데이터들 중 실제 AD인 데이터 확률 (TP / TP + FN)\n",
    "# Precision : 실제 AD인 데이터들 중 예측값도 AD인 데이터 확률 (TP / TP +  FP)\n",
    "\n"
   ]
  },
  {
   "cell_type": "code",
   "execution_count": 25,
   "id": "3aa7d0fa",
   "metadata": {},
   "outputs": [
    {
     "data": {
      "text/plain": [
       "0.29584352078239606"
      ]
     },
     "execution_count": 25,
     "metadata": {},
     "output_type": "execute_result"
    }
   ],
   "source": [
    "from sklearn.metrics import precision_score, recall_score\n",
    "\n",
    "precision_score(y_train_AD, y_train_pred_AD)"
   ]
  },
  {
   "cell_type": "code",
   "execution_count": 26,
   "id": "aa6f423e",
   "metadata": {},
   "outputs": [
    {
     "data": {
      "text/plain": [
       "0.484"
      ]
     },
     "execution_count": 26,
     "metadata": {},
     "output_type": "execute_result"
    }
   ],
   "source": [
    "recall_score(y_train_AD,y_train_pred_AD)"
   ]
  },
  {
   "cell_type": "code",
   "execution_count": 27,
   "id": "2cb0a26d",
   "metadata": {},
   "outputs": [
    {
     "data": {
      "text/plain": [
       "0.36722306525037934"
      ]
     },
     "execution_count": 27,
     "metadata": {},
     "output_type": "execute_result"
    }
   ],
   "source": [
    "from sklearn.metrics import f1_score\n",
    "\n",
    "f1_score(y_train_AD, y_train_pred_AD)"
   ]
  },
  {
   "cell_type": "code",
   "execution_count": 28,
   "id": "33ea39bf",
   "metadata": {},
   "outputs": [
    {
     "data": {
      "text/plain": [
       "array([20.57433859])"
      ]
     },
     "execution_count": 28,
     "metadata": {},
     "output_type": "execute_result"
    }
   ],
   "source": [
    "y_scores_AD = sgd_clf_AD.decision_function([X[0]])\n",
    "y_scores_AD"
   ]
  },
  {
   "cell_type": "code",
   "execution_count": 29,
   "id": "338ce68f",
   "metadata": {},
   "outputs": [
    {
     "data": {
      "text/plain": [
       "array([ True])"
      ]
     },
     "execution_count": 29,
     "metadata": {},
     "output_type": "execute_result"
    }
   ],
   "source": [
    "threshold_AD= 0\n",
    "y_some_X_pred_AD = (y_scores_AD > threshold_AD)\n",
    "y_some_X_pred_AD"
   ]
  },
  {
   "cell_type": "code",
   "execution_count": 58,
   "id": "6d00bd3a",
   "metadata": {},
   "outputs": [
    {
     "data": {
      "text/plain": [
       "array([ True])"
      ]
     },
     "execution_count": 58,
     "metadata": {},
     "output_type": "execute_result"
    }
   ],
   "source": [
    "threshold_AD= -54\n",
    "y_some_X_pred_AD = (y_scores_AD > threshold_AD)\n",
    "y_some_X_pred_AD"
   ]
  },
  {
   "cell_type": "code",
   "execution_count": 30,
   "id": "e6a78452",
   "metadata": {},
   "outputs": [],
   "source": [
    "y_scores_AD = cross_val_predict(sgd_clf_AD, X_train, y_train_AD, cv = 3, method = \"decision_function\")\n",
    "\n",
    "#precision_recall_curve() 모든 thereshold에 대한 precision과 recall변화 추이 알 수 있다."
   ]
  },
  {
   "cell_type": "code",
   "execution_count": 31,
   "id": "a1186175",
   "metadata": {},
   "outputs": [],
   "source": [
    "from sklearn.metrics import precision_recall_curve\n",
    "\n",
    "precisions_AD, recalls_AD, thresholds_AD = precision_recall_curve(y_train_AD, y_scores_AD)"
   ]
  },
  {
   "cell_type": "code",
   "execution_count": 32,
   "id": "dd937886",
   "metadata": {},
   "outputs": [
    {
     "data": {
      "image/png": "[encoded data removed]",
      "text/plain": [
       "<Figure size 576x288 with 1 Axes>"
      ]
     },
     "metadata": {
      "needs_background": "light"
     },
     "output_type": "display_data"
    }
   ],
   "source": [
    "precisions_AD, recalls_AD, thresholds_AD = precision_recall_curve(y_train_AD, y_scores_AD)\n",
    "\n",
    "def plot_precision_recall_vs_threshold(precisions, recalls, thresholds):\n",
    "    plt.plot(thresholds, precisions[:-1], \"b--\", label=\"Precision\", linewidth=2)\n",
    "    plt.plot(thresholds, recalls[:-1], \"g-\", label=\"Recall\", linewidth=2)\n",
    "    plt.legend(loc=\"center right\", fontsize=10) # Not shown in the book\n",
    "    plt.xlabel(\"Threshold\", fontsize=10)        # Not shown\n",
    "    plt.grid(True)                              # Not shown\n",
    "    plt.axis([-125, 125, 0, 1])             # Not shown\n",
    "\n",
    "\n",
    "\n",
    "recall_90_precision_AD = recalls_AD[np.argmax(precisions_AD >= 0.90)]\n",
    "threshold_90_precision_AD = thresholds_AD[np.argmax(precisions_AD >= 0.90)]\n",
    "\n",
    "\n",
    "plt.figure(figsize=(8, 4))                                                                  # Not shown\n",
    "plot_precision_recall_vs_threshold(precisions_AD, recalls_AD, thresholds_AD)\n",
    "plt.plot([threshold_90_precision_AD, threshold_90_precision_AD], [0., 0.9], \"r:\")                 # Not shown\n",
    "plt.plot([-125, threshold_90_precision_AD], [0.9, 0.9], \"r:\")                                # Not shown\n",
    "plt.plot([-125, threshold_90_precision_AD], [recall_90_precision_AD, recall_90_precision_AD], \"r:\")# Not shown\n",
    "plt.plot([threshold_90_precision_AD], [0.9], \"ro\")                                             # Not shown\n",
    "plt.plot([threshold_90_precision_AD], [recall_90_precision_AD], \"ro\")                             # Not shown                   \n",
    "plt.show()"
   ]
  },
  {
   "cell_type": "code",
   "execution_count": 33,
   "id": "f6234df0",
   "metadata": {},
   "outputs": [
    {
     "data": {
      "image/png": "[encoded data removed]",
      "text/plain": [
       "<Figure size 576x432 with 1 Axes>"
      ]
     },
     "metadata": {
      "needs_background": "light"
     },
     "output_type": "display_data"
    }
   ],
   "source": [
    "def plot_recall_vs_precisons(precisions, recalls):\n",
    "    plt.plot(recalls[:-1], precisions[:-1], \"b--\", linewidth=2)\n",
    "    plt.xlabel(\"Recall\", fontsize=10)\n",
    "    plt.ylabel(\"Precision\", fontsize=10)\n",
    "    plt.grid(True)\n",
    "    plt.axis([0, 1, 0, 1])\n",
    "    \n",
    "recall_90_precision_AD = recalls_AD[np.argmax(precisions_AD >= 0.90)]\n",
    "\n",
    "plt.figure(figsize=(8, 6)) \n",
    "plot_recall_vs_precisons(precisions_AD, recalls_AD)\n",
    "plt.plot([recall_90_precision_AD, recall_90_precision_AD], [0., 0.9], \"r:\") \n",
    "\n",
    "plt.plot([recall_90_precision_AD], [0.9], \"ro\") \n",
    "plt.show()"
   ]
  },
  {
   "cell_type": "code",
   "execution_count": 34,
   "id": "8b7e9ab3",
   "metadata": {},
   "outputs": [],
   "source": [
    "threshold_90_precision = thresholds_AD[np.argmax(precisions_AD >= 0.90)]"
   ]
  },
  {
   "cell_type": "code",
   "execution_count": 35,
   "id": "462f5aac",
   "metadata": {},
   "outputs": [],
   "source": [
    "y_train_pred_90 = (y_scores_AD >= threshold_90_precision)"
   ]
  },
  {
   "cell_type": "code",
   "execution_count": 36,
   "id": "27e0df86",
   "metadata": {},
   "outputs": [
    {
     "data": {
      "text/plain": [
       "1.0"
      ]
     },
     "execution_count": 36,
     "metadata": {},
     "output_type": "execute_result"
    }
   ],
   "source": [
    "precision_score(y_train_AD, y_train_pred_90)"
   ]
  },
  {
   "cell_type": "code",
   "execution_count": 37,
   "id": "1e9270fc",
   "metadata": {},
   "outputs": [
    {
     "data": {
      "text/plain": [
       "0.012"
      ]
     },
     "execution_count": 37,
     "metadata": {},
     "output_type": "execute_result"
    }
   ],
   "source": [
    "recall_score(y_train_AD, y_train_pred_90) #그냥 전체 다 AD라고 예측,,,,,,,,? ㅜ.."
   ]
  },
  {
   "cell_type": "code",
   "execution_count": 38,
   "id": "0ed91363",
   "metadata": {},
   "outputs": [],
   "source": [
    "# ROC Curve\n",
    "\n",
    "from sklearn.metrics import roc_curve\n",
    "\n",
    "fpr_AD, tpr_AD, thresholds_AD = roc_curve(y_train_AD, y_scores_AD)"
   ]
  },
  {
   "cell_type": "code",
   "execution_count": 39,
   "id": "8566017f",
   "metadata": {},
   "outputs": [
    {
     "data": {
      "image/png": "[encoded data removed]",
      "text/plain": [
       "<Figure size 576x432 with 1 Axes>"
      ]
     },
     "metadata": {
      "needs_background": "light"
     },
     "output_type": "display_data"
    }
   ],
   "source": [
    "def plot_roc_curve(fpr, tpr, label=None):\n",
    "    plt.plot(fpr, tpr, linewidth=2, label=label)\n",
    "    plt.plot([0, 1], [0, 1], 'k--') # dashed diagonal\n",
    "    plt.axis([0, 1, 0, 1])                                    # Not shown in the book\n",
    "    plt.xlabel('False Positive Rate (Fall-Out)', fontsize=16) # Not shown\n",
    "    plt.ylabel('True Positive Rate (Recall)', fontsize=16)    # Not shown\n",
    "    plt.grid(True)                                            # Not shown\n",
    "\n",
    "plt.figure(figsize=(8, 6))                         # Not shown\n",
    "plot_roc_curve(fpr_AD, tpr_AD)\n",
    "fpr_90 = fpr_AD[np.argmax(tpr_AD >= recall_90_precision_AD)]\n",
    "plt.plot([fpr_90, fpr_90], [ 0. , recall_90_precision_AD], \"r:\")\n",
    "plt.plot([0.0, fpr_90], [recall_90_precision_AD, recall_90_precision_AD], \"r:\")\n",
    "plt.plot([fpr_90], [recall_90_precision_AD], \"ro\")\n",
    "plt.show()\n"
   ]
  },
  {
   "cell_type": "code",
   "execution_count": 40,
   "id": "f051c4a9",
   "metadata": {},
   "outputs": [
    {
     "data": {
      "text/plain": [
       "0.7152904347826087"
      ]
     },
     "execution_count": 40,
     "metadata": {},
     "output_type": "execute_result"
    }
   ],
   "source": [
    "# Area Under Curve (AUC) : compare classifiers\n",
    "\n",
    "from sklearn.metrics import roc_auc_score\n",
    "roc_auc_score(y_train_AD, y_scores_AD)"
   ]
  },
  {
   "cell_type": "code",
   "execution_count": 41,
   "id": "4738c28d",
   "metadata": {},
   "outputs": [],
   "source": [
    "# RandomForestClassifier\n",
    "\n",
    "from sklearn.ensemble import RandomForestClassifier\n",
    "\n",
    "forest_clf_AD = RandomForestClassifier(random_state = 42)\n",
    "y_probas_forest_AD = cross_val_predict(forest_clf_AD, X_train, y_train_AD, cv=3, method = \"predict_proba\")"
   ]
  },
  {
   "cell_type": "code",
   "execution_count": 42,
   "id": "ca0d5c49",
   "metadata": {},
   "outputs": [],
   "source": [
    "y_scores_forest_AD = y_probas_forest_AD[:, 1] # score = proba of positive class\n",
    "fpr_forest_AD, tpr_forest_AD, thresholds_forest_AD = roc_curve(y_train_AD, y_scores_forest_AD)"
   ]
  },
  {
   "cell_type": "code",
   "execution_count": 43,
   "id": "0627c062",
   "metadata": {},
   "outputs": [
    {
     "data": {
      "image/png": "[encoded data removed]",
      "text/plain": [
       "<Figure size 576x432 with 1 Axes>"
      ]
     },
     "metadata": {
      "needs_background": "light"
     },
     "output_type": "display_data"
    }
   ],
   "source": [
    "plt.figure(figsize=(8, 6))\n",
    "plt.plot(fpr_AD, tpr_AD, \"b:\", label =\"SGD\")\n",
    "plot_roc_curve(fpr_forest_AD, tpr_forest_AD,\"Random Forest\")\n",
    "plt.legend(loc=\"lower right\")\n",
    "\n",
    "fpr_90 = fpr_AD[np.argmax(tpr_AD >= recall_90_precision_AD)]\n",
    "plt.plot([fpr_90, fpr_90], [ 0. , recall_90_precision_AD], \"r:\")\n",
    "plt.plot([0.0, fpr_90], [recall_90_precision_AD, recall_90_precision_AD], \"r:\")\n",
    "plt.plot([fpr_90], [recall_90_precision_AD], \"ro\")\n",
    "\n",
    "fpr_90_forest = fpr_forest_AD[np.argmax(tpr_forest_AD >= recall_90_precision_AD)]\n",
    "plt.plot([fpr_90_forest, fpr_90_forest], [ 0. , recall_90_precision_AD], \"r:\")\n",
    "plt.plot([0.0, fpr_90_forest], [recall_90_precision_AD, recall_90_precision_AD], \"r:\")\n",
    "plt.plot([fpr_90_forest], [recall_90_precision_AD], \"ro\")\n",
    "\n",
    "plt.show()"
   ]
  },
  {
   "cell_type": "code",
   "execution_count": 44,
   "id": "d68306b3",
   "metadata": {},
   "outputs": [
    {
     "data": {
      "text/plain": [
       "0.7998556521739131"
      ]
     },
     "execution_count": 44,
     "metadata": {},
     "output_type": "execute_result"
    }
   ],
   "source": [
    "roc_auc_score(y_train_AD, y_scores_forest_AD)"
   ]
  },
  {
   "cell_type": "code",
   "execution_count": 45,
   "id": "347767a1",
   "metadata": {},
   "outputs": [
    {
     "data": {
      "text/plain": [
       "array([1.])"
      ]
     },
     "execution_count": 45,
     "metadata": {},
     "output_type": "execute_result"
    }
   ],
   "source": [
    "# Multi-Class Classification\n",
    "\n",
    "from sklearn.svm import SVC\n",
    "\n",
    "svm_clf = SVC()\n",
    "svm_clf.fit(X_train, y_train)\n",
    "svm_clf.predict([X[0]])"
   ]
  },
  {
   "cell_type": "code",
   "execution_count": 46,
   "id": "b41e6232",
   "metadata": {},
   "outputs": [
    {
     "data": {
      "text/plain": [
       "array([[ 2.24230429,  1.17155159, -0.26274512]])"
      ]
     },
     "execution_count": 46,
     "metadata": {},
     "output_type": "execute_result"
    }
   ],
   "source": [
    "some_dig_scores = svm_clf.decision_function([X[0]])\n",
    "some_dig_scores"
   ]
  },
  {
   "cell_type": "code",
   "execution_count": 50,
   "id": "6e982229",
   "metadata": {},
   "outputs": [
    {
     "data": {
      "text/plain": [
       "0"
      ]
     },
     "execution_count": 50,
     "metadata": {},
     "output_type": "execute_result"
    }
   ],
   "source": [
    "np.argmax(some_dig_scores)"
   ]
  },
  {
   "cell_type": "code",
   "execution_count": 49,
   "id": "5a1e3c96",
   "metadata": {},
   "outputs": [
    {
     "data": {
      "text/plain": [
       "array([1., 2., 3.])"
      ]
     },
     "execution_count": 49,
     "metadata": {},
     "output_type": "execute_result"
    }
   ],
   "source": [
    "svm_clf.classes_"
   ]
  },
  {
   "cell_type": "code",
   "execution_count": 51,
   "id": "a89a7b09",
   "metadata": {},
   "outputs": [
    {
     "data": {
      "text/plain": [
       "1.0"
      ]
     },
     "execution_count": 51,
     "metadata": {},
     "output_type": "execute_result"
    }
   ],
   "source": [
    "svm_clf.classes_[0]"
   ]
  },
  {
   "cell_type": "code",
   "execution_count": 96,
   "id": "68e6e324",
   "metadata": {},
   "outputs": [
    {
     "data": {
      "text/plain": [
       "'MCI'"
      ]
     },
     "execution_count": 96,
     "metadata": {},
     "output_type": "execute_result"
    }
   ],
   "source": [
    "y[223]"
   ]
  },
  {
   "cell_type": "code",
   "execution_count": 67,
   "id": "7e200668",
   "metadata": {},
   "outputs": [
    {
     "data": {
      "text/plain": [
       "array([2.])"
      ]
     },
     "execution_count": 67,
     "metadata": {},
     "output_type": "execute_result"
    }
   ],
   "source": [
    "from sklearn.multiclass import OneVsRestClassifier\n",
    "\n",
    "ovr_clf = OneVsRestClassifier(SVC())\n",
    "ovr_clf.fit(X_train, y_train)\n",
    "ovr_clf.predict([X[9]])"
   ]
  },
  {
   "cell_type": "code",
   "execution_count": 71,
   "id": "b3d70d1f",
   "metadata": {},
   "outputs": [
    {
     "data": {
      "text/plain": [
       "3"
      ]
     },
     "execution_count": 71,
     "metadata": {},
     "output_type": "execute_result"
    }
   ],
   "source": [
    "len(ovr_clf.estimators_)"
   ]
  },
  {
   "cell_type": "code",
   "execution_count": 97,
   "id": "2ac8a077",
   "metadata": {},
   "outputs": [
    {
     "data": {
      "text/plain": [
       "array([1.])"
      ]
     },
     "execution_count": 97,
     "metadata": {},
     "output_type": "execute_result"
    }
   ],
   "source": [
    "from sklearn.linear_model import SGDClassifier\n",
    "sgd_clf = SGDClassifier(max_iter=1000000,tol=1e-3,random_state=100)\n",
    "sgd_clf.fit(X_train,y_train)\n",
    "sgd_clf.predict([X[223]])"
   ]
  },
  {
   "cell_type": "code",
   "execution_count": 98,
   "id": "55935240",
   "metadata": {},
   "outputs": [
    {
     "data": {
      "text/plain": [
       "array([[ -0.63377941, -17.82232717, -52.4581651 ]])"
      ]
     },
     "execution_count": 98,
     "metadata": {},
     "output_type": "execute_result"
    }
   ],
   "source": [
    "sgd_clf.decision_function([X[223]])"
   ]
  },
  {
   "cell_type": "code",
   "execution_count": 95,
   "id": "dbfa548d",
   "metadata": {},
   "outputs": [
    {
     "data": {
      "text/plain": [
       "array([0.48608137, 0.52034261, 0.5193133 ])"
      ]
     },
     "execution_count": 95,
     "metadata": {},
     "output_type": "execute_result"
    }
   ],
   "source": [
    "cross_val_score(sgd_clf, X_train, y_train, cv=3, scoring=\"accuracy\")"
   ]
  },
  {
   "cell_type": "code",
   "execution_count": 99,
   "id": "b276219c",
   "metadata": {},
   "outputs": [
    {
     "data": {
      "text/plain": [
       "array([0.43683084, 0.49892934, 0.50429185])"
      ]
     },
     "execution_count": 99,
     "metadata": {},
     "output_type": "execute_result"
    }
   ],
   "source": [
    "from sklearn.preprocessing import StandardScaler\n",
    "\n",
    "scaler = StandardScaler()\n",
    "X_train_scaled = scaler.fit_transform(X_train.astype(np.float64))\n",
    "cross_val_score(sgd_clf, X_train_scaled, y_train, cv=3, scoring=\"accuracy\")\n"
   ]
  },
  {
   "cell_type": "code",
   "execution_count": 106,
   "id": "636d217f",
   "metadata": {},
   "outputs": [
    {
     "data": {
      "text/plain": [
       "array([[105, 127,  18],\n",
       "       [133, 433, 198],\n",
       "       [ 13, 239, 134]], dtype=int64)"
      ]
     },
     "execution_count": 106,
     "metadata": {},
     "output_type": "execute_result"
    }
   ],
   "source": [
    "y_train_pred = cross_val_predict(sgd_clf, X_train_scaled, y_train, cv=3)\n",
    "conf_mx = confusion_matrix(y_train, y_train_pred)\n",
    "conf_mx"
   ]
  },
  {
   "cell_type": "code",
   "execution_count": 107,
   "id": "5b062a58",
   "metadata": {},
   "outputs": [
    {
     "data": {
      "image/png": "[encoded data removed]",
      "text/plain": [
       "<Figure size 288x288 with 1 Axes>"
      ]
     },
     "metadata": {
      "needs_background": "light"
     },
     "output_type": "display_data"
    }
   ],
   "source": [
    "plt.matshow(conf_mx, cmap = plt.cm.gray)\n",
    "plt.show()"
   ]
  },
  {
   "cell_type": "code",
   "execution_count": 108,
   "id": "a5cf0732",
   "metadata": {},
   "outputs": [
    {
     "data": {
      "text/plain": [
       "array([[ 46, 186,  18],\n",
       "       [ 47, 532, 185],\n",
       "       [  5, 247, 134]], dtype=int64)"
      ]
     },
     "execution_count": 108,
     "metadata": {},
     "output_type": "execute_result"
    }
   ],
   "source": [
    "y_train_pred_1 = cross_val_predict(sgd_clf, X_train, y_train, cv=3)\n",
    "conf_mx_1 = confusion_matrix(y_train, y_train_pred_1)\n",
    "conf_mx_1"
   ]
  },
  {
   "cell_type": "code",
   "execution_count": 109,
   "id": "e2725fa0",
   "metadata": {
    "scrolled": true
   },
   "outputs": [
    {
     "data": {
      "image/png": "[encoded data removed]",
      "text/plain": [
       "<Figure size 288x288 with 1 Axes>"
      ]
     },
     "metadata": {
      "needs_background": "light"
     },
     "output_type": "display_data"
    }
   ],
   "source": [
    "plt.matshow(conf_mx_1, cmap = plt.cm.gray)\n",
    "plt.show()"
   ]
  },
  {
   "cell_type": "code",
   "execution_count": 110,
   "id": "ecea56b2",
   "metadata": {},
   "outputs": [],
   "source": [
    "row_sums = conf_mx.sum(axis=1, keepdims=True)\n",
    "norm_conf_mx = conf_mx / row_sums"
   ]
  },
  {
   "cell_type": "code",
   "execution_count": 111,
   "id": "ae5d5254",
   "metadata": {},
   "outputs": [
    {
     "data": {
      "image/png": "[encoded data removed]",
      "text/plain": [
       "<Figure size 288x288 with 1 Axes>"
      ]
     },
     "metadata": {
      "needs_background": "light"
     },
     "output_type": "display_data"
    }
   ],
   "source": [
    "np.fill_diagonal(norm_conf_mx, 0)\n",
    "plt.matshow(norm_conf_mx, cmap=plt.cm.gray)\n",
    "plt.show()"
   ]
  },
  {
   "cell_type": "code",
   "execution_count": null,
   "id": "ca3b33c7",
   "metadata": {},
   "outputs": [],
   "source": []
  }
 ],
 "metadata": {
  "kernelspec": {
   "display_name": "Python 3 (ipykernel)",
   "language": "python",
   "name": "python3"
  },
  "language_info": {
   "codemirror_mode": {
    "name": "ipython",
    "version": 3
   },
   "file_extension": ".py",
   "mimetype": "text/x-python",
   "name": "python",
   "nbconvert_exporter": "python",
   "pygments_lexer": "ipython3",
   "version": "3.7.13"
  }
 },
 "nbformat": 4,
 "nbformat_minor": 5
}

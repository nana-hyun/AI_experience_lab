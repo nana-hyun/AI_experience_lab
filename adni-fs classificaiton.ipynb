{
 "cells": [
  {
   "cell_type": "code",
   "execution_count": 1,
   "id": "cd7f7124",
   "metadata": {},
   "outputs": [],
   "source": [
    "# Python ≥3.5 is required\n",
    "import sys\n",
    "assert sys.version_info >= (3, 5)\n",
    "\n",
    "# Scikit-Learn ≥0.20 is required\n",
    "import sklearn\n",
    "assert sklearn.__version__ >= \"0.20\""
   ]
  },
  {
   "cell_type": "code",
   "execution_count": 2,
   "id": "da8c5f67",
   "metadata": {},
   "outputs": [],
   "source": [
    "# To plot pretty figures directly within Jupyter\n",
    "%matplotlib inline\n",
    "import matplotlib as mpl\n",
    "mpl.rc('axes', labelsize=14)\n",
    "mpl.rc('xtick', labelsize=12)\n",
    "mpl.rc('ytick', labelsize=12)"
   ]
  },
  {
   "cell_type": "code",
   "execution_count": 3,
   "id": "493fe6f2",
   "metadata": {},
   "outputs": [],
   "source": [
    "# Code example\n",
    "import matplotlib.pyplot as plt\n",
    "import numpy as np\n",
    "import pandas as pd\n",
    "import sklearn.linear_model"
   ]
  },
  {
   "cell_type": "code",
   "execution_count": 54,
   "id": "f29a4906",
   "metadata": {},
   "outputs": [],
   "source": [
    "#문자열로 이루어진 배열을 숫자 배열로 바꿈 AD = 1, MCI = 2, CN = 3\n",
    "\n",
    "def change_str_to_int(arr):\n",
    "    import numpy as np\n",
    "    arr_idx = np.zeros(shape=len(arr))\n",
    "    idx = 0\n",
    "    for i in arr:\n",
    "        if i == \"AD\":\n",
    "            arr_idx[idx]=1\n",
    "        elif i == \"MCI\":\n",
    "            arr_idx[idx]=2\n",
    "        elif i == \"CN\":\n",
    "            arr_idx[idx]=3\n",
    "        idx+=1\n",
    "    return arr_idx"
   ]
  },
  {
   "cell_type": "code",
   "execution_count": 55,
   "id": "36bdfea3",
   "metadata": {
    "scrolled": false
   },
   "outputs": [],
   "source": [
    "# Load the data\n",
    "data = pd.read_csv(\"D:\\가톨릭대학교\\\\AIMed\\\\인공지능 경험랩\\\\data\\\\adni-fs.csv\")\n",
    "\n",
    "TA = data.filter(regex=\"TA$\")\n",
    "\n",
    "data_extracted= pd.merge(left=data[['diagnosis']], right=TA, left_index=True, right_index=True)\n",
    "\n",
    "data_extracted = data_extracted.dropna()\n"
   ]
  },
  {
   "cell_type": "code",
   "execution_count": 58,
   "id": "6a73ccbf",
   "metadata": {},
   "outputs": [],
   "source": [
    "\n",
    "# Prepare the data\n",
    "\n",
    "X = data_extracted.filter(regex=\"TA$\").values\n",
    "#X = data_extracted['ST13TA'].values\n",
    "y = data_extracted['diagnosis'].values\n",
    "y_idx = change_str_to_int(y)"
   ]
  },
  {
   "cell_type": "code",
   "execution_count": 59,
   "id": "123b7d8d",
   "metadata": {},
   "outputs": [
    {
     "data": {
      "text/plain": [
       "'    \\nplt.scatter(X,y)\\n'"
      ]
     },
     "execution_count": 59,
     "metadata": {},
     "output_type": "execute_result"
    },
    {
     "data": {
      "image/png": "[encoded data removed]",
      "text/plain": [
       "<Figure size 432x288 with 1 Axes>"
      ]
     },
     "metadata": {
      "needs_background": "light"
     },
     "output_type": "display_data"
    }
   ],
   "source": [
    "# Visualize the data\n",
    "\n",
    "for i in range(68):\n",
    "    T = X[:,i]\n",
    "    plt.scatter(T,y)\n",
    "'''    \n",
    "plt.scatter(X,y)\n",
    "'''"
   ]
  },
  {
   "cell_type": "code",
   "execution_count": 60,
   "id": "3de712bf",
   "metadata": {},
   "outputs": [
    {
     "data": {
      "text/plain": [
       "LinearRegression()"
      ]
     },
     "execution_count": 60,
     "metadata": {},
     "output_type": "execute_result"
    }
   ],
   "source": [
    "# Select a linear model\n",
    "model = sklearn.linear_model.LinearRegression()\n",
    "\n",
    "# Train the model\n",
    "model.fit(X, y_idx)"
   ]
  },
  {
   "cell_type": "code",
   "execution_count": 61,
   "id": "66120634",
   "metadata": {},
   "outputs": [],
   "source": [
    "X_train, X_test, y_train, y_test = X[:1000], X[1000:],y_idx[:1000],y_idx[1000:]"
   ]
  },
  {
   "cell_type": "code",
   "execution_count": 62,
   "id": "232abbb1",
   "metadata": {},
   "outputs": [],
   "source": [
    "y_train_AD = (y_train == 1)\n",
    "y_test_AD = (y_test == 1)\n",
    "y_train_MCI = (y_train == 2)\n",
    "y_test_MCI = (y_test == 2)\n",
    "y_train_CN = (y_train == 3)\n",
    "y_test_CN = (y_test == 3)"
   ]
  },
  {
   "cell_type": "code",
   "execution_count": 63,
   "id": "3e7eb245",
   "metadata": {},
   "outputs": [
    {
     "data": {
      "text/plain": [
       "SGDClassifier(max_iter=2000, random_state=68)"
      ]
     },
     "execution_count": 63,
     "metadata": {},
     "output_type": "execute_result"
    }
   ],
   "source": [
    "from sklearn.linear_model import SGDClassifier\n",
    "sgd_clf_AD = SGDClassifier(max_iter=2000,tol=1e-3,random_state=68)\n",
    "sgd_clf_AD.fit(X_train,y_train_AD)"
   ]
  },
  {
   "cell_type": "code",
   "execution_count": 64,
   "id": "03b5ce18",
   "metadata": {},
   "outputs": [],
   "source": [
    "model = sklearn.linear_model.LinearRegression()"
   ]
  },
  {
   "cell_type": "code",
   "execution_count": 65,
   "id": "06937b20",
   "metadata": {},
   "outputs": [
    {
     "data": {
      "text/plain": [
       "LinearRegression()"
      ]
     },
     "execution_count": 65,
     "metadata": {},
     "output_type": "execute_result"
    }
   ],
   "source": [
    "model.fit(X_train, y_train)"
   ]
  },
  {
   "cell_type": "code",
   "execution_count": 66,
   "id": "306ac8ee",
   "metadata": {},
   "outputs": [
    {
     "data": {
      "text/plain": [
       "array([False])"
      ]
     },
     "execution_count": 66,
     "metadata": {},
     "output_type": "execute_result"
    }
   ],
   "source": [
    "sgd_clf_AD.predict([X_test[4]])"
   ]
  },
  {
   "cell_type": "code",
   "execution_count": 67,
   "id": "2a030edd",
   "metadata": {},
   "outputs": [
    {
     "data": {
      "text/plain": [
       "array([2.27511097])"
      ]
     },
     "execution_count": 67,
     "metadata": {},
     "output_type": "execute_result"
    }
   ],
   "source": [
    "model.predict([X[90]])"
   ]
  },
  {
   "cell_type": "code",
   "execution_count": 68,
   "id": "3fe8be2d",
   "metadata": {},
   "outputs": [
    {
     "name": "stdout",
     "output_type": "stream",
     "text": [
      "0.8083832335329342\n",
      "0.8258258258258259\n",
      "0.7477477477477478\n"
     ]
    }
   ],
   "source": [
    "#cross validation\n",
    "from sklearn.model_selection import StratifiedKFold\n",
    "from sklearn.base import clone\n",
    "skfolds = StratifiedKFold(n_splits=3)\n",
    "\n",
    "for train_index, test_index in skfolds.split(X_train, y_train_AD):\n",
    "  clone_clf = clone(sgd_clf_AD)\n",
    "  X_train_folds = X_train[train_index]\n",
    "  y_train_folds = y_train_AD[train_index]\n",
    "  X_test_fold = X_train[test_index]\n",
    "  y_test_fold = y_train_AD[test_index]\n",
    "\n",
    "  clone_clf.fit(X_train_folds, y_train_folds)\n",
    "  y_pred = clone_clf.predict(X_test_fold)\n",
    "  n_correct = sum(y_pred == y_test_fold)\n",
    "  print(n_correct / len(y_pred))"
   ]
  },
  {
   "cell_type": "code",
   "execution_count": 80,
   "id": "b89e90fd",
   "metadata": {},
   "outputs": [
    {
     "data": {
      "text/plain": [
       "array([0.80838323, 0.82582583, 0.74774775])"
      ]
     },
     "execution_count": 80,
     "metadata": {},
     "output_type": "execute_result"
    }
   ],
   "source": [
    "from sklearn.model_selection import cross_val_score\n",
    "cross_val_score(sgd_clf_AD, X_train, y_train_AD,cv=3,scoring=\"accuracy\")"
   ]
  },
  {
   "cell_type": "code",
   "execution_count": 81,
   "id": "cdb83387",
   "metadata": {},
   "outputs": [
    {
     "data": {
      "text/plain": [
       "array([0.05284092, 0.1262353 , 0.10164279])"
      ]
     },
     "execution_count": 81,
     "metadata": {},
     "output_type": "execute_result"
    }
   ],
   "source": [
    "from sklearn.model_selection import cross_val_score\n",
    "cross_val_score(model, X_train, y_train_AD,cv =3)"
   ]
  },
  {
   "cell_type": "code",
   "execution_count": 71,
   "id": "4116c16b",
   "metadata": {},
   "outputs": [
    {
     "data": {
      "text/plain": [
       "array(['AD', 'MCI', 'CN', ..., 'CN', 'CN', 'CN'], dtype=object)"
      ]
     },
     "execution_count": 71,
     "metadata": {},
     "output_type": "execute_result"
    }
   ],
   "source": [
    "y"
   ]
  },
  {
   "cell_type": "code",
   "execution_count": 75,
   "id": "c9438601",
   "metadata": {},
   "outputs": [
    {
     "data": {
      "text/plain": [
       "array([ True])"
      ]
     },
     "execution_count": 75,
     "metadata": {},
     "output_type": "execute_result"
    }
   ],
   "source": [
    "sgd_clf_AD.predict([X[46]])"
   ]
  },
  {
   "cell_type": "code",
   "execution_count": 91,
   "id": "58e56f93",
   "metadata": {},
   "outputs": [
    {
     "data": {
      "text/plain": [
       "array([ True, False, False, False, False, False, False, False, False,\n",
       "       False, False, False, False, False, False, False, False, False,\n",
       "       False, False, False, False, False, False, False, False, False,\n",
       "       False,  True, False, False, False, False, False, False, False,\n",
       "       False, False, False, False, False, False, False, False, False,\n",
       "       False, False, False, False, False, False, False, False, False,\n",
       "       False, False, False, False, False, False,  True, False, False,\n",
       "       False, False, False, False, False, False, False, False, False,\n",
       "       False, False, False, False, False, False, False, False, False,\n",
       "       False, False, False, False, False, False, False, False, False,\n",
       "       False,  True, False, False,  True, False, False, False, False,\n",
       "       False, False, False, False, False, False, False, False, False,\n",
       "       False, False,  True, False, False, False,  True, False, False,\n",
       "        True, False, False, False, False, False, False, False, False,\n",
       "       False, False, False, False, False, False, False, False, False,\n",
       "       False, False, False,  True, False, False, False, False, False,\n",
       "       False, False, False, False, False, False, False, False, False,\n",
       "       False, False, False, False, False, False, False, False, False,\n",
       "       False, False, False, False, False, False, False, False, False,\n",
       "       False, False,  True, False, False, False, False, False, False,\n",
       "       False, False, False, False, False, False, False, False, False,\n",
       "        True, False,  True, False, False, False, False, False, False,\n",
       "        True, False,  True, False, False,  True, False, False, False,\n",
       "        True, False, False, False, False, False, False, False, False,\n",
       "        True, False, False, False, False, False, False, False, False,\n",
       "        True, False, False, False, False, False, False, False, False,\n",
       "       False, False, False, False, False, False, False, False, False,\n",
       "       False, False, False, False, False, False, False,  True, False,\n",
       "       False,  True, False, False, False, False,  True, False, False,\n",
       "       False, False, False, False, False, False, False, False, False,\n",
       "       False, False, False, False, False, False, False, False, False,\n",
       "       False, False, False, False, False, False, False, False, False,\n",
       "       False, False, False, False, False, False, False, False, False,\n",
       "       False, False, False, False, False, False, False, False, False,\n",
       "       False, False, False, False, False, False, False, False, False,\n",
       "       False, False, False,  True, False, False, False, False, False,\n",
       "       False, False, False,  True, False, False, False, False, False,\n",
       "        True, False, False, False, False, False, False, False, False,\n",
       "       False, False, False, False, False, False, False, False, False,\n",
       "       False, False, False, False, False, False, False, False, False,\n",
       "        True, False, False, False, False, False, False, False, False,\n",
       "       False,  True, False, False, False, False, False, False, False,\n",
       "       False, False, False, False, False, False, False, False, False,\n",
       "       False, False, False, False, False, False, False, False, False,\n",
       "       False,  True, False, False, False, False,  True, False,  True,\n",
       "       False,  True, False, False, False, False, False, False, False,\n",
       "       False, False, False, False, False, False, False, False, False,\n",
       "       False,  True, False, False, False,  True, False, False, False,\n",
       "        True, False, False, False, False, False, False, False, False,\n",
       "       False, False, False, False, False, False, False, False, False,\n",
       "       False, False, False, False, False,  True,  True, False, False,\n",
       "       False, False, False, False,  True, False, False, False, False,\n",
       "       False, False, False,  True, False,  True, False, False, False,\n",
       "       False, False, False, False, False, False, False,  True, False,\n",
       "       False, False, False, False, False, False, False, False, False,\n",
       "       False, False, False,  True, False, False, False, False,  True,\n",
       "        True, False, False, False, False, False, False, False, False,\n",
       "       False, False, False, False, False, False, False, False, False,\n",
       "       False, False, False, False, False, False, False, False, False,\n",
       "       False, False, False,  True, False, False, False, False, False,\n",
       "       False, False, False,  True, False, False, False, False, False,\n",
       "       False, False, False, False, False, False, False, False, False,\n",
       "       False,  True, False, False, False, False, False, False, False,\n",
       "        True, False, False,  True, False, False, False, False, False,\n",
       "       False, False, False, False, False,  True, False,  True,  True,\n",
       "       False, False,  True, False, False,  True, False, False, False,\n",
       "        True,  True, False, False, False,  True, False, False, False,\n",
       "       False, False, False, False, False, False, False, False, False,\n",
       "       False, False,  True, False, False,  True, False,  True, False,\n",
       "        True, False,  True, False, False, False,  True,  True, False,\n",
       "       False, False,  True, False, False, False, False, False, False,\n",
       "       False, False,  True, False, False, False,  True, False,  True,\n",
       "       False, False, False, False, False, False,  True, False, False,\n",
       "        True, False, False, False, False, False, False, False, False,\n",
       "        True, False, False, False, False, False, False,  True, False,\n",
       "       False, False,  True, False, False,  True, False, False, False,\n",
       "       False, False, False, False, False, False, False,  True, False,\n",
       "        True,  True,  True, False, False,  True,  True,  True, False,\n",
       "        True,  True,  True,  True, False, False,  True, False,  True,\n",
       "       False,  True, False, False,  True, False, False,  True,  True,\n",
       "        True, False, False, False, False,  True, False,  True,  True,\n",
       "        True,  True,  True,  True, False,  True, False,  True,  True,\n",
       "       False,  True,  True,  True,  True,  True,  True,  True, False,\n",
       "        True, False,  True, False,  True, False, False, False, False,\n",
       "        True,  True, False, False, False, False, False,  True, False,\n",
       "       False,  True,  True, False,  True,  True, False, False,  True,\n",
       "       False, False, False, False, False, False, False,  True, False,\n",
       "       False, False,  True, False, False,  True, False, False, False,\n",
       "       False, False, False, False,  True,  True, False, False, False,\n",
       "       False, False, False, False, False,  True, False, False, False,\n",
       "       False, False, False, False, False, False,  True, False, False,\n",
       "       False, False,  True, False,  True,  True, False, False, False,\n",
       "       False, False, False, False, False, False, False, False, False,\n",
       "       False, False, False, False, False, False,  True, False,  True,\n",
       "       False, False, False, False, False, False, False, False, False,\n",
       "        True, False, False, False, False, False,  True, False, False,\n",
       "       False, False, False,  True,  True, False,  True, False,  True,\n",
       "        True,  True, False, False,  True, False,  True,  True,  True,\n",
       "       False, False,  True, False,  True, False,  True, False,  True,\n",
       "       False,  True, False, False, False, False, False, False, False,\n",
       "       False, False, False, False,  True,  True, False, False, False,\n",
       "       False,  True, False, False, False, False,  True, False, False,\n",
       "        True, False, False, False, False, False, False, False, False,\n",
       "       False, False, False, False,  True, False, False, False,  True,\n",
       "       False, False, False, False, False,  True, False, False, False,\n",
       "       False,  True,  True,  True, False, False, False,  True, False,\n",
       "        True, False, False, False, False, False, False, False,  True,\n",
       "        True,  True, False,  True,  True,  True, False, False,  True,\n",
       "       False,  True, False, False, False, False, False,  True, False,\n",
       "       False,  True, False, False, False, False, False, False, False,\n",
       "       False, False,  True, False, False, False, False,  True, False,\n",
       "        True])"
      ]
     },
     "execution_count": 91,
     "metadata": {},
     "output_type": "execute_result"
    }
   ],
   "source": [
    "# confusion matrix\n",
    "\n",
    "from sklearn.model_selection import  cross_val_predict\n",
    "\n",
    "y_train_pred_AD = cross_val_predict(sgd_clf_AD, X_train, y_train_AD, cv = 3)\n",
    "\n",
    "y_train_pred_AD"
   ]
  },
  {
   "cell_type": "code",
   "execution_count": 87,
   "id": "9e60c84c",
   "metadata": {},
   "outputs": [
    {
     "data": {
      "text/plain": [
       "array([[718,  97],\n",
       "       [109,  76]], dtype=int64)"
      ]
     },
     "execution_count": 87,
     "metadata": {},
     "output_type": "execute_result"
    }
   ],
   "source": [
    "from sklearn.metrics import confusion_matrix\n",
    "\n",
    "confusion_matrix(y_train_AD, y_train_pred_AD)\n",
    "\n",
    "#row = 실제 class, column = 예측한 class\n",
    "\n",
    "# TN FP\n",
    "# FN TP\n",
    "\n",
    "\n",
    "# Recall : AD라고 예측한 데이터들 중 실제 AD인 데이터 확률 (TP / TP + FN)\n",
    "# Precision : 실제 AD인 데이터들 중 예측값도 AD인 데이터 확률 (TP / TP +  FP)\n",
    "\n"
   ]
  },
  {
   "cell_type": "code",
   "execution_count": 88,
   "id": "693e818e",
   "metadata": {},
   "outputs": [
    {
     "data": {
      "text/plain": [
       "0.4393063583815029"
      ]
     },
     "execution_count": 88,
     "metadata": {},
     "output_type": "execute_result"
    }
   ],
   "source": [
    "from sklearn.metrics import precision_score, recall_score\n",
    "\n",
    "precision_score(y_train_AD, y_train_pred_AD)"
   ]
  },
  {
   "cell_type": "code",
   "execution_count": 92,
   "id": "1def3b77",
   "metadata": {},
   "outputs": [
    {
     "data": {
      "text/plain": [
       "0.41081081081081083"
      ]
     },
     "execution_count": 92,
     "metadata": {},
     "output_type": "execute_result"
    }
   ],
   "source": [
    "recall_score(y_train_AD,y_train_pred_AD)"
   ]
  },
  {
   "cell_type": "code",
   "execution_count": 93,
   "id": "c78ee881",
   "metadata": {},
   "outputs": [
    {
     "data": {
      "text/plain": [
       "0.4245810055865922"
      ]
     },
     "execution_count": 93,
     "metadata": {},
     "output_type": "execute_result"
    }
   ],
   "source": [
    "from sklearn.metrics import f1_score\n",
    "\n",
    "f1_score(y_train_AD, y_train_pred_AD)"
   ]
  },
  {
   "cell_type": "code",
   "execution_count": 111,
   "id": "d766a8c2",
   "metadata": {},
   "outputs": [
    {
     "data": {
      "text/plain": [
       "array([-40.70382996])"
      ]
     },
     "execution_count": 111,
     "metadata": {},
     "output_type": "execute_result"
    }
   ],
   "source": [
    "y_scores_AD = sgd_clf_AD.decision_function([X[4]])\n",
    "y_scores_AD"
   ]
  },
  {
   "cell_type": "code",
   "execution_count": 112,
   "id": "753844d2",
   "metadata": {},
   "outputs": [
    {
     "data": {
      "text/plain": [
       "array([False])"
      ]
     },
     "execution_count": 112,
     "metadata": {},
     "output_type": "execute_result"
    }
   ],
   "source": [
    "threshold_AD= 0\n",
    "y_some_X_pred_AD = (y_scores_AD > threshold_AD)\n",
    "y_some_X_pred_AD"
   ]
  },
  {
   "cell_type": "code",
   "execution_count": 113,
   "id": "63b11e69",
   "metadata": {},
   "outputs": [
    {
     "data": {
      "text/plain": [
       "array([ True])"
      ]
     },
     "execution_count": 113,
     "metadata": {},
     "output_type": "execute_result"
    }
   ],
   "source": [
    "threshold_AD= -51\n",
    "y_some_X_pred_AD = (y_scores_AD > threshold_AD)\n",
    "y_some_X_pred_AD"
   ]
  },
  {
   "cell_type": "code",
   "execution_count": 116,
   "id": "67d1d4c9",
   "metadata": {},
   "outputs": [],
   "source": [
    "y_scores_AD = cross_val_predict(sgd_clf_AD, X_train, y_train_AD, cv = 3, method = \"decision_function\")\n",
    "\n",
    "#precision_recall_curve() 모든 thereshold에 대한 precision과 recall변화 추이 알 수 있다."
   ]
  },
  {
   "cell_type": "code",
   "execution_count": 117,
   "id": "430df851",
   "metadata": {},
   "outputs": [],
   "source": [
    "from sklearn.metrics import precision_recall_curve\n",
    "\n",
    "precisions_AD, recalls_AD, thresholds_AD = precision_recall_curve(y_train_AD, y_scores_AD)"
   ]
  },
  {
   "cell_type": "code",
   "execution_count": 201,
   "id": "1251ff6d",
   "metadata": {},
   "outputs": [
    {
     "data": {
      "image/png": "[encoded data removed]",
      "text/plain": [
       "<Figure size 576x288 with 1 Axes>"
      ]
     },
     "metadata": {
      "needs_background": "light"
     },
     "output_type": "display_data"
    }
   ],
   "source": [
    "precisions_AD, recalls_AD, thresholds_AD = precision_recall_curve(y_train_AD, y_scores_AD)\n",
    "\n",
    "def plot_precision_recall_vs_threshold(precisions, recalls, thresholds):\n",
    "    plt.plot(thresholds, precisions[:-1], \"b--\", label=\"Precision\", linewidth=2)\n",
    "    plt.plot(thresholds, recalls[:-1], \"g-\", label=\"Recall\", linewidth=2)\n",
    "    plt.legend(loc=\"center right\", fontsize=10) # Not shown in the book\n",
    "    plt.xlabel(\"Threshold\", fontsize=10)        # Not shown\n",
    "    plt.grid(True)                              # Not shown\n",
    "    plt.axis([-125, 125, 0, 1])             # Not shown\n",
    "\n",
    "\n",
    "\n",
    "recall_90_precision_AD = recalls_AD[np.argmax(precisions_AD >= 0.90)]\n",
    "threshold_90_precision_AD = thresholds_AD[np.argmax(precisions_AD >= 0.90)]\n",
    "\n",
    "\n",
    "plt.figure(figsize=(8, 4))                                                                  # Not shown\n",
    "plot_precision_recall_vs_threshold(precisions_AD, recalls_AD, thresholds_AD)\n",
    "plt.plot([threshold_90_precision_AD, threshold_90_precision_AD], [0., 0.9], \"r:\")                 # Not shown\n",
    "plt.plot([-125, threshold_90_precision_AD], [0.9, 0.9], \"r:\")                                # Not shown\n",
    "plt.plot([-125, threshold_90_precision_AD], [recall_90_precision_AD, recall_90_precision_AD], \"r:\")# Not shown\n",
    "plt.plot([threshold_90_precision_AD], [0.9], \"ro\")                                             # Not shown\n",
    "plt.plot([threshold_90_precision_AD], [recall_90_precision_AD], \"ro\")                             # Not shown                   \n",
    "plt.show()"
   ]
  },
  {
   "cell_type": "code",
   "execution_count": 202,
   "id": "3ae94037",
   "metadata": {},
   "outputs": [
    {
     "data": {
      "image/png": "[encoded data removed]",
      "text/plain": [
       "<Figure size 576x432 with 1 Axes>"
      ]
     },
     "metadata": {
      "needs_background": "light"
     },
     "output_type": "display_data"
    }
   ],
   "source": [
    "def plot_recall_vs_precisons(precisions, recalls):\n",
    "    plt.plot(recalls[:-1], precisions[:-1], \"b--\", linewidth=2)\n",
    "    plt.xlabel(\"Recall\", fontsize=10)\n",
    "    plt.ylabel(\"Precision\", fontsize=10)\n",
    "    plt.grid(True)\n",
    "    plt.axis([0, 1, 0, 1])\n",
    "    \n",
    "recall_90_precision_AD = recalls_AD[np.argmax(precisions_AD >= 0.90)]\n",
    "\n",
    "plt.figure(figsize=(8, 6)) \n",
    "plot_recall_vs_precisons(precisions_AD, recalls_AD)\n",
    "plt.plot([recall_90_precision_AD, recall_90_precision_AD], [0., 0.9], \"r:\") \n",
    "\n",
    "plt.plot([recall_90_precision_AD], [0.9], \"ro\") \n",
    "plt.show()"
   ]
  },
  {
   "cell_type": "code",
   "execution_count": 203,
   "id": "2675239e",
   "metadata": {},
   "outputs": [],
   "source": [
    "threshold_90_precision = thresholds_AD[np.argmax(precisions_AD >= 0.90)]"
   ]
  },
  {
   "cell_type": "code",
   "execution_count": 204,
   "id": "2ca2cfd2",
   "metadata": {},
   "outputs": [],
   "source": [
    "y_train_pred_90 = (y_scores_AD >= threshold_90_precision)"
   ]
  },
  {
   "cell_type": "code",
   "execution_count": 205,
   "id": "fe65e98e",
   "metadata": {},
   "outputs": [
    {
     "data": {
      "text/plain": [
       "1.0"
      ]
     },
     "execution_count": 205,
     "metadata": {},
     "output_type": "execute_result"
    }
   ],
   "source": [
    "precision_score(y_train_AD, y_train_pred_90)"
   ]
  },
  {
   "cell_type": "code",
   "execution_count": 206,
   "id": "3b23c0ed",
   "metadata": {},
   "outputs": [
    {
     "data": {
      "text/plain": [
       "0.03783783783783784"
      ]
     },
     "execution_count": 206,
     "metadata": {},
     "output_type": "execute_result"
    }
   ],
   "source": [
    "recall_score(y_train_AD, y_train_pred_90) #그냥 전체 다 AD라고 예측,,,,,,,,? ㅜ.."
   ]
  },
  {
   "cell_type": "code",
   "execution_count": 207,
   "id": "6005a513",
   "metadata": {},
   "outputs": [],
   "source": [
    "# ROC Curve\n",
    "\n",
    "from sklearn.metrics import roc_curve\n",
    "\n",
    "fpr_AD, tpr_AD, thresholds_AD = roc_curve(y_train_AD, y_scores_AD)"
   ]
  },
  {
   "cell_type": "code",
   "execution_count": 213,
   "id": "19b77bad",
   "metadata": {},
   "outputs": [
    {
     "data": {
      "image/png": "[encoded data removed]",
      "text/plain": [
       "<Figure size 576x432 with 1 Axes>"
      ]
     },
     "metadata": {
      "needs_background": "light"
     },
     "output_type": "display_data"
    }
   ],
   "source": [
    "def plot_roc_curve(fpr, tpr, label=None):\n",
    "    plt.plot(fpr, tpr, linewidth=2, label=label)\n",
    "    plt.plot([0, 1], [0, 1], 'k--') # dashed diagonal\n",
    "    plt.axis([0, 0.2, 0, 0.2])                                    # Not shown in the book\n",
    "    plt.xlabel('False Positive Rate (Fall-Out)', fontsize=16) # Not shown\n",
    "    plt.ylabel('True Positive Rate (Recall)', fontsize=16)    # Not shown\n",
    "    plt.grid(True)                                            # Not shown\n",
    "\n",
    "plt.figure(figsize=(8, 6))                         # Not shown\n",
    "plot_roc_curve(fpr_AD, tpr_AD)\n",
    "fpr_90 = fpr_AD[np.argmax(tpr_AD >= recall_90_precision_AD)]\n",
    "plt.plot([fpr_90, fpr_90], [ 0. , recall_90_precision_AD], \"r:\")\n",
    "plt.plot([0.0, fpr_90], [recall_90_precision_AD, recall_90_precision_AD], \"r:\")\n",
    "plt.plot([fpr_90], [recall_90_precision_AD], \"ro\")\n",
    "plt.show()\n"
   ]
  },
  {
   "cell_type": "code",
   "execution_count": 214,
   "id": "54d3753c",
   "metadata": {},
   "outputs": [
    {
     "data": {
      "text/plain": [
       "0.7609616978942133"
      ]
     },
     "execution_count": 214,
     "metadata": {},
     "output_type": "execute_result"
    }
   ],
   "source": [
    "# Area Under Curve (AUC) : compare classifiers\n",
    "\n",
    "from sklearn.metrics import roc_auc_score\n",
    "roc_auc_score(y_train_AD, y_scores_AD)"
   ]
  },
  {
   "cell_type": "code",
   "execution_count": 215,
   "id": "9623e978",
   "metadata": {},
   "outputs": [],
   "source": [
    "# RandomForestClassifier\n",
    "\n",
    "from sklearn.ensemble import RandomForestClassifier\n",
    "\n",
    "forest_clf_AD = RandomForestClassifier(random_state = 42)\n",
    "y_probas_forest_AD = cross_val_predict(forest_clf_AD, X_train, y_train_AD, cv=3, method = \"predict_proba\")"
   ]
  },
  {
   "cell_type": "code",
   "execution_count": 216,
   "id": "8500c461",
   "metadata": {},
   "outputs": [],
   "source": [
    "y_scores_forest_AD = y_probas_forest_AD[:, 1] # score = proba of positive class\n",
    "fpr_forest_AD, tpr_forest_AD, thresholds_forest_AD = roc_curve(y_train_AD, y_scores_forest_AD)"
   ]
  },
  {
   "cell_type": "code",
   "execution_count": 217,
   "id": "890e3730",
   "metadata": {},
   "outputs": [
    {
     "data": {
      "image/png": "[encoded data removed]",
      "text/plain": [
       "<Figure size 576x432 with 1 Axes>"
      ]
     },
     "metadata": {
      "needs_background": "light"
     },
     "output_type": "display_data"
    }
   ],
   "source": [
    "plt.figure(figsize=(8, 6))\n",
    "plt.plot(fpr_AD, tpr_AD, \"b:\", label =\"SGD\")\n",
    "plot_roc_curve(fpr_forest_AD, tpr_forest_AD,\"Random Forest\")\n",
    "plt.legend(loc=\"lower right\")\n",
    "\n",
    "fpr_90 = fpr_AD[np.argmax(tpr_AD >= recall_90_precision_AD)]\n",
    "plt.plot([fpr_90, fpr_90], [ 0. , recall_90_precision_AD], \"r:\")\n",
    "plt.plot([0.0, fpr_90], [recall_90_precision_AD, recall_90_precision_AD], \"r:\")\n",
    "plt.plot([fpr_90], [recall_90_precision_AD], \"ro\")\n",
    "\n",
    "fpr_90_forest = fpr_forest_AD[np.argmax(tpr_forest_AD >= recall_90_precision_AD)]\n",
    "plt.plot([fpr_90_forest, fpr_90_forest], [ 0. , recall_90_precision_AD], \"r:\")\n",
    "plt.plot([0.0, fpr_90_forest], [recall_90_precision_AD, recall_90_precision_AD], \"r:\")\n",
    "plt.plot([fpr_90_forest], [recall_90_precision_AD], \"ro\")\n",
    "\n",
    "plt.show()"
   ]
  },
  {
   "cell_type": "code",
   "execution_count": 218,
   "id": "917350bd",
   "metadata": {},
   "outputs": [
    {
     "data": {
      "text/plain": [
       "0.7958348532581662"
      ]
     },
     "execution_count": 218,
     "metadata": {},
     "output_type": "execute_result"
    }
   ],
   "source": [
    "roc_auc_score(y_train_AD, y_scores_forest_AD)"
   ]
  },
  {
   "cell_type": "code",
   "execution_count": 220,
   "id": "8fe1d25f",
   "metadata": {},
   "outputs": [
    {
     "data": {
      "text/plain": [
       "array([2.])"
      ]
     },
     "execution_count": 220,
     "metadata": {},
     "output_type": "execute_result"
    }
   ],
   "source": [
    "# Multi-Class Classification\n",
    "\n",
    "from sklearn.svm import SVC\n",
    "\n",
    "svm_clf = SVC()\n",
    "svm_clf.fit(X_train, y_train)\n",
    "svm_clf.predict([X[0]])"
   ]
  },
  {
   "cell_type": "code",
   "execution_count": null,
   "id": "bbd5c08a",
   "metadata": {},
   "outputs": [],
   "source": []
  }
 ],
 "metadata": {
  "kernelspec": {
   "display_name": "Python 3 (ipykernel)",
   "language": "python",
   "name": "python3"
  },
  "language_info": {
   "codemirror_mode": {
    "name": "ipython",
    "version": 3
   },
   "file_extension": ".py",
   "mimetype": "text/x-python",
   "name": "python",
   "nbconvert_exporter": "python",
   "pygments_lexer": "ipython3",
   "version": "3.7.13"
  }
 },
 "nbformat": 4,
 "nbformat_minor": 5
}

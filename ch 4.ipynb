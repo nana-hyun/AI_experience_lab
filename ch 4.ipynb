{
  "nbformat": 4,
  "nbformat_minor": 0,
  "metadata": {
    "colab": {
      "name": "4강.ipynb",
      "provenance": [],
      "toc_visible": true,
      "mount_file_id": "1Vp5QGTxd6KWoDirpZEJsqamrOnHenT-C",
      "authorship_tag": "ABX9TyOO4GJngqvdnFI/VkNs4QPV",
      "include_colab_link": true
    },
    "kernelspec": {
      "name": "python3",
      "display_name": "Python 3"
    },
    "language_info": {
      "name": "python"
    }
  },
  "cells": [
    {
      "cell_type": "markdown",
      "metadata": {
        "id": "view-in-github",
        "colab_type": "text"
      },
      "source": [
        "<a href=\"https://colab.research.google.com/github/nana-hyun/AI_experience_lab/blob/main/4%EA%B0%95.ipynb\" target=\"_parent\"><img src=\"https://colab.research.google.com/assets/colab-badge.svg\" alt=\"Open In Colab\"/></a>"
      ]
    },
    {
      "cell_type": "code",
      "execution_count": null,
      "metadata": {
        "id": "P8z0iJ2glRqL"
      },
      "outputs": [],
      "source": [
        "# Python ≥3.5 is required\n",
        "import sys\n",
        "assert sys.version_info >= (3, 5)\n",
        "\n",
        "# Scikit-Learn ≥0.20 is required\n",
        "import sklearn\n",
        "assert sklearn.__version__ >= \"0.20\""
      ]
    },
    {
      "cell_type": "code",
      "source": [
        "# Code example\n",
        "import matplotlib.pyplot as plt\n",
        "import numpy as np\n",
        "import pandas as pd\n",
        "import sklearn.linear_model"
      ],
      "metadata": {
        "id": "rMVCuL00waag"
      },
      "execution_count": null,
      "outputs": []
    },
    {
      "cell_type": "code",
      "source": [
        "# Load the data\n",
        "data = pd.read_csv(\"/content/drive/MyDrive/team-a/0-data/adni-fs.csv\")\n",
        "\n",
        "TA = data.filter(regex=\"TA$\")\n",
        "\n",
        "data_extracted= pd.merge(left=data[['diagnosis']], right=TA, left_index=True, right_index=True)\n",
        "data_extracted = data_extracted.drop(data_extracted[data_extracted['diagnosis']== 'MCI'].index)\n",
        "data_extracted = data_extracted.dropna()\n",
        "data_extracted = data_extracted.reset_index(drop=True)  #index reset\n",
        "data_extracted"
      ],
      "metadata": {
        "colab": {
          "base_uri": "https://localhost:8080/",
          "height": 488
        },
        "id": "sqOhI4tHwgBd",
        "outputId": "df8c60e5-8c92-4141-c08f-69b7cc3af3bf"
      },
      "execution_count": null,
      "outputs": [
        {
          "output_type": "execute_result",
          "data": {
            "text/plain": [
              "    diagnosis  ST13TA  ST14TA  ST15TA  ST23TA  ST24TA  ST25TA  ST26TA  ST31TA  \\\n",
              "0          AD   2.283   2.306   2.442   1.584   1.692   2.526   2.196   2.072   \n",
              "1          CN   2.225   2.466   2.418   1.560   2.846   2.780   2.445   2.333   \n",
              "2          AD   1.725   2.847   2.207   1.764   2.015   3.013   2.211   2.222   \n",
              "3          CN   2.164   2.963   2.368   1.743   3.489   2.463   2.807   2.207   \n",
              "4          AD   2.169   2.882   2.371   1.631   3.941   2.266   2.678   2.156   \n",
              "..        ...     ...     ...     ...     ...     ...     ...     ...     ...   \n",
              "736        CN   2.372   3.080   2.332   1.753   3.160   2.254   2.642   2.231   \n",
              "737        CN   2.399   3.049   2.371   2.072   3.087   2.490   2.711   2.254   \n",
              "738        CN   2.323   2.910   2.494   1.930   3.850   2.770   2.674   2.378   \n",
              "739        CN   2.330   3.316   2.486   2.078   3.576   2.793   2.965   2.392   \n",
              "740        CN   2.440   3.045   2.630   1.960   3.831   3.324   3.005   2.479   \n",
              "\n",
              "     ST32TA  ...  ST113TA  ST114TA  ST115TA  ST116TA  ST117TA  ST118TA  \\\n",
              "0     2.487  ...    2.673    2.010    2.420    1.891    2.320    2.278   \n",
              "1     2.687  ...    2.899    2.159    2.564    2.033    2.250    2.397   \n",
              "2     2.196  ...    3.570    2.260    2.525    1.930    2.315    2.211   \n",
              "3     2.940  ...    2.556    2.208    2.487    2.047    2.155    2.314   \n",
              "4     2.784  ...    2.610    2.082    2.567    1.949    2.298    2.334   \n",
              "..      ...  ...      ...      ...      ...      ...      ...      ...   \n",
              "736   2.613  ...    2.950    1.866    2.283    1.978    2.421    1.994   \n",
              "737   2.697  ...    2.992    2.037    2.523    2.178    2.749    2.438   \n",
              "738   2.776  ...    2.414    2.045    2.512    2.173    2.761    2.394   \n",
              "739   2.894  ...    2.526    2.255    2.591    2.123    2.859    2.471   \n",
              "740   2.843  ...    3.363    2.290    2.629    2.210    2.750    2.579   \n",
              "\n",
              "     ST119TA  ST121TA  ST129TA  ST130TA  \n",
              "0      2.701    2.327    2.451    2.547  \n",
              "1      3.708    2.162    2.668    3.022  \n",
              "2      2.904    2.104    2.485    2.461  \n",
              "3      3.056    2.213    2.789    2.955  \n",
              "4      4.070    2.319    2.734    2.941  \n",
              "..       ...      ...      ...      ...  \n",
              "736    3.131    1.606    2.695    2.546  \n",
              "737    4.373    2.266    2.972    2.951  \n",
              "738    3.919    2.373    2.980    2.920  \n",
              "739    3.677    2.596    2.937    3.016  \n",
              "740    3.797    2.454    2.940    2.830  \n",
              "\n",
              "[741 rows x 69 columns]"
            ],
            "text/html": [
              "\n",
              "  <div id=\"df-d64f67b0-4235-4632-a6c8-843760a90d0c\">\n",
              "    <div class=\"colab-df-container\">\n",
              "      <div>\n",
              "<style scoped>\n",
              "    .dataframe tbody tr th:only-of-type {\n",
              "        vertical-align: middle;\n",
              "    }\n",
              "\n",
              "    .dataframe tbody tr th {\n",
              "        vertical-align: top;\n",
              "    }\n",
              "\n",
              "    .dataframe thead th {\n",
              "        text-align: right;\n",
              "    }\n",
              "</style>\n",
              "<table border=\"1\" class=\"dataframe\">\n",
              "  <thead>\n",
              "    <tr style=\"text-align: right;\">\n",
              "      <th></th>\n",
              "      <th>diagnosis</th>\n",
              "      <th>ST13TA</th>\n",
              "      <th>ST14TA</th>\n",
              "      <th>ST15TA</th>\n",
              "      <th>ST23TA</th>\n",
              "      <th>ST24TA</th>\n",
              "      <th>ST25TA</th>\n",
              "      <th>ST26TA</th>\n",
              "      <th>ST31TA</th>\n",
              "      <th>ST32TA</th>\n",
              "      <th>...</th>\n",
              "      <th>ST113TA</th>\n",
              "      <th>ST114TA</th>\n",
              "      <th>ST115TA</th>\n",
              "      <th>ST116TA</th>\n",
              "      <th>ST117TA</th>\n",
              "      <th>ST118TA</th>\n",
              "      <th>ST119TA</th>\n",
              "      <th>ST121TA</th>\n",
              "      <th>ST129TA</th>\n",
              "      <th>ST130TA</th>\n",
              "    </tr>\n",
              "  </thead>\n",
              "  <tbody>\n",
              "    <tr>\n",
              "      <th>0</th>\n",
              "      <td>AD</td>\n",
              "      <td>2.283</td>\n",
              "      <td>2.306</td>\n",
              "      <td>2.442</td>\n",
              "      <td>1.584</td>\n",
              "      <td>1.692</td>\n",
              "      <td>2.526</td>\n",
              "      <td>2.196</td>\n",
              "      <td>2.072</td>\n",
              "      <td>2.487</td>\n",
              "      <td>...</td>\n",
              "      <td>2.673</td>\n",
              "      <td>2.010</td>\n",
              "      <td>2.420</td>\n",
              "      <td>1.891</td>\n",
              "      <td>2.320</td>\n",
              "      <td>2.278</td>\n",
              "      <td>2.701</td>\n",
              "      <td>2.327</td>\n",
              "      <td>2.451</td>\n",
              "      <td>2.547</td>\n",
              "    </tr>\n",
              "    <tr>\n",
              "      <th>1</th>\n",
              "      <td>CN</td>\n",
              "      <td>2.225</td>\n",
              "      <td>2.466</td>\n",
              "      <td>2.418</td>\n",
              "      <td>1.560</td>\n",
              "      <td>2.846</td>\n",
              "      <td>2.780</td>\n",
              "      <td>2.445</td>\n",
              "      <td>2.333</td>\n",
              "      <td>2.687</td>\n",
              "      <td>...</td>\n",
              "      <td>2.899</td>\n",
              "      <td>2.159</td>\n",
              "      <td>2.564</td>\n",
              "      <td>2.033</td>\n",
              "      <td>2.250</td>\n",
              "      <td>2.397</td>\n",
              "      <td>3.708</td>\n",
              "      <td>2.162</td>\n",
              "      <td>2.668</td>\n",
              "      <td>3.022</td>\n",
              "    </tr>\n",
              "    <tr>\n",
              "      <th>2</th>\n",
              "      <td>AD</td>\n",
              "      <td>1.725</td>\n",
              "      <td>2.847</td>\n",
              "      <td>2.207</td>\n",
              "      <td>1.764</td>\n",
              "      <td>2.015</td>\n",
              "      <td>3.013</td>\n",
              "      <td>2.211</td>\n",
              "      <td>2.222</td>\n",
              "      <td>2.196</td>\n",
              "      <td>...</td>\n",
              "      <td>3.570</td>\n",
              "      <td>2.260</td>\n",
              "      <td>2.525</td>\n",
              "      <td>1.930</td>\n",
              "      <td>2.315</td>\n",
              "      <td>2.211</td>\n",
              "      <td>2.904</td>\n",
              "      <td>2.104</td>\n",
              "      <td>2.485</td>\n",
              "      <td>2.461</td>\n",
              "    </tr>\n",
              "    <tr>\n",
              "      <th>3</th>\n",
              "      <td>CN</td>\n",
              "      <td>2.164</td>\n",
              "      <td>2.963</td>\n",
              "      <td>2.368</td>\n",
              "      <td>1.743</td>\n",
              "      <td>3.489</td>\n",
              "      <td>2.463</td>\n",
              "      <td>2.807</td>\n",
              "      <td>2.207</td>\n",
              "      <td>2.940</td>\n",
              "      <td>...</td>\n",
              "      <td>2.556</td>\n",
              "      <td>2.208</td>\n",
              "      <td>2.487</td>\n",
              "      <td>2.047</td>\n",
              "      <td>2.155</td>\n",
              "      <td>2.314</td>\n",
              "      <td>3.056</td>\n",
              "      <td>2.213</td>\n",
              "      <td>2.789</td>\n",
              "      <td>2.955</td>\n",
              "    </tr>\n",
              "    <tr>\n",
              "      <th>4</th>\n",
              "      <td>AD</td>\n",
              "      <td>2.169</td>\n",
              "      <td>2.882</td>\n",
              "      <td>2.371</td>\n",
              "      <td>1.631</td>\n",
              "      <td>3.941</td>\n",
              "      <td>2.266</td>\n",
              "      <td>2.678</td>\n",
              "      <td>2.156</td>\n",
              "      <td>2.784</td>\n",
              "      <td>...</td>\n",
              "      <td>2.610</td>\n",
              "      <td>2.082</td>\n",
              "      <td>2.567</td>\n",
              "      <td>1.949</td>\n",
              "      <td>2.298</td>\n",
              "      <td>2.334</td>\n",
              "      <td>4.070</td>\n",
              "      <td>2.319</td>\n",
              "      <td>2.734</td>\n",
              "      <td>2.941</td>\n",
              "    </tr>\n",
              "    <tr>\n",
              "      <th>...</th>\n",
              "      <td>...</td>\n",
              "      <td>...</td>\n",
              "      <td>...</td>\n",
              "      <td>...</td>\n",
              "      <td>...</td>\n",
              "      <td>...</td>\n",
              "      <td>...</td>\n",
              "      <td>...</td>\n",
              "      <td>...</td>\n",
              "      <td>...</td>\n",
              "      <td>...</td>\n",
              "      <td>...</td>\n",
              "      <td>...</td>\n",
              "      <td>...</td>\n",
              "      <td>...</td>\n",
              "      <td>...</td>\n",
              "      <td>...</td>\n",
              "      <td>...</td>\n",
              "      <td>...</td>\n",
              "      <td>...</td>\n",
              "      <td>...</td>\n",
              "    </tr>\n",
              "    <tr>\n",
              "      <th>736</th>\n",
              "      <td>CN</td>\n",
              "      <td>2.372</td>\n",
              "      <td>3.080</td>\n",
              "      <td>2.332</td>\n",
              "      <td>1.753</td>\n",
              "      <td>3.160</td>\n",
              "      <td>2.254</td>\n",
              "      <td>2.642</td>\n",
              "      <td>2.231</td>\n",
              "      <td>2.613</td>\n",
              "      <td>...</td>\n",
              "      <td>2.950</td>\n",
              "      <td>1.866</td>\n",
              "      <td>2.283</td>\n",
              "      <td>1.978</td>\n",
              "      <td>2.421</td>\n",
              "      <td>1.994</td>\n",
              "      <td>3.131</td>\n",
              "      <td>1.606</td>\n",
              "      <td>2.695</td>\n",
              "      <td>2.546</td>\n",
              "    </tr>\n",
              "    <tr>\n",
              "      <th>737</th>\n",
              "      <td>CN</td>\n",
              "      <td>2.399</td>\n",
              "      <td>3.049</td>\n",
              "      <td>2.371</td>\n",
              "      <td>2.072</td>\n",
              "      <td>3.087</td>\n",
              "      <td>2.490</td>\n",
              "      <td>2.711</td>\n",
              "      <td>2.254</td>\n",
              "      <td>2.697</td>\n",
              "      <td>...</td>\n",
              "      <td>2.992</td>\n",
              "      <td>2.037</td>\n",
              "      <td>2.523</td>\n",
              "      <td>2.178</td>\n",
              "      <td>2.749</td>\n",
              "      <td>2.438</td>\n",
              "      <td>4.373</td>\n",
              "      <td>2.266</td>\n",
              "      <td>2.972</td>\n",
              "      <td>2.951</td>\n",
              "    </tr>\n",
              "    <tr>\n",
              "      <th>738</th>\n",
              "      <td>CN</td>\n",
              "      <td>2.323</td>\n",
              "      <td>2.910</td>\n",
              "      <td>2.494</td>\n",
              "      <td>1.930</td>\n",
              "      <td>3.850</td>\n",
              "      <td>2.770</td>\n",
              "      <td>2.674</td>\n",
              "      <td>2.378</td>\n",
              "      <td>2.776</td>\n",
              "      <td>...</td>\n",
              "      <td>2.414</td>\n",
              "      <td>2.045</td>\n",
              "      <td>2.512</td>\n",
              "      <td>2.173</td>\n",
              "      <td>2.761</td>\n",
              "      <td>2.394</td>\n",
              "      <td>3.919</td>\n",
              "      <td>2.373</td>\n",
              "      <td>2.980</td>\n",
              "      <td>2.920</td>\n",
              "    </tr>\n",
              "    <tr>\n",
              "      <th>739</th>\n",
              "      <td>CN</td>\n",
              "      <td>2.330</td>\n",
              "      <td>3.316</td>\n",
              "      <td>2.486</td>\n",
              "      <td>2.078</td>\n",
              "      <td>3.576</td>\n",
              "      <td>2.793</td>\n",
              "      <td>2.965</td>\n",
              "      <td>2.392</td>\n",
              "      <td>2.894</td>\n",
              "      <td>...</td>\n",
              "      <td>2.526</td>\n",
              "      <td>2.255</td>\n",
              "      <td>2.591</td>\n",
              "      <td>2.123</td>\n",
              "      <td>2.859</td>\n",
              "      <td>2.471</td>\n",
              "      <td>3.677</td>\n",
              "      <td>2.596</td>\n",
              "      <td>2.937</td>\n",
              "      <td>3.016</td>\n",
              "    </tr>\n",
              "    <tr>\n",
              "      <th>740</th>\n",
              "      <td>CN</td>\n",
              "      <td>2.440</td>\n",
              "      <td>3.045</td>\n",
              "      <td>2.630</td>\n",
              "      <td>1.960</td>\n",
              "      <td>3.831</td>\n",
              "      <td>3.324</td>\n",
              "      <td>3.005</td>\n",
              "      <td>2.479</td>\n",
              "      <td>2.843</td>\n",
              "      <td>...</td>\n",
              "      <td>3.363</td>\n",
              "      <td>2.290</td>\n",
              "      <td>2.629</td>\n",
              "      <td>2.210</td>\n",
              "      <td>2.750</td>\n",
              "      <td>2.579</td>\n",
              "      <td>3.797</td>\n",
              "      <td>2.454</td>\n",
              "      <td>2.940</td>\n",
              "      <td>2.830</td>\n",
              "    </tr>\n",
              "  </tbody>\n",
              "</table>\n",
              "<p>741 rows × 69 columns</p>\n",
              "</div>\n",
              "      <button class=\"colab-df-convert\" onclick=\"convertToInteractive('df-d64f67b0-4235-4632-a6c8-843760a90d0c')\"\n",
              "              title=\"Convert this dataframe to an interactive table.\"\n",
              "              style=\"display:none;\">\n",
              "        \n",
              "  <svg xmlns=\"http://www.w3.org/2000/svg\" height=\"24px\"viewBox=\"0 0 24 24\"\n",
              "       width=\"24px\">\n",
              "    <path d=\"M0 0h24v24H0V0z\" fill=\"none\"/>\n",
              "    <path d=\"M18.56 5.44l.94 2.06.94-2.06 2.06-.94-2.06-.94-.94-2.06-.94 2.06-2.06.94zm-11 1L8.5 8.5l.94-2.06 2.06-.94-2.06-.94L8.5 2.5l-.94 2.06-2.06.94zm10 10l.94 2.06.94-2.06 2.06-.94-2.06-.94-.94-2.06-.94 2.06-2.06.94z\"/><path d=\"M17.41 7.96l-1.37-1.37c-.4-.4-.92-.59-1.43-.59-.52 0-1.04.2-1.43.59L10.3 9.45l-7.72 7.72c-.78.78-.78 2.05 0 2.83L4 21.41c.39.39.9.59 1.41.59.51 0 1.02-.2 1.41-.59l7.78-7.78 2.81-2.81c.8-.78.8-2.07 0-2.86zM5.41 20L4 18.59l7.72-7.72 1.47 1.35L5.41 20z\"/>\n",
              "  </svg>\n",
              "      </button>\n",
              "      \n",
              "  <style>\n",
              "    .colab-df-container {\n",
              "      display:flex;\n",
              "      flex-wrap:wrap;\n",
              "      gap: 12px;\n",
              "    }\n",
              "\n",
              "    .colab-df-convert {\n",
              "      background-color: #E8F0FE;\n",
              "      border: none;\n",
              "      border-radius: 50%;\n",
              "      cursor: pointer;\n",
              "      display: none;\n",
              "      fill: #1967D2;\n",
              "      height: 32px;\n",
              "      padding: 0 0 0 0;\n",
              "      width: 32px;\n",
              "    }\n",
              "\n",
              "    .colab-df-convert:hover {\n",
              "      background-color: #E2EBFA;\n",
              "      box-shadow: 0px 1px 2px rgba(60, 64, 67, 0.3), 0px 1px 3px 1px rgba(60, 64, 67, 0.15);\n",
              "      fill: #174EA6;\n",
              "    }\n",
              "\n",
              "    [theme=dark] .colab-df-convert {\n",
              "      background-color: #3B4455;\n",
              "      fill: #D2E3FC;\n",
              "    }\n",
              "\n",
              "    [theme=dark] .colab-df-convert:hover {\n",
              "      background-color: #434B5C;\n",
              "      box-shadow: 0px 1px 3px 1px rgba(0, 0, 0, 0.15);\n",
              "      filter: drop-shadow(0px 1px 2px rgba(0, 0, 0, 0.3));\n",
              "      fill: #FFFFFF;\n",
              "    }\n",
              "  </style>\n",
              "\n",
              "      <script>\n",
              "        const buttonEl =\n",
              "          document.querySelector('#df-d64f67b0-4235-4632-a6c8-843760a90d0c button.colab-df-convert');\n",
              "        buttonEl.style.display =\n",
              "          google.colab.kernel.accessAllowed ? 'block' : 'none';\n",
              "\n",
              "        async function convertToInteractive(key) {\n",
              "          const element = document.querySelector('#df-d64f67b0-4235-4632-a6c8-843760a90d0c');\n",
              "          const dataTable =\n",
              "            await google.colab.kernel.invokeFunction('convertToInteractive',\n",
              "                                                     [key], {});\n",
              "          if (!dataTable) return;\n",
              "\n",
              "          const docLinkHtml = 'Like what you see? Visit the ' +\n",
              "            '<a target=\"_blank\" href=https://colab.research.google.com/notebooks/data_table.ipynb>data table notebook</a>'\n",
              "            + ' to learn more about interactive tables.';\n",
              "          element.innerHTML = '';\n",
              "          dataTable['output_type'] = 'display_data';\n",
              "          await google.colab.output.renderOutput(dataTable, element);\n",
              "          const docLink = document.createElement('div');\n",
              "          docLink.innerHTML = docLinkHtml;\n",
              "          element.appendChild(docLink);\n",
              "        }\n",
              "      </script>\n",
              "    </div>\n",
              "  </div>\n",
              "  "
            ]
          },
          "metadata": {},
          "execution_count": 206
        }
      ]
    },
    {
      "cell_type": "code",
      "source": [
        "# TA의 평균으로 구해보자\n",
        "\n",
        "TA['avg'] = np.mean(TA, axis=1)\n",
        "TA_avg = TA['avg']\n",
        "data_ext= pd.merge(left=data[['diagnosis']], right=TA_avg, left_index=True, right_index=True)\n",
        "data_ext = data_ext.drop(data_ext[data_ext['diagnosis']== 'MCI'].index)\n",
        "data_ext = data_ext.dropna()\n",
        "data_ext = data_ext.reset_index(drop=True)  #index reset\n",
        "data_ext"
      ],
      "metadata": {
        "colab": {
          "base_uri": "https://localhost:8080/",
          "height": 554
        },
        "id": "fxLN_anWOljh",
        "outputId": "f1b9ea66-4984-4c0d-d7ad-7cbf751c7436"
      },
      "execution_count": null,
      "outputs": [
        {
          "output_type": "stream",
          "name": "stderr",
          "text": [
            "/usr/local/lib/python3.7/dist-packages/ipykernel_launcher.py:3: SettingWithCopyWarning: \n",
            "A value is trying to be set on a copy of a slice from a DataFrame.\n",
            "Try using .loc[row_indexer,col_indexer] = value instead\n",
            "\n",
            "See the caveats in the documentation: https://pandas.pydata.org/pandas-docs/stable/user_guide/indexing.html#returning-a-view-versus-a-copy\n",
            "  This is separate from the ipykernel package so we can avoid doing imports until\n"
          ]
        },
        {
          "output_type": "execute_result",
          "data": {
            "text/plain": [
              "    diagnosis       avg\n",
              "0          AD  2.189103\n",
              "1          CN  2.356206\n",
              "2          AD  2.313162\n",
              "3          CN  2.375765\n",
              "4          AD  2.349544\n",
              "..        ...       ...\n",
              "736        CN  2.334441\n",
              "737        CN  2.544221\n",
              "738        CN  2.549294\n",
              "739        CN  2.615397\n",
              "740        CN  2.622206\n",
              "\n",
              "[741 rows x 2 columns]"
            ],
            "text/html": [
              "\n",
              "  <div id=\"df-adccc41f-3eae-4698-912a-315c017b1466\">\n",
              "    <div class=\"colab-df-container\">\n",
              "      <div>\n",
              "<style scoped>\n",
              "    .dataframe tbody tr th:only-of-type {\n",
              "        vertical-align: middle;\n",
              "    }\n",
              "\n",
              "    .dataframe tbody tr th {\n",
              "        vertical-align: top;\n",
              "    }\n",
              "\n",
              "    .dataframe thead th {\n",
              "        text-align: right;\n",
              "    }\n",
              "</style>\n",
              "<table border=\"1\" class=\"dataframe\">\n",
              "  <thead>\n",
              "    <tr style=\"text-align: right;\">\n",
              "      <th></th>\n",
              "      <th>diagnosis</th>\n",
              "      <th>avg</th>\n",
              "    </tr>\n",
              "  </thead>\n",
              "  <tbody>\n",
              "    <tr>\n",
              "      <th>0</th>\n",
              "      <td>AD</td>\n",
              "      <td>2.189103</td>\n",
              "    </tr>\n",
              "    <tr>\n",
              "      <th>1</th>\n",
              "      <td>CN</td>\n",
              "      <td>2.356206</td>\n",
              "    </tr>\n",
              "    <tr>\n",
              "      <th>2</th>\n",
              "      <td>AD</td>\n",
              "      <td>2.313162</td>\n",
              "    </tr>\n",
              "    <tr>\n",
              "      <th>3</th>\n",
              "      <td>CN</td>\n",
              "      <td>2.375765</td>\n",
              "    </tr>\n",
              "    <tr>\n",
              "      <th>4</th>\n",
              "      <td>AD</td>\n",
              "      <td>2.349544</td>\n",
              "    </tr>\n",
              "    <tr>\n",
              "      <th>...</th>\n",
              "      <td>...</td>\n",
              "      <td>...</td>\n",
              "    </tr>\n",
              "    <tr>\n",
              "      <th>736</th>\n",
              "      <td>CN</td>\n",
              "      <td>2.334441</td>\n",
              "    </tr>\n",
              "    <tr>\n",
              "      <th>737</th>\n",
              "      <td>CN</td>\n",
              "      <td>2.544221</td>\n",
              "    </tr>\n",
              "    <tr>\n",
              "      <th>738</th>\n",
              "      <td>CN</td>\n",
              "      <td>2.549294</td>\n",
              "    </tr>\n",
              "    <tr>\n",
              "      <th>739</th>\n",
              "      <td>CN</td>\n",
              "      <td>2.615397</td>\n",
              "    </tr>\n",
              "    <tr>\n",
              "      <th>740</th>\n",
              "      <td>CN</td>\n",
              "      <td>2.622206</td>\n",
              "    </tr>\n",
              "  </tbody>\n",
              "</table>\n",
              "<p>741 rows × 2 columns</p>\n",
              "</div>\n",
              "      <button class=\"colab-df-convert\" onclick=\"convertToInteractive('df-adccc41f-3eae-4698-912a-315c017b1466')\"\n",
              "              title=\"Convert this dataframe to an interactive table.\"\n",
              "              style=\"display:none;\">\n",
              "        \n",
              "  <svg xmlns=\"http://www.w3.org/2000/svg\" height=\"24px\"viewBox=\"0 0 24 24\"\n",
              "       width=\"24px\">\n",
              "    <path d=\"M0 0h24v24H0V0z\" fill=\"none\"/>\n",
              "    <path d=\"M18.56 5.44l.94 2.06.94-2.06 2.06-.94-2.06-.94-.94-2.06-.94 2.06-2.06.94zm-11 1L8.5 8.5l.94-2.06 2.06-.94-2.06-.94L8.5 2.5l-.94 2.06-2.06.94zm10 10l.94 2.06.94-2.06 2.06-.94-2.06-.94-.94-2.06-.94 2.06-2.06.94z\"/><path d=\"M17.41 7.96l-1.37-1.37c-.4-.4-.92-.59-1.43-.59-.52 0-1.04.2-1.43.59L10.3 9.45l-7.72 7.72c-.78.78-.78 2.05 0 2.83L4 21.41c.39.39.9.59 1.41.59.51 0 1.02-.2 1.41-.59l7.78-7.78 2.81-2.81c.8-.78.8-2.07 0-2.86zM5.41 20L4 18.59l7.72-7.72 1.47 1.35L5.41 20z\"/>\n",
              "  </svg>\n",
              "      </button>\n",
              "      \n",
              "  <style>\n",
              "    .colab-df-container {\n",
              "      display:flex;\n",
              "      flex-wrap:wrap;\n",
              "      gap: 12px;\n",
              "    }\n",
              "\n",
              "    .colab-df-convert {\n",
              "      background-color: #E8F0FE;\n",
              "      border: none;\n",
              "      border-radius: 50%;\n",
              "      cursor: pointer;\n",
              "      display: none;\n",
              "      fill: #1967D2;\n",
              "      height: 32px;\n",
              "      padding: 0 0 0 0;\n",
              "      width: 32px;\n",
              "    }\n",
              "\n",
              "    .colab-df-convert:hover {\n",
              "      background-color: #E2EBFA;\n",
              "      box-shadow: 0px 1px 2px rgba(60, 64, 67, 0.3), 0px 1px 3px 1px rgba(60, 64, 67, 0.15);\n",
              "      fill: #174EA6;\n",
              "    }\n",
              "\n",
              "    [theme=dark] .colab-df-convert {\n",
              "      background-color: #3B4455;\n",
              "      fill: #D2E3FC;\n",
              "    }\n",
              "\n",
              "    [theme=dark] .colab-df-convert:hover {\n",
              "      background-color: #434B5C;\n",
              "      box-shadow: 0px 1px 3px 1px rgba(0, 0, 0, 0.15);\n",
              "      filter: drop-shadow(0px 1px 2px rgba(0, 0, 0, 0.3));\n",
              "      fill: #FFFFFF;\n",
              "    }\n",
              "  </style>\n",
              "\n",
              "      <script>\n",
              "        const buttonEl =\n",
              "          document.querySelector('#df-adccc41f-3eae-4698-912a-315c017b1466 button.colab-df-convert');\n",
              "        buttonEl.style.display =\n",
              "          google.colab.kernel.accessAllowed ? 'block' : 'none';\n",
              "\n",
              "        async function convertToInteractive(key) {\n",
              "          const element = document.querySelector('#df-adccc41f-3eae-4698-912a-315c017b1466');\n",
              "          const dataTable =\n",
              "            await google.colab.kernel.invokeFunction('convertToInteractive',\n",
              "                                                     [key], {});\n",
              "          if (!dataTable) return;\n",
              "\n",
              "          const docLinkHtml = 'Like what you see? Visit the ' +\n",
              "            '<a target=\"_blank\" href=https://colab.research.google.com/notebooks/data_table.ipynb>data table notebook</a>'\n",
              "            + ' to learn more about interactive tables.';\n",
              "          element.innerHTML = '';\n",
              "          dataTable['output_type'] = 'display_data';\n",
              "          await google.colab.output.renderOutput(dataTable, element);\n",
              "          const docLink = document.createElement('div');\n",
              "          docLink.innerHTML = docLinkHtml;\n",
              "          element.appendChild(docLink);\n",
              "        }\n",
              "      </script>\n",
              "    </div>\n",
              "  </div>\n",
              "  "
            ]
          },
          "metadata": {},
          "execution_count": 207
        }
      ]
    },
    {
      "cell_type": "code",
      "source": [
        "\n",
        "df_shuffled = data_ext.iloc[np.random.permutation(len(data_ext))].reset_index(drop=True)\n",
        "df_shuffled1 = data_extracted.iloc[np.random.permutation(len(data_extracted))].reset_index(drop=True)\n"
      ],
      "metadata": {
        "id": "XleBkkIpxutJ"
      },
      "execution_count": null,
      "outputs": []
    },
    {
      "cell_type": "code",
      "execution_count": null,
      "metadata": {
        "id": "b23be0d3"
      },
      "outputs": [],
      "source": [
        "# Prepare the data\n",
        "\n",
        "\n",
        "X1= df_shuffled1.filter(regex=\"TA$\").values\n",
        "#X = data_extracted['ST13TA'].values\n",
        "X = df_shuffled['avg'].values\n",
        "y = df_shuffled['diagnosis'].values\n",
        "\n",
        "y[y == 'CN']= 1\n",
        "y[y == 'AD'] = 2"
      ]
    },
    {
      "cell_type": "code",
      "source": [
        "plt.scatter(X,y,alpha=0.1)\n",
        "\n",
        "plt.xlabel(\"_TA avg\", fontsize=18)\n",
        "plt.ylabel(\"AD/CN (2/1)\", rotation=90, fontsize=18)"
      ],
      "metadata": {
        "colab": {
          "base_uri": "https://localhost:8080/",
          "height": 305
        },
        "id": "SsYHyxqQQyLc",
        "outputId": "62cb5313-7b5c-4a29-b44f-29a4c0f81b15"
      },
      "execution_count": null,
      "outputs": [
        {
          "output_type": "execute_result",
          "data": {
            "text/plain": [
              "Text(0, 0.5, 'AD/CN (2/1)')"
            ]
          },
          "metadata": {},
          "execution_count": 259
        },
        {
          "output_type": "display_data",
          "data": {
            "text/plain": [
              "<Figure size 432x288 with 1 Axes>"
            ],
            "image/png": "[encoded data removed]"
          },
          "metadata": {
            "needs_background": "light"
          }
        }
      ]
    },
    {
      "cell_type": "code",
      "source": [
        "# Visualize the data\n",
        "\n",
        "for i in range(68):\n",
        "    T = X1[:,i]\n",
        "    plt.scatter(T,y,alpha = 0.002)\n",
        "#plt.plot(X1[:,67],y,'o',alpha = 0.1,color='r') \n",
        "plt.xlabel(\"_TA\", fontsize=18)\n",
        "plt.ylabel(\"AD/CN (2/1)\", rotation=90, fontsize=18)"
      ],
      "metadata": {
        "colab": {
          "base_uri": "https://localhost:8080/",
          "height": 305
        },
        "id": "yoyQzJ0zyYtc",
        "outputId": "4b70f74b-0514-4bd8-9e73-97dc8412165f"
      },
      "execution_count": null,
      "outputs": [
        {
          "output_type": "execute_result",
          "data": {
            "text/plain": [
              "Text(0, 0.5, 'AD/CN (2/1)')"
            ]
          },
          "metadata": {},
          "execution_count": 301
        },
        {
          "output_type": "display_data",
          "data": {
            "text/plain": [
              "<Figure size 432x288 with 1 Axes>"
            ],
            "image/png": "[encoded data removed]"
          },
          "metadata": {
            "needs_background": "light"
          }
        }
      ]
    },
    {
      "cell_type": "code",
      "source": [
        "print(X1[:,0])\n",
        "#plt.scatter(X1[0,],y,alpha = 0.1,colormap='Spectural') \n",
        "plt.xlabel(\"_TA\", fontsize=18)\n",
        "plt.ylabel(\"AD/CN (2/1)\", rotation=90, fontsize=18)"
      ],
      "metadata": {
        "colab": {
          "base_uri": "https://localhost:8080/",
          "height": 420
        },
        "id": "JXsGshYF82WV",
        "outputId": "8a40e258-af9e-494e-e03c-56b9664d2674"
      },
      "execution_count": null,
      "outputs": [
        {
          "output_type": "stream",
          "name": "stdout",
          "text": [
            "[2.245 2.907 2.288 1.443 3.207 2.801 2.72  2.192 2.702 2.94  1.712 2.463\n",
            " 1.761 2.489 2.728 1.63  2.591 2.461 2.816 2.445 1.383 1.589 2.418 1.948\n",
            " 2.131 2.929 2.324 2.415 1.793 2.561 2.228 3.634 1.93  2.6   2.899 2.319\n",
            " 1.477 3.882 2.883 3.061 2.377 3.007 2.743 1.827 2.63  1.792 2.431 2.996\n",
            " 1.995 2.527 2.314 2.795 2.536 1.395 1.513 2.507 1.888 2.109 2.776 2.396\n",
            " 2.558 1.884 2.543 2.29  3.628 1.639 2.85  2.971]\n"
          ]
        },
        {
          "output_type": "execute_result",
          "data": {
            "text/plain": [
              "Text(0, 0.5, 'AD/CN (2/1)')"
            ]
          },
          "metadata": {},
          "execution_count": 291
        },
        {
          "output_type": "display_data",
          "data": {
            "text/plain": [
              "<Figure size 432x288 with 1 Axes>"
            ],
            "image/png": "[encoded data removed]"
          },
          "metadata": {
            "needs_background": "light"
          }
        }
      ]
    },
    {
      "cell_type": "markdown",
      "source": [
        "![image.png](data:image/png;base64,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)"
      ],
      "metadata": {
        "id": "ePSPQZQmHpy2"
      }
    },
    {
      "cell_type": "markdown",
      "source": [
        "# Linear regression"
      ],
      "metadata": {
        "id": "A7KHzNwZZDRe"
      }
    },
    {
      "cell_type": "markdown",
      "source": [
        "## average of TA"
      ],
      "metadata": {
        "id": "joAFTezahvUR"
      }
    },
    {
      "cell_type": "code",
      "source": [
        "X_b = np.c_[np.ones((741,1)),X] #np.c_ : 배열붙이기, np.ones : 배열 생성 (1로 채움)\n",
        "print(X_b)\n",
        "theta_best = np.linalg.inv(X_b.T.dot(X_b)).dot(X_b.T).dot(y) #dot() : 행렬 곱셈"
      ],
      "metadata": {
        "colab": {
          "base_uri": "https://localhost:8080/"
        },
        "id": "TBelATr_BV8v",
        "outputId": "0115e019-e59e-42c4-e9bc-029e23eb1e8b"
      },
      "execution_count": null,
      "outputs": [
        {
          "output_type": "stream",
          "name": "stdout",
          "text": [
            "[[1.         2.08608824]\n",
            " [1.         2.29576471]\n",
            " [1.         2.38488235]\n",
            " ...\n",
            " [1.         2.47602941]\n",
            " [1.         2.23383824]\n",
            " [1.         2.08661765]]\n"
          ]
        }
      ]
    },
    {
      "cell_type": "code",
      "source": [
        "print(theta_best)"
      ],
      "metadata": {
        "colab": {
          "base_uri": "https://localhost:8080/"
        },
        "id": "_ZApThqYH492",
        "outputId": "0673b56d-1bc4-4b3f-c82a-644ab5ff65e7"
      },
      "execution_count": null,
      "outputs": [
        {
          "output_type": "stream",
          "name": "stdout",
          "text": [
            "[4.840658662407982 -1.4583391850154612]\n"
          ]
        }
      ]
    },
    {
      "cell_type": "code",
      "source": [
        "X_new = np.array([[1.5], [3]]) # 2차원 열 벡터\n",
        "X_new_b = np.c_[np.ones((2,1)), X_new] # 모든 샘플에 x0 = 1을 추가\n",
        "y_predict = X_new_b.dot(theta_best)"
      ],
      "metadata": {
        "id": "3DJP8s5ZI1oC"
      },
      "execution_count": null,
      "outputs": []
    },
    {
      "cell_type": "code",
      "source": [
        "plt.plot(X_new, y_predict, \"r-\")\n",
        "plt.plot(X, y, \"b.\")\n",
        "\n",
        "plt.show()"
      ],
      "metadata": {
        "colab": {
          "base_uri": "https://localhost:8080/",
          "height": 265
        },
        "id": "Jx1WmxgESsbo",
        "outputId": "6d76a922-b43b-403b-aa57-afb3f1d25d3c"
      },
      "execution_count": null,
      "outputs": [
        {
          "output_type": "display_data",
          "data": {
            "text/plain": [
              "<Figure size 432x288 with 1 Axes>"
            ],
            "image/png": "[encoded data removed]"
          },
          "metadata": {
            "needs_background": "light"
          }
        }
      ]
    },
    {
      "cell_type": "code",
      "source": [
        "from sklearn.model_selection import train_test_split\n",
        "X = X.reshape(-1,1)\n",
        "X_train, X_test, y_train, y_test = train_test_split(X, y, test_size=0.2, shuffle=True, random_state=42)"
      ],
      "metadata": {
        "id": "23BaVgOGVsZm"
      },
      "execution_count": null,
      "outputs": []
    },
    {
      "cell_type": "code",
      "source": [
        "from sklearn.linear_model import LinearRegression"
      ],
      "metadata": {
        "id": "MtdFyiiMSuTx"
      },
      "execution_count": null,
      "outputs": []
    },
    {
      "cell_type": "code",
      "source": [
        "# Select a linear model\n",
        "lin_model = sklearn.linear_model.LinearRegression()\n",
        "\n",
        "# Train the model\n",
        "lin_model.fit(X_train,y_train)"
      ],
      "metadata": {
        "colab": {
          "base_uri": "https://localhost:8080/"
        },
        "id": "sbmXyZ7cVo19",
        "outputId": "cc0cbc0a-965b-4203-8888-b0a8d2963a07"
      },
      "execution_count": null,
      "outputs": [
        {
          "output_type": "execute_result",
          "data": {
            "text/plain": [
              "LinearRegression()"
            ]
          },
          "metadata": {},
          "execution_count": 218
        }
      ]
    },
    {
      "cell_type": "code",
      "source": [
        "lin_model.intercept_, lin_model.coef_"
      ],
      "metadata": {
        "colab": {
          "base_uri": "https://localhost:8080/"
        },
        "id": "h5JZa-ByYxbE",
        "outputId": "189efeca-15bf-4151-e0df-a92f23eceade"
      },
      "execution_count": null,
      "outputs": [
        {
          "output_type": "execute_result",
          "data": {
            "text/plain": [
              "(4.807866729909373, array([-1.44388096]))"
            ]
          },
          "metadata": {},
          "execution_count": 219
        }
      ]
    },
    {
      "cell_type": "code",
      "source": [
        "lin_model.predict(X_new)"
      ],
      "metadata": {
        "colab": {
          "base_uri": "https://localhost:8080/"
        },
        "id": "vKKaFZ_iaxHO",
        "outputId": "f4166631-db17-4543-b1d3-866b0b3e8216"
      },
      "execution_count": null,
      "outputs": [
        {
          "output_type": "execute_result",
          "data": {
            "text/plain": [
              "array([2.64204529, 0.47622384])"
            ]
          },
          "metadata": {},
          "execution_count": 220
        }
      ]
    },
    {
      "cell_type": "markdown",
      "source": [
        "## all TA"
      ],
      "metadata": {
        "id": "XO8tNH0CiCjI"
      }
    },
    {
      "cell_type": "code",
      "source": [
        "X1_b = np.c_[np.ones((741,1)),X1] #np.c_ : 배열붙이기, np.ones : 배열 생성 (1로 채움)\n",
        "print(X1_b)\n",
        "'''\n",
        "for i in X1_b:\n",
        "  i = np.transpose(i)\n",
        "  theta_best += np.linalg.inv(i.T.dot(i)).dot(i.T).dot(y) #dot() : 행렬 곱셈\n",
        "'''\n",
        "theta_best = np.linalg.inv(X1_b.T.dot(X1_b)).dot(X1_b.T).dot(y) #dot() : 행렬 곱셈\n",
        "#theta_best /= 68\n",
        "\n",
        "theta_best\n"
      ],
      "metadata": {
        "colab": {
          "base_uri": "https://localhost:8080/"
        },
        "id": "YIhrGeB5kPwt",
        "outputId": "31b62114-40d6-4ab7-f8b2-b4ff30c5920e"
      },
      "execution_count": null,
      "outputs": [
        {
          "output_type": "stream",
          "name": "stdout",
          "text": [
            "[[1.    2.245 2.907 ... 1.639 2.85  2.971]\n",
            " [1.    2.18  3.058 ... 2.375 2.946 2.916]\n",
            " [1.    2.415 2.158 ... 2.401 2.797 2.666]\n",
            " ...\n",
            " [1.    2.307 3.17  ... 2.361 2.863 2.894]\n",
            " [1.    2.555 2.644 ... 2.392 3.131 2.94 ]\n",
            " [1.    2.29  2.009 ... 1.751 2.639 2.761]]\n"
          ]
        },
        {
          "output_type": "execute_result",
          "data": {
            "text/plain": [
              "array([1.204771332414586, -0.054565953929567694, -0.05228948278678888,\n",
              "       -0.34561395005163953, 0.04488803609158409, 0.022889237637306874,\n",
              "       0.04994042032296847, 0.15032311749987035, 0.4197692509118078,\n",
              "       -0.11693106477470348, 0.06029006412329398, -0.31159877229376953,\n",
              "       -0.08773397253736623, 0.14416121205322252, -0.14111946928763838,\n",
              "       0.019978382866660212, 0.08407981015477986, 0.1355723939842162,\n",
              "       0.04811542394086657, 0.08423672346971585, -0.04095524410945968,\n",
              "       0.11930785111523473, -0.22009659463480985, -0.007560012073245085,\n",
              "       0.3679702740377784, -0.12472604355641782, -0.022103851105669613,\n",
              "       -0.31921831277266, 0.17162482777440274, 0.11840092665392496,\n",
              "       0.3981500399092561, -0.23736077394602442, -0.0047504824605069,\n",
              "       -0.2004115731226449, 0.04558920797975235, 0.017057449523979227,\n",
              "       0.16785648722182184, -0.038888828878558546, 0.040983536527117045,\n",
              "       0.03944930179883667, 0.089999193883316, -0.4847986706026014,\n",
              "       -0.2625733373845219, -0.010402917175126055, 0.21278596178904494,\n",
              "       0.3023234854474281, -0.3079428475673093, -0.05105715197435801,\n",
              "       0.01515430162122652, 0.06600427867669374, -0.2081998398855302,\n",
              "       0.021831691386372996, -0.10039693369593894, -0.198089480362155,\n",
              "       -0.0864402265857381, 0.5035742036866988, -0.10434366779636196,\n",
              "       -0.7410343936632232, 0.3494578607395041, 0.012781624711506014,\n",
              "       0.4315599003184529, 0.07455392780279263, -0.2812718839362695,\n",
              "       0.045561558589549106, 0.2035368876162785, -0.09314973817450582,\n",
              "       0.11730008589946259, 0.041600523357234125, 0.07588426835892799],\n",
              "      dtype=object)"
            ]
          },
          "metadata": {},
          "execution_count": 221
        }
      ]
    },
    {
      "cell_type": "code",
      "source": [
        "X1_new = np.array([[0], [2]]) # 2차원 열 벡터\n",
        "X1_new_b = np.c_[np.ones((2,1)), X1_new] # 모든 샘플에 x0 = 1을 추가\n",
        "\n",
        "for i in theta_best[1:]:\n",
        "  arr = np.array([i, theta_best[0]])\n",
        "  y_predict += X1_new_b.dot(arr)\n",
        "  print(y_predict)\n",
        "\n",
        "y_predict /= 68\n",
        "plt.plot(X1_new_b, y_predict, \"r-\")\n",
        "plt.plot(X1, y, \"b.\")\n",
        "plt.show"
      ],
      "metadata": {
        "colab": {
          "base_uri": "https://localhost:8080/",
          "height": 1000
        },
        "id": "ZXnaEPnHkuPb",
        "outputId": "83e38b0c-e7e4-4b95-a2d8-486aaa6f338a"
      },
      "execution_count": null,
      "outputs": [
        {
          "output_type": "stream",
          "name": "stdout",
          "text": [
            "[-0.02671727153643058 7.228864862050999]\n",
            "[-0.07900675432321946 9.586118044093382]\n",
            "[-0.424620704374859 11.650046758870914]\n",
            "[-0.3797326682832749 14.10447745979167]\n",
            "[-0.356843430645968 16.53690936225815]\n",
            "[-0.30690301032299955 18.99639244741029]\n",
            "[-0.1565798928231292 21.55625822973933]\n",
            "[0.2631893580886786 24.38557014548031]\n",
            "[0.1462582933139751 26.67818174553478]\n",
            "[0.20654835743726907 29.148014474487244]\n",
            "[-0.10505041485650046 31.245958367022645]\n",
            "[-0.1927843873938667 33.56776705931445]\n",
            "[-0.04862317534064417 36.12147093619684]\n",
            "[-0.18974264462828255 38.38989413173837]\n",
            "[-0.16976426176162235 40.8194151794342]\n",
            "[-0.08568445160684249 43.31303765441815]\n",
            "[0.049887942377373706 45.85815271323154]\n",
            "[0.09800336631824028 48.31581080200158]\n",
            "[0.18224008978795614 50.80959019030047]\n",
            "[0.14128484567849647 53.17817761102018]\n",
            "[0.2605926967937312 55.70702812696459]\n",
            "[0.040496102158921354 57.89647419715895]\n",
            "[0.03293609008567627 60.29845684991488]\n",
            "[0.40090636412345465 63.075969788781826]\n",
            "[0.27618032056703684 65.36078641005459]\n",
            "[0.25407646946136725 67.74822522377809]\n",
            "[-0.06514184331129275 69.8385495758346]\n",
            "[0.10648298446311 72.41971706843817]\n",
            "[0.22488391111703496 74.94766065992127]\n",
            "[0.6230339510262911 77.7553533646597]\n",
            "[0.3856731770802667 79.92753525554285]\n",
            "[0.3809226946197598 82.33232743791152]\n",
            "[0.1805111214971149 84.54145852961804]\n",
            "[0.22610032947686726 86.99659040242696]\n",
            "[0.24315777900084648 89.42319051678011]\n",
            "[0.41101426622266835 92.00058966883111]\n",
            "[0.3721254373441098 94.37124350478173]\n",
            "[0.41310897387122686 96.82176970613801]\n",
            "[0.4525582756700635 99.27076167276603]\n",
            "[0.5425574695533795 101.77030353147852]\n",
            "[0.05775879895077807 103.69504752570509]\n",
            "[-0.2048145384337438 105.84201685314974]\n",
            "[-0.21521745560886987 108.24115660080379]\n",
            "[-0.002431493819824937 110.863485227422]\n",
            "[0.29989199162760316 113.57535137769861]\n",
            "[-0.008050855939706114 115.67695119496047]\n",
            "[-0.05910800791406413 118.03543670781528]\n",
            "[-0.04395370629283761 120.46013367426568]\n",
            "[0.022050572383856132 122.93568061777154]\n",
            "[-0.18614926750167407 125.13702344271518]\n",
            "[-0.16431757611530107 127.56839779893072]\n",
            "[-0.26471450981124 129.87754353006395]\n",
            "[-0.462803990173395 132.08899671453096]\n",
            "[-0.5492442167591332 134.4120991527744]\n",
            "[-0.045670013072434346 137.32521602129026]\n",
            "[-0.1500136808687963 139.63041501832308]\n",
            "[-0.8910480745320195 141.29892328948904]\n",
            "[-0.5415902137925155 144.0579238150577]\n",
            "[-0.5288085890810095 146.4802481045984]\n",
            "[-0.09724868876255655 149.321350669746]\n",
            "[-0.022694760959763915 151.80544726237798]\n",
            "[-0.3039666448960334 153.9337180432709]\n",
            "[-0.2584050863064843 156.3888222666896]\n",
            "[-0.05486819869020579 159.00190181913504]\n",
            "[-0.1480179368647116 161.3182947457897]\n",
            "[-0.03071785096524901 163.84513749651833]\n",
            "[0.010882672391985114 166.29628068470473]\n",
            "[0.0867669407509131 168.78170761789283]\n"
          ]
        },
        {
          "output_type": "execute_result",
          "data": {
            "text/plain": [
              "<function matplotlib.pyplot.show>"
            ]
          },
          "metadata": {},
          "execution_count": 234
        },
        {
          "output_type": "display_data",
          "data": {
            "text/plain": [
              "<Figure size 432x288 with 1 Axes>"
            ],
            "image/png": "[encoded data removed]"
          },
          "metadata": {
            "needs_background": "light"
          }
        }
      ]
    },
    {
      "cell_type": "code",
      "source": [
        "X1_train, X1_test = train_test_split(X1, test_size=0.2, shuffle=True, random_state=42)\n",
        "\n",
        "# Select a linear model\n",
        "lin_model1 = sklearn.linear_model.LinearRegression()\n",
        "\n",
        "# Train the model\n",
        "lin_model1.fit(X1_train,y_train)"
      ],
      "metadata": {
        "colab": {
          "base_uri": "https://localhost:8080/"
        },
        "id": "g9Jb-AEjiAyO",
        "outputId": "0df566a2-9509-4703-b0c8-8c0a43e25c2f"
      },
      "execution_count": null,
      "outputs": [
        {
          "output_type": "execute_result",
          "data": {
            "text/plain": [
              "LinearRegression()"
            ]
          },
          "metadata": {},
          "execution_count": 250
        }
      ]
    },
    {
      "cell_type": "code",
      "source": [
        "lin_model1.intercept_, lin_model1.coef_"
      ],
      "metadata": {
        "colab": {
          "base_uri": "https://localhost:8080/"
        },
        "id": "CP760sG_iwNr",
        "outputId": "089e08a5-2fc0-40b2-ab59-5ac34cadddea"
      },
      "execution_count": null,
      "outputs": [
        {
          "output_type": "execute_result",
          "data": {
            "text/plain": [
              "(1.3400990582817625,\n",
              " array([-2.70993277e-03, -4.87572631e-02, -1.72427469e-01, -6.98247874e-02,\n",
              "         5.13943386e-02,  2.83706416e-02,  1.04233925e-01,  4.58150620e-01,\n",
              "        -1.68344964e-01,  7.58071109e-03, -2.05740212e-01, -2.42735918e-02,\n",
              "         3.07403921e-01, -2.24675631e-01, -1.50361477e-02,  4.21411015e-02,\n",
              "         1.30811305e-01, -8.67982434e-02,  7.30063377e-02,  1.26345496e-02,\n",
              "         1.11958855e-01, -3.80381974e-01,  3.72097913e-02,  4.29422535e-01,\n",
              "         3.46758407e-02,  4.98932049e-02, -2.45009120e-01,  2.05198762e-01,\n",
              "         1.80117844e-01,  3.23874111e-01, -3.55874047e-01,  4.92591663e-03,\n",
              "        -1.42730876e-01, -4.06987340e-02, -2.22340452e-02,  1.61209331e-01,\n",
              "        -9.61522760e-02,  2.71211773e-02,  8.96834089e-02,  7.98216362e-02,\n",
              "        -3.59444913e-01, -3.66330403e-01,  1.33664082e-02,  2.77835235e-01,\n",
              "         2.43668395e-01, -3.58868622e-01, -3.94193759e-02, -8.06844776e-05,\n",
              "         7.06788830e-02, -2.09206785e-01,  6.20407421e-02, -1.07035272e-01,\n",
              "        -4.26820192e-02, -1.81972722e-01,  4.34215086e-01, -1.18528153e-01,\n",
              "        -7.11984104e-01,  3.26703937e-01,  4.84646159e-02,  2.08432221e-01,\n",
              "         9.89574997e-02, -5.07257033e-01,  1.35357929e-01,  2.29404927e-01,\n",
              "        -7.22499691e-02,  1.58281898e-01, -6.25350665e-02,  1.06796642e-01]))"
            ]
          },
          "metadata": {},
          "execution_count": 251
        }
      ]
    },
    {
      "cell_type": "markdown",
      "source": [
        "# Gradient Descent Algorithm"
      ],
      "metadata": {
        "id": "dkwuNHdijMpY"
      }
    },
    {
      "cell_type": "markdown",
      "source": [
        "## SGD"
      ],
      "metadata": {
        "id": "wven2pYZy-Co"
      }
    },
    {
      "cell_type": "code",
      "source": [
        "from sklearn.linear_model import SGDRegressor\n",
        "\n",
        "sgd_reg = SGDRegressor(max_iter = 1000, tol = 1e-3,random_state=42, penalty = None, eta0 = 0.1)\n",
        "sgd_reg.fit(X1_train, y_train)\n",
        "\n",
        "sgd_reg.intercept_, sgd_reg.coef_"
      ],
      "metadata": {
        "colab": {
          "base_uri": "https://localhost:8080/"
        },
        "id": "8_Ocp4QZjTaR",
        "outputId": "ccaecbd1-310f-4d9a-a069-9fecfeedf270"
      },
      "execution_count": null,
      "outputs": [
        {
          "output_type": "execute_result",
          "data": {
            "text/plain": [
              "(array([-7.73835166e+09]),\n",
              " array([ 4.75885278e+10,  2.26849430e+10, -5.05938834e+10, -3.54300454e+10,\n",
              "         8.32064248e+10, -1.22803898e+11, -5.43238857e+10,  3.64705166e+09,\n",
              "         8.98821848e+10,  1.08358320e+11,  2.56303516e+10,  2.57494505e+10,\n",
              "         6.44458850e+10, -1.28126514e+11, -1.53139748e+11, -1.59278401e+10,\n",
              "        -6.11031192e+10,  1.12515764e+11,  4.57144267e+10,  8.08334462e+10,\n",
              "         1.85525402e+09,  7.27231819e+10, -4.06785299e+10,  3.47611915e+10,\n",
              "        -6.85452451e+10, -1.50116966e+11, -7.91898196e+10,  1.58769639e+09,\n",
              "        -4.30890194e+10,  1.39224775e+11, -1.80858818e+11,  4.06085443e+10,\n",
              "         5.70997060e+10, -2.91984260e+10, -5.16777284e+10, -5.13182076e+10,\n",
              "        -8.83344124e+10,  2.59216557e+10,  1.31039277e+10,  3.32283697e+10,\n",
              "        -4.25848826e+10, -6.49433579e+10,  9.81407525e+10, -1.50095619e+11,\n",
              "        -1.33778864e+11,  1.65438730e+11,  2.38523446e+10, -1.03985395e+10,\n",
              "        -2.41137388e+10,  2.56849192e+10,  1.80846977e+11,  3.29508503e+10,\n",
              "        -2.36101625e+11, -5.91600859e+10, -1.85193875e+11, -2.25767907e+10,\n",
              "         1.76522622e+11,  6.37603628e+10, -2.78001456e+09,  9.42996189e+10,\n",
              "        -7.09195764e+10,  1.66183350e+11, -1.49853649e+11,  3.86603088e+10,\n",
              "        -5.44569383e+10,  8.53825094e+10, -1.44639345e+11, -1.15910133e+11]))"
            ]
          },
          "metadata": {},
          "execution_count": 319
        }
      ]
    },
    {
      "cell_type": "markdown",
      "source": [
        "# Polynomial Regression"
      ],
      "metadata": {
        "id": "RLG9fPg1Fhuk"
      }
    },
    {
      "cell_type": "code",
      "source": [
        ""
      ],
      "metadata": {
        "id": "upNHjvchFlZr"
      },
      "execution_count": null,
      "outputs": []
    }
  ]
}
